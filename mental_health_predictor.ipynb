{
  "cells": [
    {
      "cell_type": "code",
      "execution_count": 300,
      "metadata": {
        "id": "BiRXZkkxQsRF"
      },
      "outputs": [],
      "source": [
        "! [ -e /content ] && pip install -Uqq fastbook\n",
        "import fastbook\n",
        "fastbook.setup_book()"
      ]
    },
    {
      "cell_type": "code",
      "execution_count": 301,
      "metadata": {
        "id": "DKwuGUHkQsnW"
      },
      "outputs": [],
      "source": [
        "from fastbook import *\n",
        "from fastai.vision.widgets import *"
      ]
    },
    {
      "cell_type": "markdown",
      "metadata": {
        "id": "ta6UTKLd60Lx"
      },
      "source": [
        "Order for Tabular Model Experimentations: \n",
        "\n",
        "`Random forests -> Gradient boosting machines -> Neural networks` \n",
        "\n",
        "(based on time considerations) "
      ]
    },
    {
      "cell_type": "markdown",
      "metadata": {
        "id": "o0sz9GLkB2si"
      },
      "source": [
        "# Mental Health\n",
        "\n",
        "> [mental health kaggle data](https://www.kaggle.com/datasets/shariful07/student-mental-health)"
      ]
    },
    {
      "cell_type": "code",
      "execution_count": 302,
      "metadata": {
        "colab": {
          "base_uri": "https://localhost:8080/"
        },
        "id": "9QqWbcHDVeXm",
        "outputId": "470ea5a4-ad40-4171-89b3-2f842358cefb"
      },
      "outputs": [
        {
          "output_type": "stream",
          "name": "stdout",
          "text": [
            "Looking in indexes: https://pypi.org/simple, https://us-python.pkg.dev/colab-wheels/public/simple/\n",
            "Requirement already satisfied: treeinterpreter in /usr/local/lib/python3.7/dist-packages (0.2.3)\n",
            "Looking in indexes: https://pypi.org/simple, https://us-python.pkg.dev/colab-wheels/public/simple/\n",
            "Requirement already satisfied: waterfallcharts in /usr/local/lib/python3.7/dist-packages (3.8)\n",
            "Looking in indexes: https://pypi.org/simple, https://us-python.pkg.dev/colab-wheels/public/simple/\n",
            "Requirement already satisfied: opendatasets in /usr/local/lib/python3.7/dist-packages (0.1.22)\n",
            "Requirement already satisfied: kaggle in /usr/local/lib/python3.7/dist-packages (from opendatasets) (1.5.12)\n",
            "Requirement already satisfied: click in /usr/local/lib/python3.7/dist-packages (from opendatasets) (7.1.2)\n",
            "Requirement already satisfied: tqdm in /usr/local/lib/python3.7/dist-packages (from opendatasets) (4.64.0)\n",
            "Requirement already satisfied: six>=1.10 in /usr/local/lib/python3.7/dist-packages (from kaggle->opendatasets) (1.15.0)\n",
            "Requirement already satisfied: python-dateutil in /usr/local/lib/python3.7/dist-packages (from kaggle->opendatasets) (2.8.2)\n",
            "Requirement already satisfied: python-slugify in /usr/local/lib/python3.7/dist-packages (from kaggle->opendatasets) (6.1.2)\n",
            "Requirement already satisfied: urllib3 in /usr/local/lib/python3.7/dist-packages (from kaggle->opendatasets) (1.25.11)\n",
            "Requirement already satisfied: requests in /usr/local/lib/python3.7/dist-packages (from kaggle->opendatasets) (2.23.0)\n",
            "Requirement already satisfied: certifi in /usr/local/lib/python3.7/dist-packages (from kaggle->opendatasets) (2022.6.15)\n",
            "Requirement already satisfied: text-unidecode>=1.3 in /usr/local/lib/python3.7/dist-packages (from python-slugify->kaggle->opendatasets) (1.3)\n",
            "Requirement already satisfied: idna<3,>=2.5 in /usr/local/lib/python3.7/dist-packages (from requests->kaggle->opendatasets) (2.10)\n",
            "Requirement already satisfied: chardet<4,>=3.0.2 in /usr/local/lib/python3.7/dist-packages (from requests->kaggle->opendatasets) (3.0.4)\n",
            "Looking in indexes: https://pypi.org/simple, https://us-python.pkg.dev/colab-wheels/public/simple/\n",
            "Requirement already satisfied: dtreeviz in /usr/local/lib/python3.7/dist-packages (1.3.6)\n",
            "Requirement already satisfied: scikit-learn in /usr/local/lib/python3.7/dist-packages (from dtreeviz) (1.0.2)\n",
            "Requirement already satisfied: graphviz>=0.9 in /usr/local/lib/python3.7/dist-packages (from dtreeviz) (0.10.1)\n",
            "Requirement already satisfied: pandas in /usr/local/lib/python3.7/dist-packages (from dtreeviz) (1.3.5)\n",
            "Requirement already satisfied: numpy in /usr/local/lib/python3.7/dist-packages (from dtreeviz) (1.21.6)\n",
            "Requirement already satisfied: matplotlib in /usr/local/lib/python3.7/dist-packages (from dtreeviz) (3.2.2)\n",
            "Requirement already satisfied: colour in /usr/local/lib/python3.7/dist-packages (from dtreeviz) (0.1.5)\n",
            "Requirement already satisfied: pytest in /usr/local/lib/python3.7/dist-packages (from dtreeviz) (3.6.4)\n",
            "Requirement already satisfied: python-dateutil>=2.1 in /usr/local/lib/python3.7/dist-packages (from matplotlib->dtreeviz) (2.8.2)\n",
            "Requirement already satisfied: cycler>=0.10 in /usr/local/lib/python3.7/dist-packages (from matplotlib->dtreeviz) (0.11.0)\n",
            "Requirement already satisfied: pyparsing!=2.0.4,!=2.1.2,!=2.1.6,>=2.0.1 in /usr/local/lib/python3.7/dist-packages (from matplotlib->dtreeviz) (3.0.9)\n",
            "Requirement already satisfied: kiwisolver>=1.0.1 in /usr/local/lib/python3.7/dist-packages (from matplotlib->dtreeviz) (1.4.3)\n",
            "Requirement already satisfied: typing-extensions in /usr/local/lib/python3.7/dist-packages (from kiwisolver>=1.0.1->matplotlib->dtreeviz) (4.1.1)\n",
            "Requirement already satisfied: six>=1.5 in /usr/local/lib/python3.7/dist-packages (from python-dateutil>=2.1->matplotlib->dtreeviz) (1.15.0)\n",
            "Requirement already satisfied: pytz>=2017.3 in /usr/local/lib/python3.7/dist-packages (from pandas->dtreeviz) (2022.1)\n",
            "Requirement already satisfied: py>=1.5.0 in /usr/local/lib/python3.7/dist-packages (from pytest->dtreeviz) (1.11.0)\n",
            "Requirement already satisfied: atomicwrites>=1.0 in /usr/local/lib/python3.7/dist-packages (from pytest->dtreeviz) (1.4.0)\n",
            "Requirement already satisfied: setuptools in /usr/local/lib/python3.7/dist-packages (from pytest->dtreeviz) (57.4.0)\n",
            "Requirement already satisfied: pluggy<0.8,>=0.5 in /usr/local/lib/python3.7/dist-packages (from pytest->dtreeviz) (0.7.1)\n",
            "Requirement already satisfied: attrs>=17.4.0 in /usr/local/lib/python3.7/dist-packages (from pytest->dtreeviz) (21.4.0)\n",
            "Requirement already satisfied: more-itertools>=4.0.0 in /usr/local/lib/python3.7/dist-packages (from pytest->dtreeviz) (8.13.0)\n",
            "Requirement already satisfied: threadpoolctl>=2.0.0 in /usr/local/lib/python3.7/dist-packages (from scikit-learn->dtreeviz) (3.1.0)\n",
            "Requirement already satisfied: scipy>=1.1.0 in /usr/local/lib/python3.7/dist-packages (from scikit-learn->dtreeviz) (1.4.1)\n",
            "Requirement already satisfied: joblib>=0.11 in /usr/local/lib/python3.7/dist-packages (from scikit-learn->dtreeviz) (1.1.0)\n",
            "Looking in indexes: https://pypi.org/simple, https://us-python.pkg.dev/colab-wheels/public/simple/\n",
            "Looking in links: https://sklearn-nightly.scdn8.secure.raxcdn.com\n",
            "Requirement already satisfied: scikit-learn in /usr/local/lib/python3.7/dist-packages (1.0.2)\n",
            "Requirement already satisfied: threadpoolctl>=2.0.0 in /usr/local/lib/python3.7/dist-packages (from scikit-learn) (3.1.0)\n",
            "Requirement already satisfied: numpy>=1.14.6 in /usr/local/lib/python3.7/dist-packages (from scikit-learn) (1.21.6)\n",
            "Requirement already satisfied: scipy>=1.1.0 in /usr/local/lib/python3.7/dist-packages (from scikit-learn) (1.4.1)\n",
            "Requirement already satisfied: joblib>=0.11 in /usr/local/lib/python3.7/dist-packages (from scikit-learn) (1.1.0)\n"
          ]
        }
      ],
      "source": [
        "! [ -e /content ] && pip install treeinterpreter\n",
        "! [ -e /content ] && pip install waterfallcharts\n",
        "! [ -e /content ] && pip install opendatasets\n",
        "! [ -e /content ] && pip install dtreeviz\n",
        "! [ -e /content ] && pip install -f https://sklearn-nightly.scdn8.secure.raxcdn.com scikit-learn"
      ]
    },
    {
      "cell_type": "code",
      "execution_count": 303,
      "metadata": {
        "id": "ly_bf0g_VgOW"
      },
      "outputs": [],
      "source": [
        "import opendatasets as od\n",
        "from pandas.api.types import is_string_dtype, is_numeric_dtype, is_categorical_dtype\n",
        "from fastai.tabular.all import *\n",
        "from sklearn.ensemble import RandomForestRegressor\n",
        "from sklearn.tree import DecisionTreeRegressor\n",
        "from dtreeviz.trees import *\n",
        "from IPython.display import Image, display_svg, SVG\n",
        "import random\n",
        "import warnings\n",
        "warnings.simplefilter('ignore', FutureWarning)\n",
        "\n",
        "from treeinterpreter import treeinterpreter\n",
        "from waterfall_chart import plot as waterfall\n",
        "pd.options.display.max_rows = 20\n",
        "pd.options.display.max_columns = 8"
      ]
    },
    {
      "cell_type": "code",
      "execution_count": 304,
      "metadata": {
        "colab": {
          "base_uri": "https://localhost:8080/"
        },
        "id": "NbC_qGURVac-",
        "outputId": "e100f491-b4bd-4c7f-b545-88509cfc8d64"
      },
      "outputs": [
        {
          "output_type": "stream",
          "name": "stdout",
          "text": [
            "Skipping, found downloaded files in \"./student-mental-health\" (use force=True to force download)\n"
          ]
        }
      ],
      "source": [
        "od.download(\"https://www.kaggle.com/datasets/shariful07/student-mental-health?resource=download\")"
      ]
    },
    {
      "cell_type": "code",
      "execution_count": 305,
      "metadata": {
        "colab": {
          "base_uri": "https://localhost:8080/"
        },
        "id": "4baIaL9ygbi0",
        "outputId": "d8bc3e66-cc94-402d-bf41-ee651d80ff43"
      },
      "outputs": [
        {
          "output_type": "execute_result",
          "data": {
            "text/plain": [
              "Index(['Timestamp', 'Choose your gender', 'Age', 'What is your course?',\n",
              "       'Your current year of Study', 'What is your CGPA?', 'Marital status',\n",
              "       'Do you have Depression?', 'Do you have Anxiety?',\n",
              "       'Do you have Panic attack?',\n",
              "       'Did you seek any specialist for a treatment?'],\n",
              "      dtype='object')"
            ]
          },
          "metadata": {},
          "execution_count": 305
        }
      ],
      "source": [
        "# read csv into a Pandas DataFrame\n",
        "df = pd.read_csv('student-mental-health/Student Mental health.csv', low_memory=False)\n",
        "df.columns"
      ]
    },
    {
      "cell_type": "code",
      "execution_count": 306,
      "metadata": {
        "colab": {
          "base_uri": "https://localhost:8080/"
        },
        "id": "9__jAre-oKIF",
        "outputId": "2e263daf-bd19-4371-97f8-49efe99f5b63"
      },
      "outputs": [
        {
          "output_type": "execute_result",
          "data": {
            "text/plain": [
              "array(['Engineering', 'Islamic education', 'BIT', 'Laws', 'Mathemathics', 'Pendidikan islam', 'BCS', 'Human Resources', 'Irkhs', 'Psychology', 'KENMS', 'Accounting ', 'ENM', 'Marine science', 'KOE',\n",
              "       'Banking Studies', 'Business Administration', 'Law', 'KIRKHS', 'Usuluddin ', 'TAASL', 'Engine', 'ALA', 'Biomedical science', 'koe', 'Kirkhs', 'BENL', 'Benl', 'IT', 'CTS', 'engin', 'Econs',\n",
              "       'MHSC', 'Malcom', 'Kop', 'Human Sciences ', 'Biotechnology', 'Communication ', 'Diploma Nursing', 'Pendidikan Islam ', 'Radiography', 'psychology', 'Fiqh fatwa ', 'DIPLOMA TESL', 'Koe',\n",
              "       'Fiqh', 'Islamic Education', 'Nursing ', 'Pendidikan Islam'], dtype=object)"
            ]
          },
          "metadata": {},
          "execution_count": 306
        }
      ],
      "source": [
        "## data explorations\n",
        "# find out how many unique topics there are\n",
        "unique_topics = df[\"What is your course?\"].unique()\n",
        "unique_topics"
      ]
    },
    {
      "cell_type": "code",
      "execution_count": 307,
      "metadata": {
        "id": "breRpQLloLMj"
      },
      "outputs": [],
      "source": [
        "# map topics to integers\n",
        "unique_topics_dict = {}\n",
        "leng = len(unique_topics)\n",
        "for i in range(leng):\n",
        "  unique_topics_dict[unique_topics[i]] = i"
      ]
    },
    {
      "cell_type": "code",
      "execution_count": 308,
      "metadata": {
        "colab": {
          "base_uri": "https://localhost:8080/",
          "height": 430
        },
        "id": "u-Fa4RYhoLgH",
        "outputId": "8bef58e0-a7e7-453e-f77c-a6f58c50df2a"
      },
      "outputs": [
        {
          "output_type": "execute_result",
          "data": {
            "text/plain": [
              "        Timestamp Choose your gender   Age  What is your course?  ...  \\\n",
              "0  8/7/2020 12:02             Female  18.0                     0  ...   \n",
              "1  8/7/2020 12:04               Male  21.0                     1  ...   \n",
              "2  8/7/2020 12:05               Male  19.0                     2  ...   \n",
              "3  8/7/2020 12:06             Female  22.0                     3  ...   \n",
              "4  8/7/2020 12:13               Male  23.0                     4  ...   \n",
              "\n",
              "  Do you have Depression? Do you have Anxiety? Do you have Panic attack?  \\\n",
              "0                     Yes                   No                       Yes   \n",
              "1                      No                  Yes                        No   \n",
              "2                     Yes                  Yes                       Yes   \n",
              "3                     Yes                   No                        No   \n",
              "4                      No                   No                        No   \n",
              "\n",
              "  Did you seek any specialist for a treatment?  \n",
              "0                                           No  \n",
              "1                                           No  \n",
              "2                                           No  \n",
              "3                                           No  \n",
              "4                                           No  \n",
              "\n",
              "[5 rows x 11 columns]"
            ],
            "text/html": [
              "\n",
              "  <div id=\"df-9b9b50f5-885b-4651-9fb4-00c347e98ce3\">\n",
              "    <div class=\"colab-df-container\">\n",
              "      <div>\n",
              "<style scoped>\n",
              "    .dataframe tbody tr th:only-of-type {\n",
              "        vertical-align: middle;\n",
              "    }\n",
              "\n",
              "    .dataframe tbody tr th {\n",
              "        vertical-align: top;\n",
              "    }\n",
              "\n",
              "    .dataframe thead th {\n",
              "        text-align: right;\n",
              "    }\n",
              "</style>\n",
              "<table border=\"1\" class=\"dataframe\">\n",
              "  <thead>\n",
              "    <tr style=\"text-align: right;\">\n",
              "      <th></th>\n",
              "      <th>Timestamp</th>\n",
              "      <th>Choose your gender</th>\n",
              "      <th>Age</th>\n",
              "      <th>What is your course?</th>\n",
              "      <th>...</th>\n",
              "      <th>Do you have Depression?</th>\n",
              "      <th>Do you have Anxiety?</th>\n",
              "      <th>Do you have Panic attack?</th>\n",
              "      <th>Did you seek any specialist for a treatment?</th>\n",
              "    </tr>\n",
              "  </thead>\n",
              "  <tbody>\n",
              "    <tr>\n",
              "      <th>0</th>\n",
              "      <td>8/7/2020 12:02</td>\n",
              "      <td>Female</td>\n",
              "      <td>18.0</td>\n",
              "      <td>0</td>\n",
              "      <td>...</td>\n",
              "      <td>Yes</td>\n",
              "      <td>No</td>\n",
              "      <td>Yes</td>\n",
              "      <td>No</td>\n",
              "    </tr>\n",
              "    <tr>\n",
              "      <th>1</th>\n",
              "      <td>8/7/2020 12:04</td>\n",
              "      <td>Male</td>\n",
              "      <td>21.0</td>\n",
              "      <td>1</td>\n",
              "      <td>...</td>\n",
              "      <td>No</td>\n",
              "      <td>Yes</td>\n",
              "      <td>No</td>\n",
              "      <td>No</td>\n",
              "    </tr>\n",
              "    <tr>\n",
              "      <th>2</th>\n",
              "      <td>8/7/2020 12:05</td>\n",
              "      <td>Male</td>\n",
              "      <td>19.0</td>\n",
              "      <td>2</td>\n",
              "      <td>...</td>\n",
              "      <td>Yes</td>\n",
              "      <td>Yes</td>\n",
              "      <td>Yes</td>\n",
              "      <td>No</td>\n",
              "    </tr>\n",
              "    <tr>\n",
              "      <th>3</th>\n",
              "      <td>8/7/2020 12:06</td>\n",
              "      <td>Female</td>\n",
              "      <td>22.0</td>\n",
              "      <td>3</td>\n",
              "      <td>...</td>\n",
              "      <td>Yes</td>\n",
              "      <td>No</td>\n",
              "      <td>No</td>\n",
              "      <td>No</td>\n",
              "    </tr>\n",
              "    <tr>\n",
              "      <th>4</th>\n",
              "      <td>8/7/2020 12:13</td>\n",
              "      <td>Male</td>\n",
              "      <td>23.0</td>\n",
              "      <td>4</td>\n",
              "      <td>...</td>\n",
              "      <td>No</td>\n",
              "      <td>No</td>\n",
              "      <td>No</td>\n",
              "      <td>No</td>\n",
              "    </tr>\n",
              "  </tbody>\n",
              "</table>\n",
              "<p>5 rows × 11 columns</p>\n",
              "</div>\n",
              "      <button class=\"colab-df-convert\" onclick=\"convertToInteractive('df-9b9b50f5-885b-4651-9fb4-00c347e98ce3')\"\n",
              "              title=\"Convert this dataframe to an interactive table.\"\n",
              "              style=\"display:none;\">\n",
              "        \n",
              "  <svg xmlns=\"http://www.w3.org/2000/svg\" height=\"24px\"viewBox=\"0 0 24 24\"\n",
              "       width=\"24px\">\n",
              "    <path d=\"M0 0h24v24H0V0z\" fill=\"none\"/>\n",
              "    <path d=\"M18.56 5.44l.94 2.06.94-2.06 2.06-.94-2.06-.94-.94-2.06-.94 2.06-2.06.94zm-11 1L8.5 8.5l.94-2.06 2.06-.94-2.06-.94L8.5 2.5l-.94 2.06-2.06.94zm10 10l.94 2.06.94-2.06 2.06-.94-2.06-.94-.94-2.06-.94 2.06-2.06.94z\"/><path d=\"M17.41 7.96l-1.37-1.37c-.4-.4-.92-.59-1.43-.59-.52 0-1.04.2-1.43.59L10.3 9.45l-7.72 7.72c-.78.78-.78 2.05 0 2.83L4 21.41c.39.39.9.59 1.41.59.51 0 1.02-.2 1.41-.59l7.78-7.78 2.81-2.81c.8-.78.8-2.07 0-2.86zM5.41 20L4 18.59l7.72-7.72 1.47 1.35L5.41 20z\"/>\n",
              "  </svg>\n",
              "      </button>\n",
              "      \n",
              "  <style>\n",
              "    .colab-df-container {\n",
              "      display:flex;\n",
              "      flex-wrap:wrap;\n",
              "      gap: 12px;\n",
              "    }\n",
              "\n",
              "    .colab-df-convert {\n",
              "      background-color: #E8F0FE;\n",
              "      border: none;\n",
              "      border-radius: 50%;\n",
              "      cursor: pointer;\n",
              "      display: none;\n",
              "      fill: #1967D2;\n",
              "      height: 32px;\n",
              "      padding: 0 0 0 0;\n",
              "      width: 32px;\n",
              "    }\n",
              "\n",
              "    .colab-df-convert:hover {\n",
              "      background-color: #E2EBFA;\n",
              "      box-shadow: 0px 1px 2px rgba(60, 64, 67, 0.3), 0px 1px 3px 1px rgba(60, 64, 67, 0.15);\n",
              "      fill: #174EA6;\n",
              "    }\n",
              "\n",
              "    [theme=dark] .colab-df-convert {\n",
              "      background-color: #3B4455;\n",
              "      fill: #D2E3FC;\n",
              "    }\n",
              "\n",
              "    [theme=dark] .colab-df-convert:hover {\n",
              "      background-color: #434B5C;\n",
              "      box-shadow: 0px 1px 3px 1px rgba(0, 0, 0, 0.15);\n",
              "      filter: drop-shadow(0px 1px 2px rgba(0, 0, 0, 0.3));\n",
              "      fill: #FFFFFF;\n",
              "    }\n",
              "  </style>\n",
              "\n",
              "      <script>\n",
              "        const buttonEl =\n",
              "          document.querySelector('#df-9b9b50f5-885b-4651-9fb4-00c347e98ce3 button.colab-df-convert');\n",
              "        buttonEl.style.display =\n",
              "          google.colab.kernel.accessAllowed ? 'block' : 'none';\n",
              "\n",
              "        async function convertToInteractive(key) {\n",
              "          const element = document.querySelector('#df-9b9b50f5-885b-4651-9fb4-00c347e98ce3');\n",
              "          const dataTable =\n",
              "            await google.colab.kernel.invokeFunction('convertToInteractive',\n",
              "                                                     [key], {});\n",
              "          if (!dataTable) return;\n",
              "\n",
              "          const docLinkHtml = 'Like what you see? Visit the ' +\n",
              "            '<a target=\"_blank\" href=https://colab.research.google.com/notebooks/data_table.ipynb>data table notebook</a>'\n",
              "            + ' to learn more about interactive tables.';\n",
              "          element.innerHTML = '';\n",
              "          dataTable['output_type'] = 'display_data';\n",
              "          await google.colab.output.renderOutput(dataTable, element);\n",
              "          const docLink = document.createElement('div');\n",
              "          docLink.innerHTML = docLinkHtml;\n",
              "          element.appendChild(docLink);\n",
              "        }\n",
              "      </script>\n",
              "    </div>\n",
              "  </div>\n",
              "  "
            ]
          },
          "metadata": {},
          "execution_count": 308
        }
      ],
      "source": [
        "# use data exploration to update table using one-hot encoding\n",
        "df[\"What is your course?\"].replace(unique_topics_dict, inplace=True)\n",
        "df.head(5)"
      ]
    },
    {
      "cell_type": "code",
      "execution_count": 309,
      "metadata": {
        "id": "z2T_NI62uyG6"
      },
      "outputs": [],
      "source": [
        "GPAs = df['What is your CGPA?']"
      ]
    },
    {
      "cell_type": "code",
      "execution_count": 310,
      "metadata": {
        "id": "Pn5rH9Eauzbo"
      },
      "outputs": [],
      "source": [
        "def calc_gpa(GPA):\n",
        "  split = GPA.split()\n",
        "  split0 = split[0]\n",
        "  split1 = split[2]\n",
        "  aveGPA = (float(split0) + float(split1)) / 2\n",
        "  return GPA, aveGPA"
      ]
    },
    {
      "cell_type": "code",
      "execution_count": 311,
      "metadata": {
        "id": "_JIgUAxEuuxK"
      },
      "outputs": [],
      "source": [
        "gpa_dict = {}\n",
        "for GPA in GPAs:\n",
        "  gpa_dict[GPA] = calc_gpa(GPA)[1]"
      ]
    },
    {
      "cell_type": "code",
      "execution_count": 312,
      "metadata": {
        "colab": {
          "base_uri": "https://localhost:8080/"
        },
        "id": "lCaFekppvatW",
        "outputId": "903a7695-1fa6-4cbe-e344-bcd035635844"
      },
      "outputs": [
        {
          "output_type": "execute_result",
          "data": {
            "text/plain": [
              "0    3.245\n",
              "1    3.245\n",
              "2    3.245\n",
              "3    3.245\n",
              "4    3.245\n",
              "Name: What is your CGPA?, dtype: float64"
            ]
          },
          "metadata": {},
          "execution_count": 312
        }
      ],
      "source": [
        "df[\"What is your CGPA?\"].replace(gpa_dict, inplace=True)\n",
        "out = df[\"What is your CGPA?\"]\n",
        "out.head(5)"
      ]
    },
    {
      "cell_type": "code",
      "execution_count": 313,
      "metadata": {
        "colab": {
          "base_uri": "https://localhost:8080/",
          "height": 430
        },
        "id": "eAxZpIDSjapU",
        "outputId": "f9a84b41-d959-49df-d9f1-14b891cc63f7"
      },
      "outputs": [
        {
          "output_type": "execute_result",
          "data": {
            "text/plain": [
              "        Timestamp  Choose your gender   Age  What is your course?  ...  \\\n",
              "0  8/7/2020 12:02                 1.0  18.0                     0  ...   \n",
              "1  8/7/2020 12:04                 0.0  21.0                     1  ...   \n",
              "2  8/7/2020 12:05                 0.0  19.0                     2  ...   \n",
              "3  8/7/2020 12:06                 1.0  22.0                     3  ...   \n",
              "4  8/7/2020 12:13                 0.0  23.0                     4  ...   \n",
              "\n",
              "   Do you have Depression?  Do you have Anxiety?  Do you have Panic attack?  \\\n",
              "0                        1                     0                          1   \n",
              "1                        0                     1                          0   \n",
              "2                        1                     1                          1   \n",
              "3                        1                     0                          0   \n",
              "4                        0                     0                          0   \n",
              "\n",
              "   Did you seek any specialist for a treatment?  \n",
              "0                                             0  \n",
              "1                                             0  \n",
              "2                                             0  \n",
              "3                                             0  \n",
              "4                                             0  \n",
              "\n",
              "[5 rows x 11 columns]"
            ],
            "text/html": [
              "\n",
              "  <div id=\"df-b0609f42-ce6e-4013-bfe4-3cb35a03e020\">\n",
              "    <div class=\"colab-df-container\">\n",
              "      <div>\n",
              "<style scoped>\n",
              "    .dataframe tbody tr th:only-of-type {\n",
              "        vertical-align: middle;\n",
              "    }\n",
              "\n",
              "    .dataframe tbody tr th {\n",
              "        vertical-align: top;\n",
              "    }\n",
              "\n",
              "    .dataframe thead th {\n",
              "        text-align: right;\n",
              "    }\n",
              "</style>\n",
              "<table border=\"1\" class=\"dataframe\">\n",
              "  <thead>\n",
              "    <tr style=\"text-align: right;\">\n",
              "      <th></th>\n",
              "      <th>Timestamp</th>\n",
              "      <th>Choose your gender</th>\n",
              "      <th>Age</th>\n",
              "      <th>What is your course?</th>\n",
              "      <th>...</th>\n",
              "      <th>Do you have Depression?</th>\n",
              "      <th>Do you have Anxiety?</th>\n",
              "      <th>Do you have Panic attack?</th>\n",
              "      <th>Did you seek any specialist for a treatment?</th>\n",
              "    </tr>\n",
              "  </thead>\n",
              "  <tbody>\n",
              "    <tr>\n",
              "      <th>0</th>\n",
              "      <td>8/7/2020 12:02</td>\n",
              "      <td>1.0</td>\n",
              "      <td>18.0</td>\n",
              "      <td>0</td>\n",
              "      <td>...</td>\n",
              "      <td>1</td>\n",
              "      <td>0</td>\n",
              "      <td>1</td>\n",
              "      <td>0</td>\n",
              "    </tr>\n",
              "    <tr>\n",
              "      <th>1</th>\n",
              "      <td>8/7/2020 12:04</td>\n",
              "      <td>0.0</td>\n",
              "      <td>21.0</td>\n",
              "      <td>1</td>\n",
              "      <td>...</td>\n",
              "      <td>0</td>\n",
              "      <td>1</td>\n",
              "      <td>0</td>\n",
              "      <td>0</td>\n",
              "    </tr>\n",
              "    <tr>\n",
              "      <th>2</th>\n",
              "      <td>8/7/2020 12:05</td>\n",
              "      <td>0.0</td>\n",
              "      <td>19.0</td>\n",
              "      <td>2</td>\n",
              "      <td>...</td>\n",
              "      <td>1</td>\n",
              "      <td>1</td>\n",
              "      <td>1</td>\n",
              "      <td>0</td>\n",
              "    </tr>\n",
              "    <tr>\n",
              "      <th>3</th>\n",
              "      <td>8/7/2020 12:06</td>\n",
              "      <td>1.0</td>\n",
              "      <td>22.0</td>\n",
              "      <td>3</td>\n",
              "      <td>...</td>\n",
              "      <td>1</td>\n",
              "      <td>0</td>\n",
              "      <td>0</td>\n",
              "      <td>0</td>\n",
              "    </tr>\n",
              "    <tr>\n",
              "      <th>4</th>\n",
              "      <td>8/7/2020 12:13</td>\n",
              "      <td>0.0</td>\n",
              "      <td>23.0</td>\n",
              "      <td>4</td>\n",
              "      <td>...</td>\n",
              "      <td>0</td>\n",
              "      <td>0</td>\n",
              "      <td>0</td>\n",
              "      <td>0</td>\n",
              "    </tr>\n",
              "  </tbody>\n",
              "</table>\n",
              "<p>5 rows × 11 columns</p>\n",
              "</div>\n",
              "      <button class=\"colab-df-convert\" onclick=\"convertToInteractive('df-b0609f42-ce6e-4013-bfe4-3cb35a03e020')\"\n",
              "              title=\"Convert this dataframe to an interactive table.\"\n",
              "              style=\"display:none;\">\n",
              "        \n",
              "  <svg xmlns=\"http://www.w3.org/2000/svg\" height=\"24px\"viewBox=\"0 0 24 24\"\n",
              "       width=\"24px\">\n",
              "    <path d=\"M0 0h24v24H0V0z\" fill=\"none\"/>\n",
              "    <path d=\"M18.56 5.44l.94 2.06.94-2.06 2.06-.94-2.06-.94-.94-2.06-.94 2.06-2.06.94zm-11 1L8.5 8.5l.94-2.06 2.06-.94-2.06-.94L8.5 2.5l-.94 2.06-2.06.94zm10 10l.94 2.06.94-2.06 2.06-.94-2.06-.94-.94-2.06-.94 2.06-2.06.94z\"/><path d=\"M17.41 7.96l-1.37-1.37c-.4-.4-.92-.59-1.43-.59-.52 0-1.04.2-1.43.59L10.3 9.45l-7.72 7.72c-.78.78-.78 2.05 0 2.83L4 21.41c.39.39.9.59 1.41.59.51 0 1.02-.2 1.41-.59l7.78-7.78 2.81-2.81c.8-.78.8-2.07 0-2.86zM5.41 20L4 18.59l7.72-7.72 1.47 1.35L5.41 20z\"/>\n",
              "  </svg>\n",
              "      </button>\n",
              "      \n",
              "  <style>\n",
              "    .colab-df-container {\n",
              "      display:flex;\n",
              "      flex-wrap:wrap;\n",
              "      gap: 12px;\n",
              "    }\n",
              "\n",
              "    .colab-df-convert {\n",
              "      background-color: #E8F0FE;\n",
              "      border: none;\n",
              "      border-radius: 50%;\n",
              "      cursor: pointer;\n",
              "      display: none;\n",
              "      fill: #1967D2;\n",
              "      height: 32px;\n",
              "      padding: 0 0 0 0;\n",
              "      width: 32px;\n",
              "    }\n",
              "\n",
              "    .colab-df-convert:hover {\n",
              "      background-color: #E2EBFA;\n",
              "      box-shadow: 0px 1px 2px rgba(60, 64, 67, 0.3), 0px 1px 3px 1px rgba(60, 64, 67, 0.15);\n",
              "      fill: #174EA6;\n",
              "    }\n",
              "\n",
              "    [theme=dark] .colab-df-convert {\n",
              "      background-color: #3B4455;\n",
              "      fill: #D2E3FC;\n",
              "    }\n",
              "\n",
              "    [theme=dark] .colab-df-convert:hover {\n",
              "      background-color: #434B5C;\n",
              "      box-shadow: 0px 1px 3px 1px rgba(0, 0, 0, 0.15);\n",
              "      filter: drop-shadow(0px 1px 2px rgba(0, 0, 0, 0.3));\n",
              "      fill: #FFFFFF;\n",
              "    }\n",
              "  </style>\n",
              "\n",
              "      <script>\n",
              "        const buttonEl =\n",
              "          document.querySelector('#df-b0609f42-ce6e-4013-bfe4-3cb35a03e020 button.colab-df-convert');\n",
              "        buttonEl.style.display =\n",
              "          google.colab.kernel.accessAllowed ? 'block' : 'none';\n",
              "\n",
              "        async function convertToInteractive(key) {\n",
              "          const element = document.querySelector('#df-b0609f42-ce6e-4013-bfe4-3cb35a03e020');\n",
              "          const dataTable =\n",
              "            await google.colab.kernel.invokeFunction('convertToInteractive',\n",
              "                                                     [key], {});\n",
              "          if (!dataTable) return;\n",
              "\n",
              "          const docLinkHtml = 'Like what you see? Visit the ' +\n",
              "            '<a target=\"_blank\" href=https://colab.research.google.com/notebooks/data_table.ipynb>data table notebook</a>'\n",
              "            + ' to learn more about interactive tables.';\n",
              "          element.innerHTML = '';\n",
              "          dataTable['output_type'] = 'display_data';\n",
              "          await google.colab.output.renderOutput(dataTable, element);\n",
              "          const docLink = document.createElement('div');\n",
              "          docLink.innerHTML = docLinkHtml;\n",
              "          element.appendChild(docLink);\n",
              "        }\n",
              "      </script>\n",
              "    </div>\n",
              "  </div>\n",
              "  "
            ]
          },
          "metadata": {},
          "execution_count": 313
        }
      ],
      "source": [
        "# after some further data explorations, more one-hot encoding\n",
        "df[\"Do you have Depression?\"].replace({\"Yes\": 1, \"No\": 0}, inplace=True)\n",
        "df[\"Do you have Anxiety?\"].replace({\"Yes\": 1, \"No\": 0}, inplace=True)\n",
        "df[\"Do you have Panic attack?\"].replace({\"Yes\": 1, \"No\": 0}, inplace=True)\n",
        "df[\"Choose your gender\"].replace({\"Female\": 1.0, \"Male\": 0.0}, inplace=True)\n",
        "df[\"Your current year of Study\"].replace({\"year 1\": 1, \"year 2\": 2, \"year 3\": 3, \"year 4\": 4, \"Year 1\": 1, \"Year 2\": 2, \"Year 3\": 3, \"Year 4\": 4}, inplace=True)\n",
        "df[\"Did you seek any specialist for a treatment?\"].replace({\"Yes\": 1, \"No\": 0}, inplace=True)\n",
        "df['Marital status'].replace({\"Yes\": 1, \"No\": 0}, inplace=True)\n",
        "df.head(5)"
      ]
    },
    {
      "cell_type": "code",
      "execution_count": 314,
      "metadata": {
        "id": "N8cCcPR-pSF-"
      },
      "outputs": [],
      "source": [
        "# if we want to predict mental health issue likelyhood, we need a \n",
        "# metric for this, we will assign a 1 to any YES in mental health  \n",
        "# related columns and 0 to any NO, then take the sums and put  \n",
        "# them into a column MENTAL_HEALTH_SCORE"
      ]
    },
    {
      "cell_type": "code",
      "execution_count": 315,
      "metadata": {
        "id": "gcibhsp9pPun"
      },
      "outputs": [],
      "source": [
        "def add_cols(x, y, z):\n",
        "  return x + y + z"
      ]
    },
    {
      "cell_type": "code",
      "execution_count": 316,
      "metadata": {
        "colab": {
          "base_uri": "https://localhost:8080/",
          "height": 413
        },
        "id": "ndQvGjknpNfh",
        "outputId": "c60f0360-f5fa-4578-bb43-bb4de2eb7193"
      },
      "outputs": [
        {
          "output_type": "execute_result",
          "data": {
            "text/plain": [
              "        Timestamp  Choose your gender   Age  What is your course?  ...  \\\n",
              "0  8/7/2020 12:02                 1.0  18.0                     0  ...   \n",
              "1  8/7/2020 12:04                 0.0  21.0                     1  ...   \n",
              "2  8/7/2020 12:05                 0.0  19.0                     2  ...   \n",
              "3  8/7/2020 12:06                 1.0  22.0                     3  ...   \n",
              "4  8/7/2020 12:13                 0.0  23.0                     4  ...   \n",
              "\n",
              "   Do you have Anxiety?  Do you have Panic attack?  \\\n",
              "0                     0                          1   \n",
              "1                     1                          0   \n",
              "2                     1                          1   \n",
              "3                     0                          0   \n",
              "4                     0                          0   \n",
              "\n",
              "   Did you seek any specialist for a treatment?  MENTAL HEALTH SCORE  \n",
              "0                                             0                    2  \n",
              "1                                             0                    1  \n",
              "2                                             0                    3  \n",
              "3                                             0                    1  \n",
              "4                                             0                    0  \n",
              "\n",
              "[5 rows x 12 columns]"
            ],
            "text/html": [
              "\n",
              "  <div id=\"df-652694e3-1f46-416f-90df-f2f4e00cf67f\">\n",
              "    <div class=\"colab-df-container\">\n",
              "      <div>\n",
              "<style scoped>\n",
              "    .dataframe tbody tr th:only-of-type {\n",
              "        vertical-align: middle;\n",
              "    }\n",
              "\n",
              "    .dataframe tbody tr th {\n",
              "        vertical-align: top;\n",
              "    }\n",
              "\n",
              "    .dataframe thead th {\n",
              "        text-align: right;\n",
              "    }\n",
              "</style>\n",
              "<table border=\"1\" class=\"dataframe\">\n",
              "  <thead>\n",
              "    <tr style=\"text-align: right;\">\n",
              "      <th></th>\n",
              "      <th>Timestamp</th>\n",
              "      <th>Choose your gender</th>\n",
              "      <th>Age</th>\n",
              "      <th>What is your course?</th>\n",
              "      <th>...</th>\n",
              "      <th>Do you have Anxiety?</th>\n",
              "      <th>Do you have Panic attack?</th>\n",
              "      <th>Did you seek any specialist for a treatment?</th>\n",
              "      <th>MENTAL HEALTH SCORE</th>\n",
              "    </tr>\n",
              "  </thead>\n",
              "  <tbody>\n",
              "    <tr>\n",
              "      <th>0</th>\n",
              "      <td>8/7/2020 12:02</td>\n",
              "      <td>1.0</td>\n",
              "      <td>18.0</td>\n",
              "      <td>0</td>\n",
              "      <td>...</td>\n",
              "      <td>0</td>\n",
              "      <td>1</td>\n",
              "      <td>0</td>\n",
              "      <td>2</td>\n",
              "    </tr>\n",
              "    <tr>\n",
              "      <th>1</th>\n",
              "      <td>8/7/2020 12:04</td>\n",
              "      <td>0.0</td>\n",
              "      <td>21.0</td>\n",
              "      <td>1</td>\n",
              "      <td>...</td>\n",
              "      <td>1</td>\n",
              "      <td>0</td>\n",
              "      <td>0</td>\n",
              "      <td>1</td>\n",
              "    </tr>\n",
              "    <tr>\n",
              "      <th>2</th>\n",
              "      <td>8/7/2020 12:05</td>\n",
              "      <td>0.0</td>\n",
              "      <td>19.0</td>\n",
              "      <td>2</td>\n",
              "      <td>...</td>\n",
              "      <td>1</td>\n",
              "      <td>1</td>\n",
              "      <td>0</td>\n",
              "      <td>3</td>\n",
              "    </tr>\n",
              "    <tr>\n",
              "      <th>3</th>\n",
              "      <td>8/7/2020 12:06</td>\n",
              "      <td>1.0</td>\n",
              "      <td>22.0</td>\n",
              "      <td>3</td>\n",
              "      <td>...</td>\n",
              "      <td>0</td>\n",
              "      <td>0</td>\n",
              "      <td>0</td>\n",
              "      <td>1</td>\n",
              "    </tr>\n",
              "    <tr>\n",
              "      <th>4</th>\n",
              "      <td>8/7/2020 12:13</td>\n",
              "      <td>0.0</td>\n",
              "      <td>23.0</td>\n",
              "      <td>4</td>\n",
              "      <td>...</td>\n",
              "      <td>0</td>\n",
              "      <td>0</td>\n",
              "      <td>0</td>\n",
              "      <td>0</td>\n",
              "    </tr>\n",
              "  </tbody>\n",
              "</table>\n",
              "<p>5 rows × 12 columns</p>\n",
              "</div>\n",
              "      <button class=\"colab-df-convert\" onclick=\"convertToInteractive('df-652694e3-1f46-416f-90df-f2f4e00cf67f')\"\n",
              "              title=\"Convert this dataframe to an interactive table.\"\n",
              "              style=\"display:none;\">\n",
              "        \n",
              "  <svg xmlns=\"http://www.w3.org/2000/svg\" height=\"24px\"viewBox=\"0 0 24 24\"\n",
              "       width=\"24px\">\n",
              "    <path d=\"M0 0h24v24H0V0z\" fill=\"none\"/>\n",
              "    <path d=\"M18.56 5.44l.94 2.06.94-2.06 2.06-.94-2.06-.94-.94-2.06-.94 2.06-2.06.94zm-11 1L8.5 8.5l.94-2.06 2.06-.94-2.06-.94L8.5 2.5l-.94 2.06-2.06.94zm10 10l.94 2.06.94-2.06 2.06-.94-2.06-.94-.94-2.06-.94 2.06-2.06.94z\"/><path d=\"M17.41 7.96l-1.37-1.37c-.4-.4-.92-.59-1.43-.59-.52 0-1.04.2-1.43.59L10.3 9.45l-7.72 7.72c-.78.78-.78 2.05 0 2.83L4 21.41c.39.39.9.59 1.41.59.51 0 1.02-.2 1.41-.59l7.78-7.78 2.81-2.81c.8-.78.8-2.07 0-2.86zM5.41 20L4 18.59l7.72-7.72 1.47 1.35L5.41 20z\"/>\n",
              "  </svg>\n",
              "      </button>\n",
              "      \n",
              "  <style>\n",
              "    .colab-df-container {\n",
              "      display:flex;\n",
              "      flex-wrap:wrap;\n",
              "      gap: 12px;\n",
              "    }\n",
              "\n",
              "    .colab-df-convert {\n",
              "      background-color: #E8F0FE;\n",
              "      border: none;\n",
              "      border-radius: 50%;\n",
              "      cursor: pointer;\n",
              "      display: none;\n",
              "      fill: #1967D2;\n",
              "      height: 32px;\n",
              "      padding: 0 0 0 0;\n",
              "      width: 32px;\n",
              "    }\n",
              "\n",
              "    .colab-df-convert:hover {\n",
              "      background-color: #E2EBFA;\n",
              "      box-shadow: 0px 1px 2px rgba(60, 64, 67, 0.3), 0px 1px 3px 1px rgba(60, 64, 67, 0.15);\n",
              "      fill: #174EA6;\n",
              "    }\n",
              "\n",
              "    [theme=dark] .colab-df-convert {\n",
              "      background-color: #3B4455;\n",
              "      fill: #D2E3FC;\n",
              "    }\n",
              "\n",
              "    [theme=dark] .colab-df-convert:hover {\n",
              "      background-color: #434B5C;\n",
              "      box-shadow: 0px 1px 3px 1px rgba(0, 0, 0, 0.15);\n",
              "      filter: drop-shadow(0px 1px 2px rgba(0, 0, 0, 0.3));\n",
              "      fill: #FFFFFF;\n",
              "    }\n",
              "  </style>\n",
              "\n",
              "      <script>\n",
              "        const buttonEl =\n",
              "          document.querySelector('#df-652694e3-1f46-416f-90df-f2f4e00cf67f button.colab-df-convert');\n",
              "        buttonEl.style.display =\n",
              "          google.colab.kernel.accessAllowed ? 'block' : 'none';\n",
              "\n",
              "        async function convertToInteractive(key) {\n",
              "          const element = document.querySelector('#df-652694e3-1f46-416f-90df-f2f4e00cf67f');\n",
              "          const dataTable =\n",
              "            await google.colab.kernel.invokeFunction('convertToInteractive',\n",
              "                                                     [key], {});\n",
              "          if (!dataTable) return;\n",
              "\n",
              "          const docLinkHtml = 'Like what you see? Visit the ' +\n",
              "            '<a target=\"_blank\" href=https://colab.research.google.com/notebooks/data_table.ipynb>data table notebook</a>'\n",
              "            + ' to learn more about interactive tables.';\n",
              "          element.innerHTML = '';\n",
              "          dataTable['output_type'] = 'display_data';\n",
              "          await google.colab.output.renderOutput(dataTable, element);\n",
              "          const docLink = document.createElement('div');\n",
              "          docLink.innerHTML = docLinkHtml;\n",
              "          element.appendChild(docLink);\n",
              "        }\n",
              "      </script>\n",
              "    </div>\n",
              "  </div>\n",
              "  "
            ]
          },
          "metadata": {},
          "execution_count": 316
        }
      ],
      "source": [
        "df['MENTAL HEALTH SCORE'] = df.apply(lambda x: add_cols(\n",
        "    x['Do you have Depression?'], \n",
        "    x['Do you have Anxiety?'], \n",
        "    x['Do you have Panic attack?']), axis=1\n",
        ")\n",
        "df.head(5)"
      ]
    },
    {
      "cell_type": "code",
      "execution_count": 317,
      "metadata": {
        "id": "iOCyS5os6n5B"
      },
      "outputs": [],
      "source": [
        "df = df.drop(['Do you have Depression?', 'Do you have Anxiety?', 'Do you have Panic attack?'], axis=1)"
      ]
    },
    {
      "cell_type": "code",
      "execution_count": 318,
      "metadata": {
        "colab": {
          "base_uri": "https://localhost:8080/",
          "height": 684
        },
        "id": "viijzCK663qg",
        "outputId": "4a2700e7-7026-4b7c-d9a9-aefb5f6c5fbe"
      },
      "outputs": [
        {
          "output_type": "execute_result",
          "data": {
            "text/plain": [
              "               Timestamp  Choose your gender   Age  What is your course?  ...  \\\n",
              "0         8/7/2020 12:02                 1.0  18.0                     0  ...   \n",
              "1         8/7/2020 12:04                 0.0  21.0                     1  ...   \n",
              "2         8/7/2020 12:05                 0.0  19.0                     2  ...   \n",
              "3         8/7/2020 12:06                 1.0  22.0                     3  ...   \n",
              "4         8/7/2020 12:13                 0.0  23.0                     4  ...   \n",
              "..                   ...                 ...   ...                   ...  ...   \n",
              "96   13/07/2020 19:56:49                 1.0  21.0                     6  ...   \n",
              "97   13/07/2020 21:21:42                 0.0  18.0                     0  ...   \n",
              "98   13/07/2020 21:22:56                 1.0  19.0                    47  ...   \n",
              "99   13/07/2020 21:23:57                 1.0  23.0                    48  ...   \n",
              "100  18/07/2020 20:16:21                 0.0  20.0                    23  ...   \n",
              "\n",
              "     What is your CGPA?  Marital status  \\\n",
              "0                 3.245               0   \n",
              "1                 3.245               0   \n",
              "2                 3.245               0   \n",
              "3                 3.245               1   \n",
              "4                 3.245               0   \n",
              "..                  ...             ...   \n",
              "96                3.750               0   \n",
              "97                3.245               0   \n",
              "98                3.750               1   \n",
              "99                3.750               0   \n",
              "100               3.245               0   \n",
              "\n",
              "     Did you seek any specialist for a treatment?  MENTAL HEALTH SCORE  \n",
              "0                                               0                    2  \n",
              "1                                               0                    1  \n",
              "2                                               0                    3  \n",
              "3                                               0                    1  \n",
              "4                                               0                    0  \n",
              "..                                            ...                  ...  \n",
              "96                                              0                    1  \n",
              "97                                              0                    2  \n",
              "98                                              0                    2  \n",
              "99                                              0                    0  \n",
              "100                                             0                    0  \n",
              "\n",
              "[101 rows x 9 columns]"
            ],
            "text/html": [
              "\n",
              "  <div id=\"df-3ab0b16d-583e-45c0-ac0a-984f90855ce7\">\n",
              "    <div class=\"colab-df-container\">\n",
              "      <div>\n",
              "<style scoped>\n",
              "    .dataframe tbody tr th:only-of-type {\n",
              "        vertical-align: middle;\n",
              "    }\n",
              "\n",
              "    .dataframe tbody tr th {\n",
              "        vertical-align: top;\n",
              "    }\n",
              "\n",
              "    .dataframe thead th {\n",
              "        text-align: right;\n",
              "    }\n",
              "</style>\n",
              "<table border=\"1\" class=\"dataframe\">\n",
              "  <thead>\n",
              "    <tr style=\"text-align: right;\">\n",
              "      <th></th>\n",
              "      <th>Timestamp</th>\n",
              "      <th>Choose your gender</th>\n",
              "      <th>Age</th>\n",
              "      <th>What is your course?</th>\n",
              "      <th>...</th>\n",
              "      <th>What is your CGPA?</th>\n",
              "      <th>Marital status</th>\n",
              "      <th>Did you seek any specialist for a treatment?</th>\n",
              "      <th>MENTAL HEALTH SCORE</th>\n",
              "    </tr>\n",
              "  </thead>\n",
              "  <tbody>\n",
              "    <tr>\n",
              "      <th>0</th>\n",
              "      <td>8/7/2020 12:02</td>\n",
              "      <td>1.0</td>\n",
              "      <td>18.0</td>\n",
              "      <td>0</td>\n",
              "      <td>...</td>\n",
              "      <td>3.245</td>\n",
              "      <td>0</td>\n",
              "      <td>0</td>\n",
              "      <td>2</td>\n",
              "    </tr>\n",
              "    <tr>\n",
              "      <th>1</th>\n",
              "      <td>8/7/2020 12:04</td>\n",
              "      <td>0.0</td>\n",
              "      <td>21.0</td>\n",
              "      <td>1</td>\n",
              "      <td>...</td>\n",
              "      <td>3.245</td>\n",
              "      <td>0</td>\n",
              "      <td>0</td>\n",
              "      <td>1</td>\n",
              "    </tr>\n",
              "    <tr>\n",
              "      <th>2</th>\n",
              "      <td>8/7/2020 12:05</td>\n",
              "      <td>0.0</td>\n",
              "      <td>19.0</td>\n",
              "      <td>2</td>\n",
              "      <td>...</td>\n",
              "      <td>3.245</td>\n",
              "      <td>0</td>\n",
              "      <td>0</td>\n",
              "      <td>3</td>\n",
              "    </tr>\n",
              "    <tr>\n",
              "      <th>3</th>\n",
              "      <td>8/7/2020 12:06</td>\n",
              "      <td>1.0</td>\n",
              "      <td>22.0</td>\n",
              "      <td>3</td>\n",
              "      <td>...</td>\n",
              "      <td>3.245</td>\n",
              "      <td>1</td>\n",
              "      <td>0</td>\n",
              "      <td>1</td>\n",
              "    </tr>\n",
              "    <tr>\n",
              "      <th>4</th>\n",
              "      <td>8/7/2020 12:13</td>\n",
              "      <td>0.0</td>\n",
              "      <td>23.0</td>\n",
              "      <td>4</td>\n",
              "      <td>...</td>\n",
              "      <td>3.245</td>\n",
              "      <td>0</td>\n",
              "      <td>0</td>\n",
              "      <td>0</td>\n",
              "    </tr>\n",
              "    <tr>\n",
              "      <th>...</th>\n",
              "      <td>...</td>\n",
              "      <td>...</td>\n",
              "      <td>...</td>\n",
              "      <td>...</td>\n",
              "      <td>...</td>\n",
              "      <td>...</td>\n",
              "      <td>...</td>\n",
              "      <td>...</td>\n",
              "      <td>...</td>\n",
              "    </tr>\n",
              "    <tr>\n",
              "      <th>96</th>\n",
              "      <td>13/07/2020 19:56:49</td>\n",
              "      <td>1.0</td>\n",
              "      <td>21.0</td>\n",
              "      <td>6</td>\n",
              "      <td>...</td>\n",
              "      <td>3.750</td>\n",
              "      <td>0</td>\n",
              "      <td>0</td>\n",
              "      <td>1</td>\n",
              "    </tr>\n",
              "    <tr>\n",
              "      <th>97</th>\n",
              "      <td>13/07/2020 21:21:42</td>\n",
              "      <td>0.0</td>\n",
              "      <td>18.0</td>\n",
              "      <td>0</td>\n",
              "      <td>...</td>\n",
              "      <td>3.245</td>\n",
              "      <td>0</td>\n",
              "      <td>0</td>\n",
              "      <td>2</td>\n",
              "    </tr>\n",
              "    <tr>\n",
              "      <th>98</th>\n",
              "      <td>13/07/2020 21:22:56</td>\n",
              "      <td>1.0</td>\n",
              "      <td>19.0</td>\n",
              "      <td>47</td>\n",
              "      <td>...</td>\n",
              "      <td>3.750</td>\n",
              "      <td>1</td>\n",
              "      <td>0</td>\n",
              "      <td>2</td>\n",
              "    </tr>\n",
              "    <tr>\n",
              "      <th>99</th>\n",
              "      <td>13/07/2020 21:23:57</td>\n",
              "      <td>1.0</td>\n",
              "      <td>23.0</td>\n",
              "      <td>48</td>\n",
              "      <td>...</td>\n",
              "      <td>3.750</td>\n",
              "      <td>0</td>\n",
              "      <td>0</td>\n",
              "      <td>0</td>\n",
              "    </tr>\n",
              "    <tr>\n",
              "      <th>100</th>\n",
              "      <td>18/07/2020 20:16:21</td>\n",
              "      <td>0.0</td>\n",
              "      <td>20.0</td>\n",
              "      <td>23</td>\n",
              "      <td>...</td>\n",
              "      <td>3.245</td>\n",
              "      <td>0</td>\n",
              "      <td>0</td>\n",
              "      <td>0</td>\n",
              "    </tr>\n",
              "  </tbody>\n",
              "</table>\n",
              "<p>101 rows × 9 columns</p>\n",
              "</div>\n",
              "      <button class=\"colab-df-convert\" onclick=\"convertToInteractive('df-3ab0b16d-583e-45c0-ac0a-984f90855ce7')\"\n",
              "              title=\"Convert this dataframe to an interactive table.\"\n",
              "              style=\"display:none;\">\n",
              "        \n",
              "  <svg xmlns=\"http://www.w3.org/2000/svg\" height=\"24px\"viewBox=\"0 0 24 24\"\n",
              "       width=\"24px\">\n",
              "    <path d=\"M0 0h24v24H0V0z\" fill=\"none\"/>\n",
              "    <path d=\"M18.56 5.44l.94 2.06.94-2.06 2.06-.94-2.06-.94-.94-2.06-.94 2.06-2.06.94zm-11 1L8.5 8.5l.94-2.06 2.06-.94-2.06-.94L8.5 2.5l-.94 2.06-2.06.94zm10 10l.94 2.06.94-2.06 2.06-.94-2.06-.94-.94-2.06-.94 2.06-2.06.94z\"/><path d=\"M17.41 7.96l-1.37-1.37c-.4-.4-.92-.59-1.43-.59-.52 0-1.04.2-1.43.59L10.3 9.45l-7.72 7.72c-.78.78-.78 2.05 0 2.83L4 21.41c.39.39.9.59 1.41.59.51 0 1.02-.2 1.41-.59l7.78-7.78 2.81-2.81c.8-.78.8-2.07 0-2.86zM5.41 20L4 18.59l7.72-7.72 1.47 1.35L5.41 20z\"/>\n",
              "  </svg>\n",
              "      </button>\n",
              "      \n",
              "  <style>\n",
              "    .colab-df-container {\n",
              "      display:flex;\n",
              "      flex-wrap:wrap;\n",
              "      gap: 12px;\n",
              "    }\n",
              "\n",
              "    .colab-df-convert {\n",
              "      background-color: #E8F0FE;\n",
              "      border: none;\n",
              "      border-radius: 50%;\n",
              "      cursor: pointer;\n",
              "      display: none;\n",
              "      fill: #1967D2;\n",
              "      height: 32px;\n",
              "      padding: 0 0 0 0;\n",
              "      width: 32px;\n",
              "    }\n",
              "\n",
              "    .colab-df-convert:hover {\n",
              "      background-color: #E2EBFA;\n",
              "      box-shadow: 0px 1px 2px rgba(60, 64, 67, 0.3), 0px 1px 3px 1px rgba(60, 64, 67, 0.15);\n",
              "      fill: #174EA6;\n",
              "    }\n",
              "\n",
              "    [theme=dark] .colab-df-convert {\n",
              "      background-color: #3B4455;\n",
              "      fill: #D2E3FC;\n",
              "    }\n",
              "\n",
              "    [theme=dark] .colab-df-convert:hover {\n",
              "      background-color: #434B5C;\n",
              "      box-shadow: 0px 1px 3px 1px rgba(0, 0, 0, 0.15);\n",
              "      filter: drop-shadow(0px 1px 2px rgba(0, 0, 0, 0.3));\n",
              "      fill: #FFFFFF;\n",
              "    }\n",
              "  </style>\n",
              "\n",
              "      <script>\n",
              "        const buttonEl =\n",
              "          document.querySelector('#df-3ab0b16d-583e-45c0-ac0a-984f90855ce7 button.colab-df-convert');\n",
              "        buttonEl.style.display =\n",
              "          google.colab.kernel.accessAllowed ? 'block' : 'none';\n",
              "\n",
              "        async function convertToInteractive(key) {\n",
              "          const element = document.querySelector('#df-3ab0b16d-583e-45c0-ac0a-984f90855ce7');\n",
              "          const dataTable =\n",
              "            await google.colab.kernel.invokeFunction('convertToInteractive',\n",
              "                                                     [key], {});\n",
              "          if (!dataTable) return;\n",
              "\n",
              "          const docLinkHtml = 'Like what you see? Visit the ' +\n",
              "            '<a target=\"_blank\" href=https://colab.research.google.com/notebooks/data_table.ipynb>data table notebook</a>'\n",
              "            + ' to learn more about interactive tables.';\n",
              "          element.innerHTML = '';\n",
              "          dataTable['output_type'] = 'display_data';\n",
              "          await google.colab.output.renderOutput(dataTable, element);\n",
              "          const docLink = document.createElement('div');\n",
              "          docLink.innerHTML = docLinkHtml;\n",
              "          element.appendChild(docLink);\n",
              "        }\n",
              "      </script>\n",
              "    </div>\n",
              "  </div>\n",
              "  "
            ]
          },
          "metadata": {},
          "execution_count": 318
        }
      ],
      "source": [
        "df"
      ]
    },
    {
      "cell_type": "markdown",
      "metadata": {
        "id": "rMluD5FE_PP4"
      },
      "source": [
        "# Descision Trees\n"
      ]
    },
    {
      "cell_type": "code",
      "execution_count": 319,
      "metadata": {
        "id": "34P1Iym8mnjI"
      },
      "outputs": [],
      "source": [
        "# define the variable (column) that we want to predict\n",
        "dep_var = 'MENTAL HEALTH SCORE'"
      ]
    },
    {
      "cell_type": "code",
      "execution_count": 320,
      "metadata": {
        "id": "49L2rzlOjSVo"
      },
      "outputs": [],
      "source": [
        "# make the date quantitative\n",
        "df = add_datepart(df, 'Timestamp')"
      ]
    },
    {
      "cell_type": "code",
      "execution_count": 321,
      "metadata": {
        "colab": {
          "base_uri": "https://localhost:8080/",
          "height": 348
        },
        "id": "i_5_R_OwjUUE",
        "outputId": "b8d5fc9a-0b7b-487b-88c5-145d22d49905"
      },
      "outputs": [
        {
          "output_type": "execute_result",
          "data": {
            "text/plain": [
              "   Choose your gender   Age  What is your course?  Your current year of Study  \\\n",
              "0                 1.0  18.0                     0                           1   \n",
              "1                 0.0  21.0                     1                           2   \n",
              "2                 0.0  19.0                     2                           1   \n",
              "3                 1.0  22.0                     3                           3   \n",
              "4                 0.0  23.0                     4                           4   \n",
              "\n",
              "   ...  TimestampIs_quarter_start  TimestampIs_year_end  \\\n",
              "0  ...                      False                 False   \n",
              "1  ...                      False                 False   \n",
              "2  ...                      False                 False   \n",
              "3  ...                      False                 False   \n",
              "4  ...                      False                 False   \n",
              "\n",
              "   TimestampIs_year_start  TimestampElapsed  \n",
              "0                   False      1.596802e+09  \n",
              "1                   False      1.596802e+09  \n",
              "2                   False      1.596802e+09  \n",
              "3                   False      1.596802e+09  \n",
              "4                   False      1.596802e+09  \n",
              "\n",
              "[5 rows x 21 columns]"
            ],
            "text/html": [
              "\n",
              "  <div id=\"df-877b4520-2104-405c-98f9-077ba2e81f0f\">\n",
              "    <div class=\"colab-df-container\">\n",
              "      <div>\n",
              "<style scoped>\n",
              "    .dataframe tbody tr th:only-of-type {\n",
              "        vertical-align: middle;\n",
              "    }\n",
              "\n",
              "    .dataframe tbody tr th {\n",
              "        vertical-align: top;\n",
              "    }\n",
              "\n",
              "    .dataframe thead th {\n",
              "        text-align: right;\n",
              "    }\n",
              "</style>\n",
              "<table border=\"1\" class=\"dataframe\">\n",
              "  <thead>\n",
              "    <tr style=\"text-align: right;\">\n",
              "      <th></th>\n",
              "      <th>Choose your gender</th>\n",
              "      <th>Age</th>\n",
              "      <th>What is your course?</th>\n",
              "      <th>Your current year of Study</th>\n",
              "      <th>...</th>\n",
              "      <th>TimestampIs_quarter_start</th>\n",
              "      <th>TimestampIs_year_end</th>\n",
              "      <th>TimestampIs_year_start</th>\n",
              "      <th>TimestampElapsed</th>\n",
              "    </tr>\n",
              "  </thead>\n",
              "  <tbody>\n",
              "    <tr>\n",
              "      <th>0</th>\n",
              "      <td>1.0</td>\n",
              "      <td>18.0</td>\n",
              "      <td>0</td>\n",
              "      <td>1</td>\n",
              "      <td>...</td>\n",
              "      <td>False</td>\n",
              "      <td>False</td>\n",
              "      <td>False</td>\n",
              "      <td>1.596802e+09</td>\n",
              "    </tr>\n",
              "    <tr>\n",
              "      <th>1</th>\n",
              "      <td>0.0</td>\n",
              "      <td>21.0</td>\n",
              "      <td>1</td>\n",
              "      <td>2</td>\n",
              "      <td>...</td>\n",
              "      <td>False</td>\n",
              "      <td>False</td>\n",
              "      <td>False</td>\n",
              "      <td>1.596802e+09</td>\n",
              "    </tr>\n",
              "    <tr>\n",
              "      <th>2</th>\n",
              "      <td>0.0</td>\n",
              "      <td>19.0</td>\n",
              "      <td>2</td>\n",
              "      <td>1</td>\n",
              "      <td>...</td>\n",
              "      <td>False</td>\n",
              "      <td>False</td>\n",
              "      <td>False</td>\n",
              "      <td>1.596802e+09</td>\n",
              "    </tr>\n",
              "    <tr>\n",
              "      <th>3</th>\n",
              "      <td>1.0</td>\n",
              "      <td>22.0</td>\n",
              "      <td>3</td>\n",
              "      <td>3</td>\n",
              "      <td>...</td>\n",
              "      <td>False</td>\n",
              "      <td>False</td>\n",
              "      <td>False</td>\n",
              "      <td>1.596802e+09</td>\n",
              "    </tr>\n",
              "    <tr>\n",
              "      <th>4</th>\n",
              "      <td>0.0</td>\n",
              "      <td>23.0</td>\n",
              "      <td>4</td>\n",
              "      <td>4</td>\n",
              "      <td>...</td>\n",
              "      <td>False</td>\n",
              "      <td>False</td>\n",
              "      <td>False</td>\n",
              "      <td>1.596802e+09</td>\n",
              "    </tr>\n",
              "  </tbody>\n",
              "</table>\n",
              "<p>5 rows × 21 columns</p>\n",
              "</div>\n",
              "      <button class=\"colab-df-convert\" onclick=\"convertToInteractive('df-877b4520-2104-405c-98f9-077ba2e81f0f')\"\n",
              "              title=\"Convert this dataframe to an interactive table.\"\n",
              "              style=\"display:none;\">\n",
              "        \n",
              "  <svg xmlns=\"http://www.w3.org/2000/svg\" height=\"24px\"viewBox=\"0 0 24 24\"\n",
              "       width=\"24px\">\n",
              "    <path d=\"M0 0h24v24H0V0z\" fill=\"none\"/>\n",
              "    <path d=\"M18.56 5.44l.94 2.06.94-2.06 2.06-.94-2.06-.94-.94-2.06-.94 2.06-2.06.94zm-11 1L8.5 8.5l.94-2.06 2.06-.94-2.06-.94L8.5 2.5l-.94 2.06-2.06.94zm10 10l.94 2.06.94-2.06 2.06-.94-2.06-.94-.94-2.06-.94 2.06-2.06.94z\"/><path d=\"M17.41 7.96l-1.37-1.37c-.4-.4-.92-.59-1.43-.59-.52 0-1.04.2-1.43.59L10.3 9.45l-7.72 7.72c-.78.78-.78 2.05 0 2.83L4 21.41c.39.39.9.59 1.41.59.51 0 1.02-.2 1.41-.59l7.78-7.78 2.81-2.81c.8-.78.8-2.07 0-2.86zM5.41 20L4 18.59l7.72-7.72 1.47 1.35L5.41 20z\"/>\n",
              "  </svg>\n",
              "      </button>\n",
              "      \n",
              "  <style>\n",
              "    .colab-df-container {\n",
              "      display:flex;\n",
              "      flex-wrap:wrap;\n",
              "      gap: 12px;\n",
              "    }\n",
              "\n",
              "    .colab-df-convert {\n",
              "      background-color: #E8F0FE;\n",
              "      border: none;\n",
              "      border-radius: 50%;\n",
              "      cursor: pointer;\n",
              "      display: none;\n",
              "      fill: #1967D2;\n",
              "      height: 32px;\n",
              "      padding: 0 0 0 0;\n",
              "      width: 32px;\n",
              "    }\n",
              "\n",
              "    .colab-df-convert:hover {\n",
              "      background-color: #E2EBFA;\n",
              "      box-shadow: 0px 1px 2px rgba(60, 64, 67, 0.3), 0px 1px 3px 1px rgba(60, 64, 67, 0.15);\n",
              "      fill: #174EA6;\n",
              "    }\n",
              "\n",
              "    [theme=dark] .colab-df-convert {\n",
              "      background-color: #3B4455;\n",
              "      fill: #D2E3FC;\n",
              "    }\n",
              "\n",
              "    [theme=dark] .colab-df-convert:hover {\n",
              "      background-color: #434B5C;\n",
              "      box-shadow: 0px 1px 3px 1px rgba(0, 0, 0, 0.15);\n",
              "      filter: drop-shadow(0px 1px 2px rgba(0, 0, 0, 0.3));\n",
              "      fill: #FFFFFF;\n",
              "    }\n",
              "  </style>\n",
              "\n",
              "      <script>\n",
              "        const buttonEl =\n",
              "          document.querySelector('#df-877b4520-2104-405c-98f9-077ba2e81f0f button.colab-df-convert');\n",
              "        buttonEl.style.display =\n",
              "          google.colab.kernel.accessAllowed ? 'block' : 'none';\n",
              "\n",
              "        async function convertToInteractive(key) {\n",
              "          const element = document.querySelector('#df-877b4520-2104-405c-98f9-077ba2e81f0f');\n",
              "          const dataTable =\n",
              "            await google.colab.kernel.invokeFunction('convertToInteractive',\n",
              "                                                     [key], {});\n",
              "          if (!dataTable) return;\n",
              "\n",
              "          const docLinkHtml = 'Like what you see? Visit the ' +\n",
              "            '<a target=\"_blank\" href=https://colab.research.google.com/notebooks/data_table.ipynb>data table notebook</a>'\n",
              "            + ' to learn more about interactive tables.';\n",
              "          element.innerHTML = '';\n",
              "          dataTable['output_type'] = 'display_data';\n",
              "          await google.colab.output.renderOutput(dataTable, element);\n",
              "          const docLink = document.createElement('div');\n",
              "          docLink.innerHTML = docLinkHtml;\n",
              "          element.appendChild(docLink);\n",
              "        }\n",
              "      </script>\n",
              "    </div>\n",
              "  </div>\n",
              "  "
            ]
          },
          "metadata": {},
          "execution_count": 321
        }
      ],
      "source": [
        "df.head(5)"
      ]
    },
    {
      "cell_type": "code",
      "execution_count": 322,
      "metadata": {
        "id": "upmkPvHZlSNn"
      },
      "outputs": [],
      "source": [
        "# pick a random number 50 < num < 60\n",
        "rand = 50 + int(10 * random.random())\n",
        "# seperate the data into training and validation data based on this\n",
        "cond = (df.TimestampElapsed<df.TimestampElapsed[rand])\n",
        "train_idx = np.where( cond)[0]\n",
        "valid_idx = np.where(~cond)[0]\n",
        "splits = (list(train_idx),list(valid_idx))"
      ]
    },
    {
      "cell_type": "code",
      "execution_count": 323,
      "metadata": {
        "id": "pHm0RNTmmRpb"
      },
      "outputs": [],
      "source": [
        "# TabularPandas needs to be told which columns are continuous and which are categorical. \n",
        "# We can handle that automatically using the helper function cont_cat_split:\n",
        "cont,cat = cont_cat_split(df, 1, dep_var=dep_var)"
      ]
    },
    {
      "cell_type": "code",
      "execution_count": 324,
      "metadata": {
        "id": "5ooyDW5pNPYE"
      },
      "outputs": [],
      "source": [
        "# Categorify is a TabularProc that replaces a column with a numeric categorical column. \n",
        "# FillMissing is a TabularProc that replaces missing values with the median of the column, and creates a new Boolean column that is set to True for any row where the value was missing. \n",
        "procs = [Categorify, FillMissing]"
      ]
    },
    {
      "cell_type": "code",
      "execution_count": 325,
      "metadata": {
        "id": "qNyO_cOxNKlp"
      },
      "outputs": [],
      "source": [
        "# A TabularPandas behaves a lot like a fastai Datasets object, including providing train and valid attributes:\n",
        "to = TabularPandas(df, procs, cat, cont, y_names=dep_var, splits=splits)"
      ]
    },
    {
      "cell_type": "code",
      "execution_count": 326,
      "metadata": {
        "id": "nKzAhyCXoaqt"
      },
      "outputs": [],
      "source": [
        "# save clean data\n",
        "save_pickle('to.pkl', to)"
      ]
    },
    {
      "cell_type": "code",
      "execution_count": 327,
      "metadata": {
        "id": "LUjx2ejnod7T"
      },
      "outputs": [],
      "source": [
        "# load clean data\n",
        "to = load_pickle('to.pkl')"
      ]
    },
    {
      "cell_type": "code",
      "execution_count": 328,
      "metadata": {
        "id": "Yvgh0YW8ouvD"
      },
      "outputs": [],
      "source": [
        "# define independent and dependent variables\n",
        "xs,y = to.train.xs,to.train.y\n",
        "valid_xs,valid_y = to.valid.xs,to.valid.y"
      ]
    },
    {
      "cell_type": "code",
      "execution_count": 329,
      "metadata": {
        "id": "9TQE400Wo01u"
      },
      "outputs": [],
      "source": [
        "# execute descision tree regressor, and return fitted model\n",
        "m = DecisionTreeRegressor(max_leaf_nodes=4)\n",
        "m.fit(xs, y);"
      ]
    },
    {
      "cell_type": "code",
      "execution_count": 330,
      "metadata": {
        "colab": {
          "base_uri": "https://localhost:8080/",
          "height": 569
        },
        "id": "L24ZXISAo3GZ",
        "outputId": "325dc9ab-f86a-4a28-eba5-508d4c6b5818"
      },
      "outputs": [
        {
          "output_type": "execute_result",
          "data": {
            "text/plain": [
              "<graphviz.files.Source at 0x7f82790d5350>"
            ],
            "image/svg+xml": "<?xml version=\"1.0\" encoding=\"UTF-8\" standalone=\"no\"?>\n<!DOCTYPE svg PUBLIC \"-//W3C//DTD SVG 1.1//EN\"\n \"http://www.w3.org/Graphics/SVG/1.1/DTD/svg11.dtd\">\n<!-- Generated by graphviz version 2.40.1 (20161225.0304)\n -->\n<!-- Title: Tree Pages: 1 -->\n<svg width=\"654pt\" height=\"396pt\"\n viewBox=\"0.00 0.00 654.00 396.12\" xmlns=\"http://www.w3.org/2000/svg\" xmlns:xlink=\"http://www.w3.org/1999/xlink\">\n<g id=\"graph0\" class=\"graph\" transform=\"scale(1 1) rotate(0) translate(4 392.121)\">\n<title>Tree</title>\n<polygon fill=\"#ffffff\" stroke=\"transparent\" points=\"-4,4 -4,-392.121 650,-392.121 650,4 -4,4\"/>\n<!-- 0 -->\n<g id=\"node1\" class=\"node\">\n<title>0</title>\n<path fill=\"#f2c29f\" stroke=\"#000000\" d=\"M551,-387C551,-387 423,-387 423,-387 417,-387 411,-381 411,-375 411,-375 411,-331 411,-331 411,-325 417,-319 423,-319 423,-319 551,-319 551,-319 557,-319 563,-325 563,-331 563,-331 563,-375 563,-375 563,-381 557,-387 551,-387\"/>\n<text text-anchor=\"start\" x=\"426.5\" y=\"-371.8\" font-family=\"Helvetica,sans-Serif\" font-size=\"14.00\" fill=\"#000000\">Marital status ≤ 0.5</text>\n<text text-anchor=\"start\" x=\"419\" y=\"-356.8\" font-family=\"Helvetica,sans-Serif\" font-size=\"14.00\" fill=\"#000000\">squared_error = 1.06</text>\n<text text-anchor=\"start\" x=\"443\" y=\"-341.8\" font-family=\"Helvetica,sans-Serif\" font-size=\"14.00\" fill=\"#000000\">samples = 80</text>\n<text text-anchor=\"start\" x=\"447\" y=\"-326.8\" font-family=\"Helvetica,sans-Serif\" font-size=\"14.00\" fill=\"#000000\">value = 1.04</text>\n</g>\n<!-- 1 -->\n<g id=\"node2\" class=\"node\">\n<title>1</title>\n<path fill=\"#f5d0b5\" stroke=\"#000000\" d=\"M501.5,-278C501.5,-278 306.5,-278 306.5,-278 300.5,-278 294.5,-272 294.5,-266 294.5,-266 294.5,-222 294.5,-222 294.5,-216 300.5,-210 306.5,-210 306.5,-210 501.5,-210 501.5,-210 507.5,-210 513.5,-216 513.5,-222 513.5,-222 513.5,-266 513.5,-266 513.5,-272 507.5,-278 501.5,-278\"/>\n<text text-anchor=\"start\" x=\"302.5\" y=\"-262.8\" font-family=\"Helvetica,sans-Serif\" font-size=\"14.00\" fill=\"#000000\">Your current year of Study ≤ 3.5</text>\n<text text-anchor=\"start\" x=\"336\" y=\"-247.8\" font-family=\"Helvetica,sans-Serif\" font-size=\"14.00\" fill=\"#000000\">squared_error = 0.86</text>\n<text text-anchor=\"start\" x=\"360\" y=\"-232.8\" font-family=\"Helvetica,sans-Serif\" font-size=\"14.00\" fill=\"#000000\">samples = 66</text>\n<text text-anchor=\"start\" x=\"368\" y=\"-217.8\" font-family=\"Helvetica,sans-Serif\" font-size=\"14.00\" fill=\"#000000\">value = 0.8</text>\n</g>\n<!-- 0&#45;&gt;1 -->\n<g id=\"edge1\" class=\"edge\">\n<title>0&#45;&gt;1</title>\n<path fill=\"none\" stroke=\"#000000\" d=\"M460.966,-318.8108C453.086,-308.4624 444.3379,-296.9739 436.1096,-286.168\"/>\n<polygon fill=\"#000000\" stroke=\"#000000\" points=\"438.7845,-283.9035 429.9416,-278.0679 433.2153,-288.1443 438.7845,-283.9035\"/>\n<text text-anchor=\"middle\" x=\"426.5868\" y=\"-299.1418\" font-family=\"Helvetica,sans-Serif\" font-size=\"14.00\" fill=\"#000000\">True</text>\n</g>\n<!-- 2 -->\n<g id=\"node7\" class=\"node\">\n<title>2</title>\n<path fill=\"#e58139\" stroke=\"#000000\" d=\"M634,-54.5C634,-54.5 506,-54.5 506,-54.5 500,-54.5 494,-48.5 494,-42.5 494,-42.5 494,-13.5 494,-13.5 494,-7.5 500,-1.5 506,-1.5 506,-1.5 634,-1.5 634,-1.5 640,-1.5 646,-7.5 646,-13.5 646,-13.5 646,-42.5 646,-42.5 646,-48.5 640,-54.5 634,-54.5\"/>\n<text text-anchor=\"start\" x=\"502\" y=\"-39.3\" font-family=\"Helvetica,sans-Serif\" font-size=\"14.00\" fill=\"#000000\">squared_error = 0.55</text>\n<text text-anchor=\"start\" x=\"526\" y=\"-24.3\" font-family=\"Helvetica,sans-Serif\" font-size=\"14.00\" fill=\"#000000\">samples = 14</text>\n<text text-anchor=\"start\" x=\"530\" y=\"-9.3\" font-family=\"Helvetica,sans-Serif\" font-size=\"14.00\" fill=\"#000000\">value = 2.14</text>\n</g>\n<!-- 0&#45;&gt;2 -->\n<g id=\"edge6\" class=\"edge\">\n<title>0&#45;&gt;2</title>\n<path fill=\"none\" stroke=\"#000000\" d=\"M503.0659,-318.5731C512.2668,-298.8569 522,-278 522,-278 522,-278 549.5765,-134.3722 562.9255,-64.8464\"/>\n<polygon fill=\"#000000\" stroke=\"#000000\" points=\"566.4147,-65.235 564.8632,-54.7544 559.5403,-63.915 566.4147,-65.235\"/>\n<text text-anchor=\"middle\" x=\"578.8905\" y=\"-71.7482\" font-family=\"Helvetica,sans-Serif\" font-size=\"14.00\" fill=\"#000000\">False</text>\n</g>\n<!-- 3 -->\n<g id=\"node3\" class=\"node\">\n<title>3</title>\n<path fill=\"#f4cbad\" stroke=\"#000000\" d=\"M320,-170C320,-170 156,-170 156,-170 150,-170 144,-164 144,-158 144,-158 144,-114 144,-114 144,-108 150,-102 156,-102 156,-102 320,-102 320,-102 326,-102 332,-108 332,-114 332,-114 332,-158 332,-158 332,-164 326,-170 320,-170\"/>\n<text text-anchor=\"start\" x=\"152\" y=\"-154.8\" font-family=\"Helvetica,sans-Serif\" font-size=\"14.00\" fill=\"#000000\">What is your course? ≤ 8.5</text>\n<text text-anchor=\"start\" x=\"170\" y=\"-139.8\" font-family=\"Helvetica,sans-Serif\" font-size=\"14.00\" fill=\"#000000\">squared_error = 0.87</text>\n<text text-anchor=\"start\" x=\"194\" y=\"-124.8\" font-family=\"Helvetica,sans-Serif\" font-size=\"14.00\" fill=\"#000000\">samples = 60</text>\n<text text-anchor=\"start\" x=\"198\" y=\"-109.8\" font-family=\"Helvetica,sans-Serif\" font-size=\"14.00\" fill=\"#000000\">value = 0.88</text>\n</g>\n<!-- 1&#45;&gt;3 -->\n<g id=\"edge2\" class=\"edge\">\n<title>1&#45;&gt;3</title>\n<path fill=\"none\" stroke=\"#000000\" d=\"M351.4766,-209.8281C334.8948,-199.04 316.4285,-187.0258 299.2905,-175.8757\"/>\n<polygon fill=\"#000000\" stroke=\"#000000\" points=\"300.7573,-172.6545 290.4665,-170.1348 296.9399,-178.522 300.7573,-172.6545\"/>\n</g>\n<!-- 4 -->\n<g id=\"node6\" class=\"node\">\n<title>4</title>\n<path fill=\"#ffffff\" stroke=\"#000000\" d=\"M464,-54.5C464,-54.5 344,-54.5 344,-54.5 338,-54.5 332,-48.5 332,-42.5 332,-42.5 332,-13.5 332,-13.5 332,-7.5 338,-1.5 344,-1.5 344,-1.5 464,-1.5 464,-1.5 470,-1.5 476,-7.5 476,-13.5 476,-13.5 476,-42.5 476,-42.5 476,-48.5 470,-54.5 464,-54.5\"/>\n<text text-anchor=\"start\" x=\"340\" y=\"-39.3\" font-family=\"Helvetica,sans-Serif\" font-size=\"14.00\" fill=\"#000000\">squared_error = 0.0</text>\n<text text-anchor=\"start\" x=\"364.5\" y=\"-24.3\" font-family=\"Helvetica,sans-Serif\" font-size=\"14.00\" fill=\"#000000\">samples = 6</text>\n<text text-anchor=\"start\" x=\"368\" y=\"-9.3\" font-family=\"Helvetica,sans-Serif\" font-size=\"14.00\" fill=\"#000000\">value = 0.0</text>\n</g>\n<!-- 1&#45;&gt;4 -->\n<g id=\"edge5\" class=\"edge\">\n<title>1&#45;&gt;4</title>\n<path fill=\"none\" stroke=\"#000000\" d=\"M404,-209.7742C404,-170.16 404,-105.1797 404,-64.5885\"/>\n<polygon fill=\"#000000\" stroke=\"#000000\" points=\"407.5001,-64.5754 404,-54.5755 400.5001,-64.5755 407.5001,-64.5754\"/>\n</g>\n<!-- 5 -->\n<g id=\"node4\" class=\"node\">\n<title>5</title>\n<path fill=\"#f1bd98\" stroke=\"#000000\" d=\"M132,-54.5C132,-54.5 12,-54.5 12,-54.5 6,-54.5 0,-48.5 0,-42.5 0,-42.5 0,-13.5 0,-13.5 0,-7.5 6,-1.5 12,-1.5 12,-1.5 132,-1.5 132,-1.5 138,-1.5 144,-7.5 144,-13.5 144,-13.5 144,-42.5 144,-42.5 144,-48.5 138,-54.5 132,-54.5\"/>\n<text text-anchor=\"start\" x=\"8\" y=\"-39.3\" font-family=\"Helvetica,sans-Serif\" font-size=\"14.00\" fill=\"#000000\">squared_error = 0.9</text>\n<text text-anchor=\"start\" x=\"28\" y=\"-24.3\" font-family=\"Helvetica,sans-Serif\" font-size=\"14.00\" fill=\"#000000\">samples = 35</text>\n<text text-anchor=\"start\" x=\"32\" y=\"-9.3\" font-family=\"Helvetica,sans-Serif\" font-size=\"14.00\" fill=\"#000000\">value = 1.11</text>\n</g>\n<!-- 3&#45;&gt;5 -->\n<g id=\"edge3\" class=\"edge\">\n<title>3&#45;&gt;5</title>\n<path fill=\"none\" stroke=\"#000000\" d=\"M185.4766,-101.8281C164.9477,-88.472 141.5303,-73.2366 121.321,-60.0883\"/>\n<polygon fill=\"#000000\" stroke=\"#000000\" points=\"123.1648,-57.1124 112.874,-54.5927 119.3474,-62.9799 123.1648,-57.1124\"/>\n</g>\n<!-- 6 -->\n<g id=\"node5\" class=\"node\">\n<title>6</title>\n<path fill=\"#f8decb\" stroke=\"#000000\" d=\"M302,-54.5C302,-54.5 174,-54.5 174,-54.5 168,-54.5 162,-48.5 162,-42.5 162,-42.5 162,-13.5 162,-13.5 162,-7.5 168,-1.5 174,-1.5 174,-1.5 302,-1.5 302,-1.5 308,-1.5 314,-7.5 314,-13.5 314,-13.5 314,-42.5 314,-42.5 314,-48.5 308,-54.5 302,-54.5\"/>\n<text text-anchor=\"start\" x=\"170\" y=\"-39.3\" font-family=\"Helvetica,sans-Serif\" font-size=\"14.00\" fill=\"#000000\">squared_error = 0.65</text>\n<text text-anchor=\"start\" x=\"194\" y=\"-24.3\" font-family=\"Helvetica,sans-Serif\" font-size=\"14.00\" fill=\"#000000\">samples = 25</text>\n<text text-anchor=\"start\" x=\"198\" y=\"-9.3\" font-family=\"Helvetica,sans-Serif\" font-size=\"14.00\" fill=\"#000000\">value = 0.56</text>\n</g>\n<!-- 3&#45;&gt;6 -->\n<g id=\"edge4\" class=\"edge\">\n<title>3&#45;&gt;6</title>\n<path fill=\"none\" stroke=\"#000000\" d=\"M238,-101.8281C238,-90.0701 238,-76.8555 238,-64.8908\"/>\n<polygon fill=\"#000000\" stroke=\"#000000\" points=\"241.5001,-64.766 238,-54.766 234.5001,-64.766 241.5001,-64.766\"/>\n</g>\n</g>\n</svg>\n"
          },
          "metadata": {},
          "execution_count": 330
        }
      ],
      "source": [
        "# draw tree\n",
        "draw_tree(m, xs, size=10, leaves_parallel=True, precision=2)"
      ]
    },
    {
      "cell_type": "markdown",
      "metadata": {
        "id": "5zVzas6pphmm"
      },
      "source": [
        "0. The top node represents the initial model before any splits have been done, when all the data is in one group. This is the simplest possible model. It is the result of asking zero questions and will always predict the value to be the average value of the whole dataset.\n",
        "\n",
        "1. The next row shows us that in the case that the question of depression is true, or false, the next question to ask should be about anxiety.\n",
        "\n",
        "2. Finally, we see that the predictors work correctly, and scores of mental health are directly related to these truth of falsehood of the main questions.\n",
        "\n",
        "> Future work: then ask, what are good predictors for each of these questions?"
      ]
    },
    {
      "cell_type": "code",
      "execution_count": 331,
      "metadata": {
        "colab": {
          "base_uri": "https://localhost:8080/",
          "height": 406
        },
        "id": "xa3iw7SPpwu7",
        "outputId": "7c6bc467-8a34-49d1-8bd1-b394a8d19951"
      },
      "outputs": [
        {
          "output_type": "stream",
          "name": "stderr",
          "text": [
            "/usr/local/lib/python3.7/dist-packages/sklearn/base.py:451: UserWarning: X does not have valid feature names, but DecisionTreeRegressor was fitted with feature names\n",
            "  \"X does not have valid feature names, but\"\n"
          ]
        },
        {
          "output_type": "execute_result",
          "data": {
            "text/plain": [
              "<dtreeviz.trees.DTreeViz at 0x7f827904f6d0>"
            ],
            "image/svg+xml": "<svg xmlns=\"http://www.w3.org/2000/svg\" xmlns:xlink=\"http://www.w3.org/1999/xlink\" height=\"331.20000000000005\" viewBox=\"0.0 0.0 926.4000000000001 331.20000000000005\" width=\"926.4000000000001\">\n<g class=\"graph\" id=\"graph0\" transform=\"scale(1.6 1.6) rotate(0) translate(4 203)\">\n<title>G</title>\n<polygon fill=\"#ffffff\" points=\"-4,4 -4,-203 575,-203 575,4 -4,4\" stroke=\"transparent\" />\n\n<g class=\"node\" id=\"node1\">\n<title>node3</title>\n<svg height=\"66px\" preserveAspectRatio=\"xMinYMin meet\" version=\"1.1\" viewBox=\"0 0 160.49625 88.216625\" width=\"120px\" x=\"309\" y=\"-174\">\n <defs>\n  <style type=\"text/css\">\n*{stroke-linecap:butt;stroke-linejoin:round;}\n  </style>\n </defs>\n <g id=\"figure_1\">\n  <g id=\"patch_1\">\n   <path d=\"M 0 88.216625  L 160.49625 88.216625  L 160.49625 -0  L 0 -0  z \" style=\"fill:#ffffff;\" />\n  </g>\n  <g id=\"axes_1\">\n   <g id=\"patch_2\">\n    <path d=\"M 12.09 59.796  L 151.59 59.796  L 151.59 -0  L 12.09 -0  z \" style=\"fill:#ffffff;\" />\n   </g>\n   <g id=\"PathCollection_1\">\n    <defs>\n     <path d=\"M 0 1.118034  C 0.296506 1.118034 0.580908 1.000231 0.790569 0.790569  C 1.000231 0.580908 1.118034 0.296506 1.118034 0  C 1.118034 -0.296506 1.000231 -0.580908 0.790569 -0.790569  C 0.580908 -1.000231 0.296506 -1.118034 0 -1.118034  C -0.296506 -1.118034 -0.580908 -1.000231 -0.790569 -0.790569  C -1.000231 -0.580908 -1.118034 -0.296506 -1.118034 0  C -1.118034 0.296506 -1.000231 0.580908 -0.790569 0.790569  C -0.580908 1.000231 -0.296506 1.118034 0 1.118034  z \" id=\"mc90fb0161a\" style=\"stroke:#4575b4;stroke-opacity:0.7;stroke-width:0.3;\" />\n    </defs>\n    <g clip-path=\"url(#pa6f2b398d3)\">\n     <use style=\"fill:#4575b4;fill-opacity:0.7;stroke:#4575b4;stroke-opacity:0.7;stroke-width:0.3;\" x=\"29.5275\" y=\"40.444544\" xlink:href=\"#mc90fb0161a\" />\n     <use style=\"fill:#4575b4;fill-opacity:0.7;stroke:#4575b4;stroke-opacity:0.7;stroke-width:0.3;\" x=\"58.59\" y=\"59.796\" xlink:href=\"#mc90fb0161a\" />\n     <use style=\"fill:#4575b4;fill-opacity:0.7;stroke:#4575b4;stroke-opacity:0.7;stroke-width:0.3;\" x=\"35.34\" y=\"21.093087\" xlink:href=\"#mc90fb0161a\" />\n     <use style=\"fill:#4575b4;fill-opacity:0.7;stroke:#4575b4;stroke-opacity:0.7;stroke-width:0.3;\" x=\"29.5275\" y=\"1.741631\" xlink:href=\"#mc90fb0161a\" />\n     <use style=\"fill:#4575b4;fill-opacity:0.7;stroke:#4575b4;stroke-opacity:0.7;stroke-width:0.3;\" x=\"12.09\" y=\"59.796\" xlink:href=\"#mc90fb0161a\" />\n     <use style=\"fill:#4575b4;fill-opacity:0.7;stroke:#4575b4;stroke-opacity:0.7;stroke-width:0.3;\" x=\"41.1525\" y=\"40.444544\" xlink:href=\"#mc90fb0161a\" />\n     <use style=\"fill:#4575b4;fill-opacity:0.7;stroke:#4575b4;stroke-opacity:0.7;stroke-width:0.3;\" x=\"70.215\" y=\"40.444544\" xlink:href=\"#mc90fb0161a\" />\n     <use style=\"fill:#4575b4;fill-opacity:0.7;stroke:#4575b4;stroke-opacity:0.7;stroke-width:0.3;\" x=\"29.5275\" y=\"59.796\" xlink:href=\"#mc90fb0161a\" />\n     <use style=\"fill:#4575b4;fill-opacity:0.7;stroke:#4575b4;stroke-opacity:0.7;stroke-width:0.3;\" x=\"78.93375\" y=\"59.796\" xlink:href=\"#mc90fb0161a\" />\n     <use style=\"fill:#4575b4;fill-opacity:0.7;stroke:#4575b4;stroke-opacity:0.7;stroke-width:0.3;\" x=\"29.5275\" y=\"40.444544\" xlink:href=\"#mc90fb0161a\" />\n     <use style=\"fill:#4575b4;fill-opacity:0.7;stroke:#4575b4;stroke-opacity:0.7;stroke-width:0.3;\" x=\"17.9025\" y=\"1.741631\" xlink:href=\"#mc90fb0161a\" />\n     <use style=\"fill:#4575b4;fill-opacity:0.7;stroke:#4575b4;stroke-opacity:0.7;stroke-width:0.3;\" x=\"29.5275\" y=\"21.093087\" xlink:href=\"#mc90fb0161a\" />\n     <use style=\"fill:#4575b4;fill-opacity:0.7;stroke:#4575b4;stroke-opacity:0.7;stroke-width:0.3;\" x=\"142.87125\" y=\"40.444544\" xlink:href=\"#mc90fb0161a\" />\n     <use style=\"fill:#4575b4;fill-opacity:0.7;stroke:#4575b4;stroke-opacity:0.7;stroke-width:0.3;\" x=\"139.965\" y=\"40.444544\" xlink:href=\"#mc90fb0161a\" />\n     <use style=\"fill:#4575b4;fill-opacity:0.7;stroke:#4575b4;stroke-opacity:0.7;stroke-width:0.3;\" x=\"12.09\" y=\"40.444544\" xlink:href=\"#mc90fb0161a\" />\n     <use style=\"fill:#4575b4;fill-opacity:0.7;stroke:#4575b4;stroke-opacity:0.7;stroke-width:0.3;\" x=\"29.5275\" y=\"59.796\" xlink:href=\"#mc90fb0161a\" />\n     <use style=\"fill:#4575b4;fill-opacity:0.7;stroke:#4575b4;stroke-opacity:0.7;stroke-width:0.3;\" x=\"52.7775\" y=\"59.796\" xlink:href=\"#mc90fb0161a\" />\n     <use style=\"fill:#4575b4;fill-opacity:0.7;stroke:#4575b4;stroke-opacity:0.7;stroke-width:0.3;\" x=\"29.5275\" y=\"21.093087\" xlink:href=\"#mc90fb0161a\" />\n     <use style=\"fill:#4575b4;fill-opacity:0.7;stroke:#4575b4;stroke-opacity:0.7;stroke-width:0.3;\" x=\"17.9025\" y=\"1.741631\" xlink:href=\"#mc90fb0161a\" />\n     <use style=\"fill:#4575b4;fill-opacity:0.7;stroke:#4575b4;stroke-opacity:0.7;stroke-width:0.3;\" x=\"12.09\" y=\"59.796\" xlink:href=\"#mc90fb0161a\" />\n     <use style=\"fill:#4575b4;fill-opacity:0.7;stroke:#4575b4;stroke-opacity:0.7;stroke-width:0.3;\" x=\"29.5275\" y=\"40.444544\" xlink:href=\"#mc90fb0161a\" />\n     <use style=\"fill:#4575b4;fill-opacity:0.7;stroke:#4575b4;stroke-opacity:0.7;stroke-width:0.3;\" x=\"87.6525\" y=\"40.444544\" xlink:href=\"#mc90fb0161a\" />\n     <use style=\"fill:#4575b4;fill-opacity:0.7;stroke:#4575b4;stroke-opacity:0.7;stroke-width:0.3;\" x=\"125.43375\" y=\"59.796\" xlink:href=\"#mc90fb0161a\" />\n     <use style=\"fill:#4575b4;fill-opacity:0.7;stroke:#4575b4;stroke-opacity:0.7;stroke-width:0.3;\" x=\"38.24625\" y=\"59.796\" xlink:href=\"#mc90fb0161a\" />\n     <use style=\"fill:#4575b4;fill-opacity:0.7;stroke:#4575b4;stroke-opacity:0.7;stroke-width:0.3;\" x=\"17.9025\" y=\"40.444544\" xlink:href=\"#mc90fb0161a\" />\n     <use style=\"fill:#4575b4;fill-opacity:0.7;stroke:#4575b4;stroke-opacity:0.7;stroke-width:0.3;\" x=\"12.09\" y=\"40.444544\" xlink:href=\"#mc90fb0161a\" />\n     <use style=\"fill:#4575b4;fill-opacity:0.7;stroke:#4575b4;stroke-opacity:0.7;stroke-width:0.3;\" x=\"67.30875\" y=\"40.444544\" xlink:href=\"#mc90fb0161a\" />\n     <use style=\"fill:#4575b4;fill-opacity:0.7;stroke:#4575b4;stroke-opacity:0.7;stroke-width:0.3;\" x=\"55.68375\" y=\"59.796\" xlink:href=\"#mc90fb0161a\" />\n     <use style=\"fill:#4575b4;fill-opacity:0.7;stroke:#4575b4;stroke-opacity:0.7;stroke-width:0.3;\" x=\"12.09\" y=\"40.444544\" xlink:href=\"#mc90fb0161a\" />\n     <use style=\"fill:#4575b4;fill-opacity:0.7;stroke:#4575b4;stroke-opacity:0.7;stroke-width:0.3;\" x=\"17.9025\" y=\"40.444544\" xlink:href=\"#mc90fb0161a\" />\n     <use style=\"fill:#4575b4;fill-opacity:0.7;stroke:#4575b4;stroke-opacity:0.7;stroke-width:0.3;\" x=\"29.5275\" y=\"40.444544\" xlink:href=\"#mc90fb0161a\" />\n     <use style=\"fill:#4575b4;fill-opacity:0.7;stroke:#4575b4;stroke-opacity:0.7;stroke-width:0.3;\" x=\"128.34\" y=\"59.796\" xlink:href=\"#mc90fb0161a\" />\n     <use style=\"fill:#4575b4;fill-opacity:0.7;stroke:#4575b4;stroke-opacity:0.7;stroke-width:0.3;\" x=\"12.09\" y=\"40.444544\" xlink:href=\"#mc90fb0161a\" />\n     <use style=\"fill:#4575b4;fill-opacity:0.7;stroke:#4575b4;stroke-opacity:0.7;stroke-width:0.3;\" x=\"29.5275\" y=\"59.796\" xlink:href=\"#mc90fb0161a\" />\n     <use style=\"fill:#4575b4;fill-opacity:0.7;stroke:#4575b4;stroke-opacity:0.7;stroke-width:0.3;\" x=\"44.05875\" y=\"59.796\" xlink:href=\"#mc90fb0161a\" />\n     <use style=\"fill:#4575b4;fill-opacity:0.7;stroke:#4575b4;stroke-opacity:0.7;stroke-width:0.3;\" x=\"84.74625\" y=\"59.796\" xlink:href=\"#mc90fb0161a\" />\n     <use style=\"fill:#4575b4;fill-opacity:0.7;stroke:#4575b4;stroke-opacity:0.7;stroke-width:0.3;\" x=\"145.7775\" y=\"59.796\" xlink:href=\"#mc90fb0161a\" />\n     <use style=\"fill:#4575b4;fill-opacity:0.7;stroke:#4575b4;stroke-opacity:0.7;stroke-width:0.3;\" x=\"134.1525\" y=\"59.796\" xlink:href=\"#mc90fb0161a\" />\n     <use style=\"fill:#4575b4;fill-opacity:0.7;stroke:#4575b4;stroke-opacity:0.7;stroke-width:0.3;\" x=\"29.5275\" y=\"40.444544\" xlink:href=\"#mc90fb0161a\" />\n     <use style=\"fill:#4575b4;fill-opacity:0.7;stroke:#4575b4;stroke-opacity:0.7;stroke-width:0.3;\" x=\"14.99625\" y=\"40.444544\" xlink:href=\"#mc90fb0161a\" />\n     <use style=\"fill:#4575b4;fill-opacity:0.7;stroke:#4575b4;stroke-opacity:0.7;stroke-width:0.3;\" x=\"64.4025\" y=\"59.796\" xlink:href=\"#mc90fb0161a\" />\n     <use style=\"fill:#4575b4;fill-opacity:0.7;stroke:#4575b4;stroke-opacity:0.7;stroke-width:0.3;\" x=\"122.5275\" y=\"59.796\" xlink:href=\"#mc90fb0161a\" />\n     <use style=\"fill:#4575b4;fill-opacity:0.7;stroke:#4575b4;stroke-opacity:0.7;stroke-width:0.3;\" x=\"116.715\" y=\"59.796\" xlink:href=\"#mc90fb0161a\" />\n     <use style=\"fill:#4575b4;fill-opacity:0.7;stroke:#4575b4;stroke-opacity:0.7;stroke-width:0.3;\" x=\"29.5275\" y=\"40.444544\" xlink:href=\"#mc90fb0161a\" />\n     <use style=\"fill:#4575b4;fill-opacity:0.7;stroke:#4575b4;stroke-opacity:0.7;stroke-width:0.3;\" x=\"29.5275\" y=\"40.444544\" xlink:href=\"#mc90fb0161a\" />\n     <use style=\"fill:#4575b4;fill-opacity:0.7;stroke:#4575b4;stroke-opacity:0.7;stroke-width:0.3;\" x=\"17.9025\" y=\"40.444544\" xlink:href=\"#mc90fb0161a\" />\n     <use style=\"fill:#4575b4;fill-opacity:0.7;stroke:#4575b4;stroke-opacity:0.7;stroke-width:0.3;\" x=\"131.24625\" y=\"1.741631\" xlink:href=\"#mc90fb0161a\" />\n     <use style=\"fill:#4575b4;fill-opacity:0.7;stroke:#4575b4;stroke-opacity:0.7;stroke-width:0.3;\" x=\"131.24625\" y=\"21.093087\" xlink:href=\"#mc90fb0161a\" />\n     <use style=\"fill:#4575b4;fill-opacity:0.7;stroke:#4575b4;stroke-opacity:0.7;stroke-width:0.3;\" x=\"29.5275\" y=\"59.796\" xlink:href=\"#mc90fb0161a\" />\n     <use style=\"fill:#4575b4;fill-opacity:0.7;stroke:#4575b4;stroke-opacity:0.7;stroke-width:0.3;\" x=\"12.09\" y=\"59.796\" xlink:href=\"#mc90fb0161a\" />\n     <use style=\"fill:#4575b4;fill-opacity:0.7;stroke:#4575b4;stroke-opacity:0.7;stroke-width:0.3;\" x=\"17.9025\" y=\"59.796\" xlink:href=\"#mc90fb0161a\" />\n     <use style=\"fill:#4575b4;fill-opacity:0.7;stroke:#4575b4;stroke-opacity:0.7;stroke-width:0.3;\" x=\"61.49625\" y=\"21.093087\" xlink:href=\"#mc90fb0161a\" />\n     <use style=\"fill:#4575b4;fill-opacity:0.7;stroke:#4575b4;stroke-opacity:0.7;stroke-width:0.3;\" x=\"12.09\" y=\"21.093087\" xlink:href=\"#mc90fb0161a\" />\n     <use style=\"fill:#4575b4;fill-opacity:0.7;stroke:#4575b4;stroke-opacity:0.7;stroke-width:0.3;\" x=\"32.43375\" y=\"59.796\" xlink:href=\"#mc90fb0161a\" />\n     <use style=\"fill:#4575b4;fill-opacity:0.7;stroke:#4575b4;stroke-opacity:0.7;stroke-width:0.3;\" x=\"137.05875\" y=\"40.444544\" xlink:href=\"#mc90fb0161a\" />\n     <use style=\"fill:#4575b4;fill-opacity:0.7;stroke:#4575b4;stroke-opacity:0.7;stroke-width:0.3;\" x=\"17.9025\" y=\"1.741631\" xlink:href=\"#mc90fb0161a\" />\n     <use style=\"fill:#4575b4;fill-opacity:0.7;stroke:#4575b4;stroke-opacity:0.7;stroke-width:0.3;\" x=\"78.93375\" y=\"59.796\" xlink:href=\"#mc90fb0161a\" />\n     <use style=\"fill:#4575b4;fill-opacity:0.7;stroke:#4575b4;stroke-opacity:0.7;stroke-width:0.3;\" x=\"12.09\" y=\"59.796\" xlink:href=\"#mc90fb0161a\" />\n     <use style=\"fill:#4575b4;fill-opacity:0.7;stroke:#4575b4;stroke-opacity:0.7;stroke-width:0.3;\" x=\"12.09\" y=\"21.093087\" xlink:href=\"#mc90fb0161a\" />\n     <use style=\"fill:#4575b4;fill-opacity:0.7;stroke:#4575b4;stroke-opacity:0.7;stroke-width:0.3;\" x=\"12.09\" y=\"21.093087\" xlink:href=\"#mc90fb0161a\" />\n    </g>\n   </g>\n   <g id=\"patch_3\">\n    <path d=\"M 36.793125 59.796  L 34.282125 65.7756  L 39.304125 65.7756  z \" style=\"fill:#444443;\" />\n   </g>\n   <g id=\"matplotlib.axis_1\">\n    <g id=\"xtick_1\">\n     <g id=\"line2d_1\">\n      <defs>\n       <path d=\"M 0 0  L 0 3.5  \" id=\"m02ef01b29a\" style=\"stroke:#444443;stroke-width:0.3;\" />\n      </defs>\n      <g>\n       <use style=\"fill:#444443;stroke:#444443;stroke-width:0.3;\" x=\"12.09\" y=\"59.796\" xlink:href=\"#m02ef01b29a\" />\n      </g>\n     </g>\n     <g id=\"text_1\">\n      \n      <defs>\n       <path d=\"M 31.78125 66.40625  Q 24.171875 66.40625 20.328125 58.90625  Q 16.5 51.421875 16.5 36.375  Q 16.5 21.390625 20.328125 13.890625  Q 24.171875 6.390625 31.78125 6.390625  Q 39.453125 6.390625 43.28125 13.890625  Q 47.125 21.390625 47.125 36.375  Q 47.125 51.421875 43.28125 58.90625  Q 39.453125 66.40625 31.78125 66.40625  z M 31.78125 74.21875  Q 44.046875 74.21875 50.515625 64.515625  Q 56.984375 54.828125 56.984375 36.375  Q 56.984375 17.96875 50.515625 8.265625  Q 44.046875 -1.421875 31.78125 -1.421875  Q 19.53125 -1.421875 13.0625 8.265625  Q 6.59375 17.96875 6.59375 36.375  Q 6.59375 54.828125 13.0625 64.515625  Q 19.53125 74.21875 31.78125 74.21875  z \" id=\"DejaVuSans-48\" />\n       <path d=\"M 10.6875 12.40625  L 21 12.40625  L 21 0  L 10.6875 0  z \" id=\"DejaVuSans-46\" />\n      </defs>\n      <g style=\"fill:#444443;\" transform=\"translate(5.72875 72.87475)scale(0.08 -0.08)\">\n       <use xlink:href=\"#DejaVuSans-48\" />\n       <use x=\"63.623047\" xlink:href=\"#DejaVuSans-46\" />\n       <use x=\"95.410156\" xlink:href=\"#DejaVuSans-48\" />\n      </g>\n     </g>\n    </g>\n    <g id=\"xtick_2\">\n     <g id=\"line2d_2\">\n      <g>\n       <use style=\"fill:#444443;stroke:#444443;stroke-width:0.3;\" x=\"151.59\" y=\"59.796\" xlink:href=\"#m02ef01b29a\" />\n      </g>\n     </g>\n     <g id=\"text_2\">\n      \n      <defs>\n       <path d=\"M 37.796875 64.3125  L 12.890625 25.390625  L 37.796875 25.390625  z M 35.203125 72.90625  L 47.609375 72.90625  L 47.609375 25.390625  L 58.015625 25.390625  L 58.015625 17.1875  L 47.609375 17.1875  L 47.609375 0  L 37.796875 0  L 37.796875 17.1875  L 4.890625 17.1875  L 4.890625 26.703125  z \" id=\"DejaVuSans-52\" />\n       <path d=\"M 31.78125 34.625  Q 24.75 34.625 20.71875 30.859375  Q 16.703125 27.09375 16.703125 20.515625  Q 16.703125 13.921875 20.71875 10.15625  Q 24.75 6.390625 31.78125 6.390625  Q 38.8125 6.390625 42.859375 10.171875  Q 46.921875 13.96875 46.921875 20.515625  Q 46.921875 27.09375 42.890625 30.859375  Q 38.875 34.625 31.78125 34.625  z M 21.921875 38.8125  Q 15.578125 40.375 12.03125 44.71875  Q 8.5 49.078125 8.5 55.328125  Q 8.5 64.0625 14.71875 69.140625  Q 20.953125 74.21875 31.78125 74.21875  Q 42.671875 74.21875 48.875 69.140625  Q 55.078125 64.0625 55.078125 55.328125  Q 55.078125 49.078125 51.53125 44.71875  Q 48 40.375 41.703125 38.8125  Q 48.828125 37.15625 52.796875 32.3125  Q 56.78125 27.484375 56.78125 20.515625  Q 56.78125 9.90625 50.3125 4.234375  Q 43.84375 -1.421875 31.78125 -1.421875  Q 19.734375 -1.421875 13.25 4.234375  Q 6.78125 9.90625 6.78125 20.515625  Q 6.78125 27.484375 10.78125 32.3125  Q 14.796875 37.15625 21.921875 38.8125  z M 18.3125 54.390625  Q 18.3125 48.734375 21.84375 45.5625  Q 25.390625 42.390625 31.78125 42.390625  Q 38.140625 42.390625 41.71875 45.5625  Q 45.3125 48.734375 45.3125 54.390625  Q 45.3125 60.0625 41.71875 63.234375  Q 38.140625 66.40625 31.78125 66.40625  Q 25.390625 66.40625 21.84375 63.234375  Q 18.3125 60.0625 18.3125 54.390625  z \" id=\"DejaVuSans-56\" />\n      </defs>\n      <g style=\"fill:#444443;\" transform=\"translate(142.68375 72.87475)scale(0.08 -0.08)\">\n       <use xlink:href=\"#DejaVuSans-52\" />\n       <use x=\"63.623047\" xlink:href=\"#DejaVuSans-56\" />\n       <use x=\"127.246094\" xlink:href=\"#DejaVuSans-46\" />\n       <use x=\"159.033203\" xlink:href=\"#DejaVuSans-48\" />\n      </g>\n     </g>\n    </g>\n    <g id=\"xtick_3\">\n     <g id=\"line2d_3\">\n      <g>\n       <use style=\"fill:#444443;stroke:#444443;stroke-width:0.3;\" x=\"36.793125\" y=\"59.796\" xlink:href=\"#m02ef01b29a\" />\n      </g>\n     </g>\n     <g id=\"text_3\">\n      \n      <defs>\n       <path d=\"M 10.796875 72.90625  L 49.515625 72.90625  L 49.515625 64.59375  L 19.828125 64.59375  L 19.828125 46.734375  Q 21.96875 47.46875 24.109375 47.828125  Q 26.265625 48.1875 28.421875 48.1875  Q 40.625 48.1875 47.75 41.5  Q 54.890625 34.8125 54.890625 23.390625  Q 54.890625 11.625 47.5625 5.09375  Q 40.234375 -1.421875 26.90625 -1.421875  Q 22.3125 -1.421875 17.546875 -0.640625  Q 12.796875 0.140625 7.71875 1.703125  L 7.71875 11.625  Q 12.109375 9.234375 16.796875 8.0625  Q 21.484375 6.890625 26.703125 6.890625  Q 35.15625 6.890625 40.078125 11.328125  Q 45.015625 15.765625 45.015625 23.390625  Q 45.015625 31 40.078125 35.4375  Q 35.15625 39.890625 26.703125 39.890625  Q 22.75 39.890625 18.8125 39.015625  Q 14.890625 38.140625 10.796875 36.28125  z \" id=\"DejaVuSans-53\" />\n      </defs>\n      <g style=\"fill:#444443;\" transform=\"translate(30.431875 72.87475)scale(0.08 -0.08)\">\n       <use xlink:href=\"#DejaVuSans-56\" />\n       <use x=\"63.623047\" xlink:href=\"#DejaVuSans-46\" />\n       <use x=\"95.410156\" xlink:href=\"#DejaVuSans-53\" />\n      </g>\n     </g>\n    </g>\n    <g id=\"text_4\">\n     \n     <defs>\n      <path d=\"M 3.328125 72.90625  L 13.28125 72.90625  L 28.609375 11.28125  L 43.890625 72.90625  L 54.984375 72.90625  L 70.3125 11.28125  L 85.59375 72.90625  L 95.609375 72.90625  L 77.296875 0  L 64.890625 0  L 49.515625 63.28125  L 33.984375 0  L 21.578125 0  z \" id=\"DejaVuSans-87\" />\n      <path d=\"M 54.890625 33.015625  L 54.890625 0  L 45.90625 0  L 45.90625 32.71875  Q 45.90625 40.484375 42.875 44.328125  Q 39.84375 48.1875 33.796875 48.1875  Q 26.515625 48.1875 22.3125 43.546875  Q 18.109375 38.921875 18.109375 30.90625  L 18.109375 0  L 9.078125 0  L 9.078125 75.984375  L 18.109375 75.984375  L 18.109375 46.1875  Q 21.34375 51.125 25.703125 53.5625  Q 30.078125 56 35.796875 56  Q 45.21875 56 50.046875 50.171875  Q 54.890625 44.34375 54.890625 33.015625  z \" id=\"DejaVuSans-104\" />\n      <path d=\"M 34.28125 27.484375  Q 23.390625 27.484375 19.1875 25  Q 14.984375 22.515625 14.984375 16.5  Q 14.984375 11.71875 18.140625 8.90625  Q 21.296875 6.109375 26.703125 6.109375  Q 34.1875 6.109375 38.703125 11.40625  Q 43.21875 16.703125 43.21875 25.484375  L 43.21875 27.484375  z M 52.203125 31.203125  L 52.203125 0  L 43.21875 0  L 43.21875 8.296875  Q 40.140625 3.328125 35.546875 0.953125  Q 30.953125 -1.421875 24.3125 -1.421875  Q 15.921875 -1.421875 10.953125 3.296875  Q 6 8.015625 6 15.921875  Q 6 25.140625 12.171875 29.828125  Q 18.359375 34.515625 30.609375 34.515625  L 43.21875 34.515625  L 43.21875 35.40625  Q 43.21875 41.609375 39.140625 45  Q 35.0625 48.390625 27.6875 48.390625  Q 23 48.390625 18.546875 47.265625  Q 14.109375 46.140625 10.015625 43.890625  L 10.015625 52.203125  Q 14.9375 54.109375 19.578125 55.046875  Q 24.21875 56 28.609375 56  Q 40.484375 56 46.34375 49.84375  Q 52.203125 43.703125 52.203125 31.203125  z \" id=\"DejaVuSans-97\" />\n      <path d=\"M 18.3125 70.21875  L 18.3125 54.6875  L 36.8125 54.6875  L 36.8125 47.703125  L 18.3125 47.703125  L 18.3125 18.015625  Q 18.3125 11.328125 20.140625 9.421875  Q 21.96875 7.515625 27.59375 7.515625  L 36.8125 7.515625  L 36.8125 0  L 27.59375 0  Q 17.1875 0 13.234375 3.875  Q 9.28125 7.765625 9.28125 18.015625  L 9.28125 47.703125  L 2.6875 47.703125  L 2.6875 54.6875  L 9.28125 54.6875  L 9.28125 70.21875  z \" id=\"DejaVuSans-116\" />\n      <path id=\"DejaVuSans-32\" />\n      <path d=\"M 9.421875 54.6875  L 18.40625 54.6875  L 18.40625 0  L 9.421875 0  z M 9.421875 75.984375  L 18.40625 75.984375  L 18.40625 64.59375  L 9.421875 64.59375  z \" id=\"DejaVuSans-105\" />\n      <path d=\"M 44.28125 53.078125  L 44.28125 44.578125  Q 40.484375 46.53125 36.375 47.5  Q 32.28125 48.484375 27.875 48.484375  Q 21.1875 48.484375 17.84375 46.4375  Q 14.5 44.390625 14.5 40.28125  Q 14.5 37.15625 16.890625 35.375  Q 19.28125 33.59375 26.515625 31.984375  L 29.59375 31.296875  Q 39.15625 29.25 43.1875 25.515625  Q 47.21875 21.78125 47.21875 15.09375  Q 47.21875 7.46875 41.1875 3.015625  Q 35.15625 -1.421875 24.609375 -1.421875  Q 20.21875 -1.421875 15.453125 -0.5625  Q 10.6875 0.296875 5.421875 2  L 5.421875 11.28125  Q 10.40625 8.6875 15.234375 7.390625  Q 20.0625 6.109375 24.8125 6.109375  Q 31.15625 6.109375 34.5625 8.28125  Q 37.984375 10.453125 37.984375 14.40625  Q 37.984375 18.0625 35.515625 20.015625  Q 33.0625 21.96875 24.703125 23.78125  L 21.578125 24.515625  Q 13.234375 26.265625 9.515625 29.90625  Q 5.8125 33.546875 5.8125 39.890625  Q 5.8125 47.609375 11.28125 51.796875  Q 16.75 56 26.8125 56  Q 31.78125 56 36.171875 55.265625  Q 40.578125 54.546875 44.28125 53.078125  z \" id=\"DejaVuSans-115\" />\n      <path d=\"M 32.171875 -5.078125  Q 28.375 -14.84375 24.75 -17.8125  Q 21.140625 -20.796875 15.09375 -20.796875  L 7.90625 -20.796875  L 7.90625 -13.28125  L 13.1875 -13.28125  Q 16.890625 -13.28125 18.9375 -11.515625  Q 21 -9.765625 23.484375 -3.21875  L 25.09375 0.875  L 2.984375 54.6875  L 12.5 54.6875  L 29.59375 11.921875  L 46.6875 54.6875  L 56.203125 54.6875  z \" id=\"DejaVuSans-121\" />\n      <path d=\"M 30.609375 48.390625  Q 23.390625 48.390625 19.1875 42.75  Q 14.984375 37.109375 14.984375 27.296875  Q 14.984375 17.484375 19.15625 11.84375  Q 23.34375 6.203125 30.609375 6.203125  Q 37.796875 6.203125 41.984375 11.859375  Q 46.1875 17.53125 46.1875 27.296875  Q 46.1875 37.015625 41.984375 42.703125  Q 37.796875 48.390625 30.609375 48.390625  z M 30.609375 56  Q 42.328125 56 49.015625 48.375  Q 55.71875 40.765625 55.71875 27.296875  Q 55.71875 13.875 49.015625 6.21875  Q 42.328125 -1.421875 30.609375 -1.421875  Q 18.84375 -1.421875 12.171875 6.21875  Q 5.515625 13.875 5.515625 27.296875  Q 5.515625 40.765625 12.171875 48.375  Q 18.84375 56 30.609375 56  z \" id=\"DejaVuSans-111\" />\n      <path d=\"M 8.5 21.578125  L 8.5 54.6875  L 17.484375 54.6875  L 17.484375 21.921875  Q 17.484375 14.15625 20.5 10.265625  Q 23.53125 6.390625 29.59375 6.390625  Q 36.859375 6.390625 41.078125 11.03125  Q 45.3125 15.671875 45.3125 23.6875  L 45.3125 54.6875  L 54.296875 54.6875  L 54.296875 0  L 45.3125 0  L 45.3125 8.40625  Q 42.046875 3.421875 37.71875 1  Q 33.40625 -1.421875 27.6875 -1.421875  Q 18.265625 -1.421875 13.375 4.4375  Q 8.5 10.296875 8.5 21.578125  z M 31.109375 56  z \" id=\"DejaVuSans-117\" />\n      <path d=\"M 41.109375 46.296875  Q 39.59375 47.171875 37.8125 47.578125  Q 36.03125 48 33.890625 48  Q 26.265625 48 22.1875 43.046875  Q 18.109375 38.09375 18.109375 28.8125  L 18.109375 0  L 9.078125 0  L 9.078125 54.6875  L 18.109375 54.6875  L 18.109375 46.1875  Q 20.953125 51.171875 25.484375 53.578125  Q 30.03125 56 36.53125 56  Q 37.453125 56 38.578125 55.875  Q 39.703125 55.765625 41.0625 55.515625  z \" id=\"DejaVuSans-114\" />\n      <path d=\"M 48.78125 52.59375  L 48.78125 44.1875  Q 44.96875 46.296875 41.140625 47.34375  Q 37.3125 48.390625 33.40625 48.390625  Q 24.65625 48.390625 19.8125 42.84375  Q 14.984375 37.3125 14.984375 27.296875  Q 14.984375 17.28125 19.8125 11.734375  Q 24.65625 6.203125 33.40625 6.203125  Q 37.3125 6.203125 41.140625 7.25  Q 44.96875 8.296875 48.78125 10.40625  L 48.78125 2.09375  Q 45.015625 0.34375 40.984375 -0.53125  Q 36.96875 -1.421875 32.421875 -1.421875  Q 20.0625 -1.421875 12.78125 6.34375  Q 5.515625 14.109375 5.515625 27.296875  Q 5.515625 40.671875 12.859375 48.328125  Q 20.21875 56 33.015625 56  Q 37.15625 56 41.109375 55.140625  Q 45.0625 54.296875 48.78125 52.59375  z \" id=\"DejaVuSans-99\" />\n      <path d=\"M 56.203125 29.59375  L 56.203125 25.203125  L 14.890625 25.203125  Q 15.484375 15.921875 20.484375 11.0625  Q 25.484375 6.203125 34.421875 6.203125  Q 39.59375 6.203125 44.453125 7.46875  Q 49.3125 8.734375 54.109375 11.28125  L 54.109375 2.78125  Q 49.265625 0.734375 44.1875 -0.34375  Q 39.109375 -1.421875 33.890625 -1.421875  Q 20.796875 -1.421875 13.15625 6.1875  Q 5.515625 13.8125 5.515625 26.8125  Q 5.515625 40.234375 12.765625 48.109375  Q 20.015625 56 32.328125 56  Q 43.359375 56 49.78125 48.890625  Q 56.203125 41.796875 56.203125 29.59375  z M 47.21875 32.234375  Q 47.125 39.59375 43.09375 43.984375  Q 39.0625 48.390625 32.421875 48.390625  Q 24.90625 48.390625 20.390625 44.140625  Q 15.875 39.890625 15.1875 32.171875  z \" id=\"DejaVuSans-101\" />\n      <path d=\"M 19.09375 12.40625  L 29 12.40625  L 29 0  L 19.09375 0  z M 28.71875 19.578125  L 19.390625 19.578125  L 19.390625 27.09375  Q 19.390625 32.03125 20.75 35.203125  Q 22.125 38.375 26.515625 42.578125  L 30.90625 46.921875  Q 33.6875 49.515625 34.9375 51.8125  Q 36.1875 54.109375 36.1875 56.5  Q 36.1875 60.84375 32.984375 63.53125  Q 29.78125 66.21875 24.515625 66.21875  Q 20.65625 66.21875 16.28125 64.5  Q 11.921875 62.796875 7.171875 59.515625  L 7.171875 68.703125  Q 11.765625 71.484375 16.46875 72.84375  Q 21.1875 74.21875 26.21875 74.21875  Q 35.203125 74.21875 40.640625 69.484375  Q 46.09375 64.75 46.09375 56.984375  Q 46.09375 53.265625 44.328125 49.921875  Q 42.578125 46.578125 38.1875 42.390625  L 33.890625 38.1875  Q 31.59375 35.890625 30.640625 34.59375  Q 29.6875 33.296875 29.296875 32.078125  Q 29 31.0625 28.859375 29.59375  Q 28.71875 28.125 28.71875 25.59375  z \" id=\"DejaVuSans-63\" />\n     </defs>\n     <g style=\"fill:#444443;\" transform=\"translate(29.331406 86.136937)scale(0.1 -0.1)\">\n      <use xlink:href=\"#DejaVuSans-87\" />\n      <use x=\"98.876953\" xlink:href=\"#DejaVuSans-104\" />\n      <use x=\"162.255859\" xlink:href=\"#DejaVuSans-97\" />\n      <use x=\"223.535156\" xlink:href=\"#DejaVuSans-116\" />\n      <use x=\"262.744141\" xlink:href=\"#DejaVuSans-32\" />\n      <use x=\"294.53125\" xlink:href=\"#DejaVuSans-105\" />\n      <use x=\"322.314453\" xlink:href=\"#DejaVuSans-115\" />\n      <use x=\"374.414062\" xlink:href=\"#DejaVuSans-32\" />\n      <use x=\"406.201172\" xlink:href=\"#DejaVuSans-121\" />\n      <use x=\"465.380859\" xlink:href=\"#DejaVuSans-111\" />\n      <use x=\"526.5625\" xlink:href=\"#DejaVuSans-117\" />\n      <use x=\"589.941406\" xlink:href=\"#DejaVuSans-114\" />\n      <use x=\"631.054688\" xlink:href=\"#DejaVuSans-32\" />\n      <use x=\"662.841797\" xlink:href=\"#DejaVuSans-99\" />\n      <use x=\"717.822266\" xlink:href=\"#DejaVuSans-111\" />\n      <use x=\"779.003906\" xlink:href=\"#DejaVuSans-117\" />\n      <use x=\"842.382812\" xlink:href=\"#DejaVuSans-114\" />\n      <use x=\"883.496094\" xlink:href=\"#DejaVuSans-115\" />\n      <use x=\"935.595703\" xlink:href=\"#DejaVuSans-101\" />\n      <use x=\"997.119141\" xlink:href=\"#DejaVuSans-63\" />\n     </g>\n    </g>\n   </g>\n   <g id=\"matplotlib.axis_2\">\n    <g id=\"ytick_1\">\n     <g id=\"line2d_4\">\n      <defs>\n       <path d=\"M 0 0  L -3.5 0  \" id=\"m27f1736f12\" style=\"stroke:#444443;stroke-width:0.3;\" />\n      </defs>\n      <g>\n       <use style=\"fill:#444443;stroke:#444443;stroke-width:0.3;\" x=\"12.09\" y=\"59.796\" xlink:href=\"#m27f1736f12\" />\n      </g>\n     </g>\n     <g id=\"text_5\">\n      \n      <g style=\"fill:#444443;\" transform=\"translate(0 62.835375)scale(0.08 -0.08)\">\n       <use xlink:href=\"#DejaVuSans-48\" />\n      </g>\n     </g>\n    </g>\n    <g id=\"ytick_2\">\n     <g id=\"line2d_5\">\n      <g>\n       <use style=\"fill:#444443;stroke:#444443;stroke-width:0.3;\" x=\"12.09\" y=\"21.093087\" xlink:href=\"#m27f1736f12\" />\n      </g>\n     </g>\n     <g id=\"text_6\">\n      \n      <defs>\n       <path d=\"M 19.1875 8.296875  L 53.609375 8.296875  L 53.609375 0  L 7.328125 0  L 7.328125 8.296875  Q 12.9375 14.109375 22.625 23.890625  Q 32.328125 33.6875 34.8125 36.53125  Q 39.546875 41.84375 41.421875 45.53125  Q 43.3125 49.21875 43.3125 52.78125  Q 43.3125 58.59375 39.234375 62.25  Q 35.15625 65.921875 28.609375 65.921875  Q 23.96875 65.921875 18.8125 64.3125  Q 13.671875 62.703125 7.8125 59.421875  L 7.8125 69.390625  Q 13.765625 71.78125 18.9375 73  Q 24.125 74.21875 28.421875 74.21875  Q 39.75 74.21875 46.484375 68.546875  Q 53.21875 62.890625 53.21875 53.421875  Q 53.21875 48.921875 51.53125 44.890625  Q 49.859375 40.875 45.40625 35.40625  Q 44.1875 33.984375 37.640625 27.21875  Q 31.109375 20.453125 19.1875 8.296875  z \" id=\"DejaVuSans-50\" />\n      </defs>\n      <g style=\"fill:#444443;\" transform=\"translate(0 24.132462)scale(0.08 -0.08)\">\n       <use xlink:href=\"#DejaVuSans-50\" />\n      </g>\n     </g>\n    </g>\n   </g>\n   <g id=\"line2d_6\">\n    <path clip-path=\"url(#pa6f2b398d3)\" d=\"M 12.09 38.232949  L 36.793125 38.232949  \" style=\"fill:none;stroke:#444443;stroke-dasharray:3.7,1.6;stroke-dashoffset:0;\" />\n   </g>\n   <g id=\"line2d_7\">\n    <path clip-path=\"url(#pa6f2b398d3)\" d=\"M 36.793125 59.796  L 36.793125 -0  \" style=\"fill:none;stroke:#444443;stroke-dasharray:3.7,1.6;stroke-dashoffset:0;\" />\n   </g>\n   <g id=\"line2d_8\">\n    <path clip-path=\"url(#pa6f2b398d3)\" d=\"M 36.793125 48.959184  L 151.59 48.959184  \" style=\"fill:none;stroke:#444443;stroke-dasharray:3.7,1.6;stroke-dashoffset:0;\" />\n   </g>\n   <g id=\"patch_4\">\n    <path d=\"M 12.09 59.796  L 12.09 -0  \" style=\"fill:none;stroke:#000000;stroke-linecap:square;stroke-linejoin:miter;stroke-width:0.3;\" />\n   </g>\n   <g id=\"patch_5\">\n    <path d=\"M 12.09 59.796  L 151.59 59.796  \" style=\"fill:none;stroke:#000000;stroke-linecap:square;stroke-linejoin:miter;stroke-width:0.3;\" />\n   </g>\n  </g>\n </g>\n <defs>\n  <clipPath id=\"pa6f2b398d3\">\n   <rect height=\"59.796\" width=\"139.5\" x=\"12.09\" y=\"-0\" />\n  </clipPath>\n </defs>\n</svg></g>\n\n<g class=\"node\" id=\"node4\">\n<title>leaf5</title>\n<polygon fill=\"none\" points=\"571,-199 450,-199 450,-141 571,-141 571,-199\" stroke=\"#444443\" stroke-width=\"0\" />\n<svg height=\"50px\" preserveAspectRatio=\"xMinYMin meet\" version=\"1.1\" viewBox=\"0 0 150.15 66.113937\" width=\"113px\" x=\"454.5\" y=\"-195\">\n <defs>\n  <style type=\"text/css\">\n*{stroke-linecap:butt;stroke-linejoin:round;}\n  </style>\n </defs>\n <g id=\"figure_1\">\n  <g id=\"patch_1\">\n   <path d=\"M -0 66.113937  L 150.15 66.113937  L 150.15 0  L -0 0  z \" style=\"fill:#ffffff;\" />\n  </g>\n  <g id=\"axes_1\">\n   <g id=\"patch_2\">\n    <path d=\"M 53.65 43.488  L 95.5 43.488  L 95.5 -0  L 53.65 -0  z \" style=\"fill:#ffffff;\" />\n   </g>\n   <g id=\"PathCollection_1\">\n    <defs>\n     <path d=\"M 0 1.118034  C 0.296506 1.118034 0.580908 1.000231 0.790569 0.790569  C 1.000231 0.580908 1.118034 0.296506 1.118034 0  C 1.118034 -0.296506 1.000231 -0.580908 0.790569 -0.790569  C 0.580908 -1.000231 0.296506 -1.118034 0 -1.118034  C -0.296506 -1.118034 -0.580908 -1.000231 -0.790569 -0.790569  C -1.000231 -0.580908 -1.118034 -0.296506 -1.118034 0  C -1.118034 0.296506 -1.000231 0.580908 -0.790569 0.790569  C -0.580908 1.000231 -0.296506 1.118034 0 1.118034  z \" id=\"mcdf22c43c9\" style=\"stroke:#4575b4;stroke-opacity:0.7;stroke-width:0.3;\" />\n    </defs>\n    <g clip-path=\"url(#pa348c79bfa)\">\n     <use style=\"fill:#4575b4;fill-opacity:0.7;stroke:#4575b4;stroke-opacity:0.7;stroke-width:0.3;\" x=\"74.094688\" y=\"29.414214\" xlink:href=\"#mcdf22c43c9\" />\n     <use style=\"fill:#4575b4;fill-opacity:0.7;stroke:#4575b4;stroke-opacity:0.7;stroke-width:0.3;\" x=\"76.640729\" y=\"15.340427\" xlink:href=\"#mcdf22c43c9\" />\n     <use style=\"fill:#4575b4;fill-opacity:0.7;stroke:#4575b4;stroke-opacity:0.7;stroke-width:0.3;\" x=\"78.756453\" y=\"1.266641\" xlink:href=\"#mcdf22c43c9\" />\n     <use style=\"fill:#4575b4;fill-opacity:0.7;stroke:#4575b4;stroke-opacity:0.7;stroke-width:0.3;\" x=\"74.794793\" y=\"43.488\" xlink:href=\"#mcdf22c43c9\" />\n     <use style=\"fill:#4575b4;fill-opacity:0.7;stroke:#4575b4;stroke-opacity:0.7;stroke-width:0.3;\" x=\"78.489507\" y=\"43.488\" xlink:href=\"#mcdf22c43c9\" />\n     <use style=\"fill:#4575b4;fill-opacity:0.7;stroke:#4575b4;stroke-opacity:0.7;stroke-width:0.3;\" x=\"77.498865\" y=\"29.414214\" xlink:href=\"#mcdf22c43c9\" />\n     <use style=\"fill:#4575b4;fill-opacity:0.7;stroke:#4575b4;stroke-opacity:0.7;stroke-width:0.3;\" x=\"75.263517\" y=\"1.266641\" xlink:href=\"#mcdf22c43c9\" />\n     <use style=\"fill:#4575b4;fill-opacity:0.7;stroke:#4575b4;stroke-opacity:0.7;stroke-width:0.3;\" x=\"69.742218\" y=\"15.340427\" xlink:href=\"#mcdf22c43c9\" />\n     <use style=\"fill:#4575b4;fill-opacity:0.7;stroke:#4575b4;stroke-opacity:0.7;stroke-width:0.3;\" x=\"71.134224\" y=\"29.414214\" xlink:href=\"#mcdf22c43c9\" />\n     <use style=\"fill:#4575b4;fill-opacity:0.7;stroke:#4575b4;stroke-opacity:0.7;stroke-width:0.3;\" x=\"77.056674\" y=\"43.488\" xlink:href=\"#mcdf22c43c9\" />\n     <use style=\"fill:#4575b4;fill-opacity:0.7;stroke:#4575b4;stroke-opacity:0.7;stroke-width:0.3;\" x=\"68.848147\" y=\"15.340427\" xlink:href=\"#mcdf22c43c9\" />\n     <use style=\"fill:#4575b4;fill-opacity:0.7;stroke:#4575b4;stroke-opacity:0.7;stroke-width:0.3;\" x=\"74.97334\" y=\"1.266641\" xlink:href=\"#mcdf22c43c9\" />\n     <use style=\"fill:#4575b4;fill-opacity:0.7;stroke:#4575b4;stroke-opacity:0.7;stroke-width:0.3;\" x=\"77.924626\" y=\"43.488\" xlink:href=\"#mcdf22c43c9\" />\n     <use style=\"fill:#4575b4;fill-opacity:0.7;stroke:#4575b4;stroke-opacity:0.7;stroke-width:0.3;\" x=\"75.085305\" y=\"29.414214\" xlink:href=\"#mcdf22c43c9\" />\n     <use style=\"fill:#4575b4;fill-opacity:0.7;stroke:#4575b4;stroke-opacity:0.7;stroke-width:0.3;\" x=\"72.561522\" y=\"29.414214\" xlink:href=\"#mcdf22c43c9\" />\n     <use style=\"fill:#4575b4;fill-opacity:0.7;stroke:#4575b4;stroke-opacity:0.7;stroke-width:0.3;\" x=\"71.740535\" y=\"29.414214\" xlink:href=\"#mcdf22c43c9\" />\n     <use style=\"fill:#4575b4;fill-opacity:0.7;stroke:#4575b4;stroke-opacity:0.7;stroke-width:0.3;\" x=\"77.307479\" y=\"29.414214\" xlink:href=\"#mcdf22c43c9\" />\n     <use style=\"fill:#4575b4;fill-opacity:0.7;stroke:#4575b4;stroke-opacity:0.7;stroke-width:0.3;\" x=\"76.154276\" y=\"29.414214\" xlink:href=\"#mcdf22c43c9\" />\n     <use style=\"fill:#4575b4;fill-opacity:0.7;stroke:#4575b4;stroke-opacity:0.7;stroke-width:0.3;\" x=\"73.619182\" y=\"29.414214\" xlink:href=\"#mcdf22c43c9\" />\n     <use style=\"fill:#4575b4;fill-opacity:0.7;stroke:#4575b4;stroke-opacity:0.7;stroke-width:0.3;\" x=\"78.141599\" y=\"29.414214\" xlink:href=\"#mcdf22c43c9\" />\n     <use style=\"fill:#4575b4;fill-opacity:0.7;stroke:#4575b4;stroke-opacity:0.7;stroke-width:0.3;\" x=\"77.434185\" y=\"43.488\" xlink:href=\"#mcdf22c43c9\" />\n     <use style=\"fill:#4575b4;fill-opacity:0.7;stroke:#4575b4;stroke-opacity:0.7;stroke-width:0.3;\" x=\"80.563212\" y=\"29.414214\" xlink:href=\"#mcdf22c43c9\" />\n     <use style=\"fill:#4575b4;fill-opacity:0.7;stroke:#4575b4;stroke-opacity:0.7;stroke-width:0.3;\" x=\"76.472961\" y=\"29.414214\" xlink:href=\"#mcdf22c43c9\" />\n     <use style=\"fill:#4575b4;fill-opacity:0.7;stroke:#4575b4;stroke-opacity:0.7;stroke-width:0.3;\" x=\"74.024253\" y=\"29.414214\" xlink:href=\"#mcdf22c43c9\" />\n     <use style=\"fill:#4575b4;fill-opacity:0.7;stroke:#4575b4;stroke-opacity:0.7;stroke-width:0.3;\" x=\"74.096266\" y=\"29.414214\" xlink:href=\"#mcdf22c43c9\" />\n     <use style=\"fill:#4575b4;fill-opacity:0.7;stroke:#4575b4;stroke-opacity:0.7;stroke-width:0.3;\" x=\"68.098059\" y=\"29.414214\" xlink:href=\"#mcdf22c43c9\" />\n     <use style=\"fill:#4575b4;fill-opacity:0.7;stroke:#4575b4;stroke-opacity:0.7;stroke-width:0.3;\" x=\"75.079406\" y=\"43.488\" xlink:href=\"#mcdf22c43c9\" />\n     <use style=\"fill:#4575b4;fill-opacity:0.7;stroke:#4575b4;stroke-opacity:0.7;stroke-width:0.3;\" x=\"74.522386\" y=\"43.488\" xlink:href=\"#mcdf22c43c9\" />\n     <use style=\"fill:#4575b4;fill-opacity:0.7;stroke:#4575b4;stroke-opacity:0.7;stroke-width:0.3;\" x=\"70.121912\" y=\"43.488\" xlink:href=\"#mcdf22c43c9\" />\n     <use style=\"fill:#4575b4;fill-opacity:0.7;stroke:#4575b4;stroke-opacity:0.7;stroke-width:0.3;\" x=\"74.490337\" y=\"15.340427\" xlink:href=\"#mcdf22c43c9\" />\n     <use style=\"fill:#4575b4;fill-opacity:0.7;stroke:#4575b4;stroke-opacity:0.7;stroke-width:0.3;\" x=\"79.071927\" y=\"43.488\" xlink:href=\"#mcdf22c43c9\" />\n     <use style=\"fill:#4575b4;fill-opacity:0.7;stroke:#4575b4;stroke-opacity:0.7;stroke-width:0.3;\" x=\"72.115734\" y=\"1.266641\" xlink:href=\"#mcdf22c43c9\" />\n     <use style=\"fill:#4575b4;fill-opacity:0.7;stroke:#4575b4;stroke-opacity:0.7;stroke-width:0.3;\" x=\"71.361273\" y=\"43.488\" xlink:href=\"#mcdf22c43c9\" />\n     <use style=\"fill:#4575b4;fill-opacity:0.7;stroke:#4575b4;stroke-opacity:0.7;stroke-width:0.3;\" x=\"78.2743\" y=\"15.340427\" xlink:href=\"#mcdf22c43c9\" />\n     <use style=\"fill:#4575b4;fill-opacity:0.7;stroke:#4575b4;stroke-opacity:0.7;stroke-width:0.3;\" x=\"76.698437\" y=\"15.340427\" xlink:href=\"#mcdf22c43c9\" />\n    </g>\n   </g>\n   <g id=\"matplotlib.axis_1\" />\n   <g id=\"matplotlib.axis_2\">\n    <g id=\"ytick_1\">\n     <g id=\"line2d_1\">\n      <defs>\n       <path d=\"M 0 0  L -3.5 0  \" id=\"m4ff67d6d29\" style=\"stroke:#444443;stroke-width:0.3;\" />\n      </defs>\n      <g>\n       <use style=\"fill:#444443;stroke:#444443;stroke-width:0.3;\" x=\"53.65\" y=\"43.488\" xlink:href=\"#m4ff67d6d29\" />\n      </g>\n     </g>\n     <g id=\"text_1\">\n      \n      <defs>\n       <path d=\"M 31.78125 66.40625  Q 24.171875 66.40625 20.328125 58.90625  Q 16.5 51.421875 16.5 36.375  Q 16.5 21.390625 20.328125 13.890625  Q 24.171875 6.390625 31.78125 6.390625  Q 39.453125 6.390625 43.28125 13.890625  Q 47.125 21.390625 47.125 36.375  Q 47.125 51.421875 43.28125 58.90625  Q 39.453125 66.40625 31.78125 66.40625  z M 31.78125 74.21875  Q 44.046875 74.21875 50.515625 64.515625  Q 56.984375 54.828125 56.984375 36.375  Q 56.984375 17.96875 50.515625 8.265625  Q 44.046875 -1.421875 31.78125 -1.421875  Q 19.53125 -1.421875 13.0625 8.265625  Q 6.59375 17.96875 6.59375 36.375  Q 6.59375 54.828125 13.0625 64.515625  Q 19.53125 74.21875 31.78125 74.21875  z \" id=\"DejaVuSans-48\" />\n      </defs>\n      <g style=\"fill:#444443;\" transform=\"translate(41.56 46.527375)scale(0.08 -0.08)\">\n       <use xlink:href=\"#DejaVuSans-48\" />\n      </g>\n     </g>\n    </g>\n    <g id=\"ytick_2\">\n     <g id=\"line2d_2\">\n      <g>\n       <use style=\"fill:#444443;stroke:#444443;stroke-width:0.3;\" x=\"53.65\" y=\"15.340427\" xlink:href=\"#m4ff67d6d29\" />\n      </g>\n     </g>\n     <g id=\"text_2\">\n      \n      <defs>\n       <path d=\"M 19.1875 8.296875  L 53.609375 8.296875  L 53.609375 0  L 7.328125 0  L 7.328125 8.296875  Q 12.9375 14.109375 22.625 23.890625  Q 32.328125 33.6875 34.8125 36.53125  Q 39.546875 41.84375 41.421875 45.53125  Q 43.3125 49.21875 43.3125 52.78125  Q 43.3125 58.59375 39.234375 62.25  Q 35.15625 65.921875 28.609375 65.921875  Q 23.96875 65.921875 18.8125 64.3125  Q 13.671875 62.703125 7.8125 59.421875  L 7.8125 69.390625  Q 13.765625 71.78125 18.9375 73  Q 24.125 74.21875 28.421875 74.21875  Q 39.75 74.21875 46.484375 68.546875  Q 53.21875 62.890625 53.21875 53.421875  Q 53.21875 48.921875 51.53125 44.890625  Q 49.859375 40.875 45.40625 35.40625  Q 44.1875 33.984375 37.640625 27.21875  Q 31.109375 20.453125 19.1875 8.296875  z \" id=\"DejaVuSans-50\" />\n      </defs>\n      <g style=\"fill:#444443;\" transform=\"translate(41.56 18.379802)scale(0.08 -0.08)\">\n       <use xlink:href=\"#DejaVuSans-50\" />\n      </g>\n     </g>\n    </g>\n   </g>\n   <g id=\"line2d_3\">\n    <path clip-path=\"url(#pa348c79bfa)\" d=\"M 53.65 27.805781  L 151.15 27.805781  \" style=\"fill:none;stroke:#444443;stroke-dasharray:3.7,1.6;stroke-dashoffset:0;\" />\n   </g>\n   <g id=\"patch_3\">\n    <path d=\"M 53.65 43.488  L 53.65 -0  \" style=\"fill:none;stroke:#000000;stroke-linecap:square;stroke-linejoin:miter;stroke-width:0.3;\" />\n   </g>\n   <g id=\"text_3\">\n    \n    <defs>\n     <path d=\"M 9.8125 72.90625  L 24.515625 72.90625  L 43.109375 23.296875  L 61.8125 72.90625  L 76.515625 72.90625  L 76.515625 0  L 66.890625 0  L 66.890625 64.015625  L 48.09375 14.015625  L 38.1875 14.015625  L 19.390625 64.015625  L 19.390625 0  L 9.8125 0  z \" id=\"DejaVuSans-77\" />\n     <path d=\"M 9.8125 72.90625  L 55.90625 72.90625  L 55.90625 64.59375  L 19.671875 64.59375  L 19.671875 43.015625  L 54.390625 43.015625  L 54.390625 34.71875  L 19.671875 34.71875  L 19.671875 8.296875  L 56.78125 8.296875  L 56.78125 0  L 9.8125 0  z \" id=\"DejaVuSans-69\" />\n     <path d=\"M 9.8125 72.90625  L 23.09375 72.90625  L 55.421875 11.921875  L 55.421875 72.90625  L 64.984375 72.90625  L 64.984375 0  L 51.703125 0  L 19.390625 60.984375  L 19.390625 0  L 9.8125 0  z \" id=\"DejaVuSans-78\" />\n     <path d=\"M -0.296875 72.90625  L 61.375 72.90625  L 61.375 64.59375  L 35.5 64.59375  L 35.5 0  L 25.59375 0  L 25.59375 64.59375  L -0.296875 64.59375  z \" id=\"DejaVuSans-84\" />\n     <path d=\"M 34.1875 63.1875  L 20.796875 26.90625  L 47.609375 26.90625  z M 28.609375 72.90625  L 39.796875 72.90625  L 67.578125 0  L 57.328125 0  L 50.6875 18.703125  L 17.828125 18.703125  L 11.1875 0  L 0.78125 0  z \" id=\"DejaVuSans-65\" />\n     <path d=\"M 9.8125 72.90625  L 19.671875 72.90625  L 19.671875 8.296875  L 55.171875 8.296875  L 55.171875 0  L 9.8125 0  z \" id=\"DejaVuSans-76\" />\n     <path id=\"DejaVuSans-32\" />\n     <path d=\"M 9.8125 72.90625  L 19.671875 72.90625  L 19.671875 43.015625  L 55.515625 43.015625  L 55.515625 72.90625  L 65.375 72.90625  L 65.375 0  L 55.515625 0  L 55.515625 34.71875  L 19.671875 34.71875  L 19.671875 0  L 9.8125 0  z \" id=\"DejaVuSans-72\" />\n     <path d=\"M 53.515625 70.515625  L 53.515625 60.890625  Q 47.90625 63.578125 42.921875 64.890625  Q 37.9375 66.21875 33.296875 66.21875  Q 25.25 66.21875 20.875 63.09375  Q 16.5 59.96875 16.5 54.203125  Q 16.5 49.359375 19.40625 46.890625  Q 22.3125 44.4375 30.421875 42.921875  L 36.375 41.703125  Q 47.40625 39.59375 52.65625 34.296875  Q 57.90625 29 57.90625 20.125  Q 57.90625 9.515625 50.796875 4.046875  Q 43.703125 -1.421875 29.984375 -1.421875  Q 24.8125 -1.421875 18.96875 -0.25  Q 13.140625 0.921875 6.890625 3.21875  L 6.890625 13.375  Q 12.890625 10.015625 18.65625 8.296875  Q 24.421875 6.59375 29.984375 6.59375  Q 38.421875 6.59375 43.015625 9.90625  Q 47.609375 13.234375 47.609375 19.390625  Q 47.609375 24.75 44.3125 27.78125  Q 41.015625 30.8125 33.5 32.328125  L 27.484375 33.5  Q 16.453125 35.6875 11.515625 40.375  Q 6.59375 45.0625 6.59375 53.421875  Q 6.59375 63.09375 13.40625 68.65625  Q 20.21875 74.21875 32.171875 74.21875  Q 37.3125 74.21875 42.625 73.28125  Q 47.953125 72.359375 53.515625 70.515625  z \" id=\"DejaVuSans-83\" />\n     <path d=\"M 64.40625 67.28125  L 64.40625 56.890625  Q 59.421875 61.53125 53.78125 63.8125  Q 48.140625 66.109375 41.796875 66.109375  Q 29.296875 66.109375 22.65625 58.46875  Q 16.015625 50.828125 16.015625 36.375  Q 16.015625 21.96875 22.65625 14.328125  Q 29.296875 6.6875 41.796875 6.6875  Q 48.140625 6.6875 53.78125 8.984375  Q 59.421875 11.28125 64.40625 15.921875  L 64.40625 5.609375  Q 59.234375 2.09375 53.4375 0.328125  Q 47.65625 -1.421875 41.21875 -1.421875  Q 24.65625 -1.421875 15.125 8.703125  Q 5.609375 18.84375 5.609375 36.375  Q 5.609375 53.953125 15.125 64.078125  Q 24.65625 74.21875 41.21875 74.21875  Q 47.75 74.21875 53.53125 72.484375  Q 59.328125 70.75 64.40625 67.28125  z \" id=\"DejaVuSans-67\" />\n     <path d=\"M 39.40625 66.21875  Q 28.65625 66.21875 22.328125 58.203125  Q 16.015625 50.203125 16.015625 36.375  Q 16.015625 22.609375 22.328125 14.59375  Q 28.65625 6.59375 39.40625 6.59375  Q 50.140625 6.59375 56.421875 14.59375  Q 62.703125 22.609375 62.703125 36.375  Q 62.703125 50.203125 56.421875 58.203125  Q 50.140625 66.21875 39.40625 66.21875  z M 39.40625 74.21875  Q 54.734375 74.21875 63.90625 63.9375  Q 73.09375 53.65625 73.09375 36.375  Q 73.09375 19.140625 63.90625 8.859375  Q 54.734375 -1.421875 39.40625 -1.421875  Q 24.03125 -1.421875 14.8125 8.828125  Q 5.609375 19.09375 5.609375 36.375  Q 5.609375 53.65625 14.8125 63.9375  Q 24.03125 74.21875 39.40625 74.21875  z \" id=\"DejaVuSans-79\" />\n     <path d=\"M 44.390625 34.1875  Q 47.5625 33.109375 50.5625 29.59375  Q 53.5625 26.078125 56.59375 19.921875  L 66.609375 0  L 56 0  L 46.6875 18.703125  Q 43.0625 26.03125 39.671875 28.421875  Q 36.28125 30.8125 30.421875 30.8125  L 19.671875 30.8125  L 19.671875 0  L 9.8125 0  L 9.8125 72.90625  L 32.078125 72.90625  Q 44.578125 72.90625 50.734375 67.671875  Q 56.890625 62.453125 56.890625 51.90625  Q 56.890625 45.015625 53.6875 40.46875  Q 50.484375 35.9375 44.390625 34.1875  z M 19.671875 64.796875  L 19.671875 38.921875  L 32.078125 38.921875  Q 39.203125 38.921875 42.84375 42.21875  Q 46.484375 45.515625 46.484375 51.90625  Q 46.484375 58.296875 42.84375 61.546875  Q 39.203125 64.796875 32.078125 64.796875  z \" id=\"DejaVuSans-82\" />\n     <path d=\"M 10.59375 45.40625  L 73.1875 45.40625  L 73.1875 37.203125  L 10.59375 37.203125  z M 10.59375 25.484375  L 73.1875 25.484375  L 73.1875 17.1875  L 10.59375 17.1875  z \" id=\"DejaVuSans-61\" />\n     <path d=\"M 12.40625 8.296875  L 28.515625 8.296875  L 28.515625 63.921875  L 10.984375 60.40625  L 10.984375 69.390625  L 28.421875 72.90625  L 38.28125 72.90625  L 38.28125 8.296875  L 54.390625 8.296875  L 54.390625 0  L 12.40625 0  z \" id=\"DejaVuSans-49\" />\n     <path d=\"M 10.6875 12.40625  L 21 12.40625  L 21 0  L 10.6875 0  z \" id=\"DejaVuSans-46\" />\n    </defs>\n    <g style=\"fill:#444443;\" transform=\"translate(0 52.836437)scale(0.1 -0.1)\">\n     <use xlink:href=\"#DejaVuSans-77\" />\n     <use x=\"86.279297\" xlink:href=\"#DejaVuSans-69\" />\n     <use x=\"149.462891\" xlink:href=\"#DejaVuSans-78\" />\n     <use x=\"224.267578\" xlink:href=\"#DejaVuSans-84\" />\n     <use x=\"277.601562\" xlink:href=\"#DejaVuSans-65\" />\n     <use x=\"346.009766\" xlink:href=\"#DejaVuSans-76\" />\n     <use x=\"401.722656\" xlink:href=\"#DejaVuSans-32\" />\n     <use x=\"433.509766\" xlink:href=\"#DejaVuSans-72\" />\n     <use x=\"508.705078\" xlink:href=\"#DejaVuSans-69\" />\n     <use x=\"571.888672\" xlink:href=\"#DejaVuSans-65\" />\n     <use x=\"640.296875\" xlink:href=\"#DejaVuSans-76\" />\n     <use x=\"682.259766\" xlink:href=\"#DejaVuSans-84\" />\n     <use x=\"743.34375\" xlink:href=\"#DejaVuSans-72\" />\n     <use x=\"818.539062\" xlink:href=\"#DejaVuSans-32\" />\n     <use x=\"850.326172\" xlink:href=\"#DejaVuSans-83\" />\n     <use x=\"913.802734\" xlink:href=\"#DejaVuSans-67\" />\n     <use x=\"983.626953\" xlink:href=\"#DejaVuSans-79\" />\n     <use x=\"1062.337891\" xlink:href=\"#DejaVuSans-82\" />\n     <use x=\"1131.820312\" xlink:href=\"#DejaVuSans-69\" />\n     <use x=\"1195.003906\" xlink:href=\"#DejaVuSans-61\" />\n     <use x=\"1278.792969\" xlink:href=\"#DejaVuSans-49\" />\n     <use x=\"1342.416016\" xlink:href=\"#DejaVuSans-46\" />\n     <use x=\"1374.203125\" xlink:href=\"#DejaVuSans-49\" />\n     <use x=\"1437.826172\" xlink:href=\"#DejaVuSans-49\" />\n    </g>\n    \n    <defs>\n     <path d=\"M 54.890625 33.015625  L 54.890625 0  L 45.90625 0  L 45.90625 32.71875  Q 45.90625 40.484375 42.875 44.328125  Q 39.84375 48.1875 33.796875 48.1875  Q 26.515625 48.1875 22.3125 43.546875  Q 18.109375 38.921875 18.109375 30.90625  L 18.109375 0  L 9.078125 0  L 9.078125 54.6875  L 18.109375 54.6875  L 18.109375 46.1875  Q 21.34375 51.125 25.703125 53.5625  Q 30.078125 56 35.796875 56  Q 45.21875 56 50.046875 50.171875  Q 54.890625 44.34375 54.890625 33.015625  z \" id=\"DejaVuSans-110\" />\n     <path d=\"M 40.578125 39.3125  Q 47.65625 37.796875 51.625 33  Q 55.609375 28.21875 55.609375 21.1875  Q 55.609375 10.40625 48.1875 4.484375  Q 40.765625 -1.421875 27.09375 -1.421875  Q 22.515625 -1.421875 17.65625 -0.515625  Q 12.796875 0.390625 7.625 2.203125  L 7.625 11.71875  Q 11.71875 9.328125 16.59375 8.109375  Q 21.484375 6.890625 26.8125 6.890625  Q 36.078125 6.890625 40.9375 10.546875  Q 45.796875 14.203125 45.796875 21.1875  Q 45.796875 27.640625 41.28125 31.265625  Q 36.765625 34.90625 28.71875 34.90625  L 20.21875 34.90625  L 20.21875 43.015625  L 29.109375 43.015625  Q 36.375 43.015625 40.234375 45.921875  Q 44.09375 48.828125 44.09375 54.296875  Q 44.09375 59.90625 40.109375 62.90625  Q 36.140625 65.921875 28.71875 65.921875  Q 24.65625 65.921875 20.015625 65.03125  Q 15.375 64.15625 9.8125 62.3125  L 9.8125 71.09375  Q 15.4375 72.65625 20.34375 73.4375  Q 25.25 74.21875 29.59375 74.21875  Q 40.828125 74.21875 47.359375 69.109375  Q 53.90625 64.015625 53.90625 55.328125  Q 53.90625 49.265625 50.4375 45.09375  Q 46.96875 40.921875 40.578125 39.3125  z \" id=\"DejaVuSans-51\" />\n     <path d=\"M 10.796875 72.90625  L 49.515625 72.90625  L 49.515625 64.59375  L 19.828125 64.59375  L 19.828125 46.734375  Q 21.96875 47.46875 24.109375 47.828125  Q 26.265625 48.1875 28.421875 48.1875  Q 40.625 48.1875 47.75 41.5  Q 54.890625 34.8125 54.890625 23.390625  Q 54.890625 11.625 47.5625 5.09375  Q 40.234375 -1.421875 26.90625 -1.421875  Q 22.3125 -1.421875 17.546875 -0.640625  Q 12.796875 0.140625 7.71875 1.703125  L 7.71875 11.625  Q 12.109375 9.234375 16.796875 8.0625  Q 21.484375 6.890625 26.703125 6.890625  Q 35.15625 6.890625 40.078125 11.328125  Q 45.015625 15.765625 45.015625 23.390625  Q 45.015625 31 40.078125 35.4375  Q 35.15625 39.890625 26.703125 39.890625  Q 22.75 39.890625 18.8125 39.015625  Q 14.890625 38.140625 10.796875 36.28125  z \" id=\"DejaVuSans-53\" />\n    </defs>\n    <g style=\"fill:#444443;\" transform=\"translate(61.353906 64.03425)scale(0.1 -0.1)\">\n     <use xlink:href=\"#DejaVuSans-110\" />\n     <use x=\"63.378906\" xlink:href=\"#DejaVuSans-61\" />\n     <use x=\"147.167969\" xlink:href=\"#DejaVuSans-51\" />\n     <use x=\"210.791016\" xlink:href=\"#DejaVuSans-53\" />\n    </g>\n   </g>\n  </g>\n </g>\n <defs>\n  <clipPath id=\"pa348c79bfa\">\n   <rect height=\"43.488\" width=\"41.85\" x=\"53.65\" y=\"-0\" />\n  </clipPath>\n </defs>\n</svg></g>\n\n<g class=\"edge\" id=\"edge1\">\n<title>node3-&gt;leaf5</title>\n<path d=\"M433.1258,-154.1424C437.2939,-154.9966 441.4928,-155.8572 445.6642,-156.7121\" fill=\"none\" stroke=\"#444443\" stroke-width=\".3\" />\n<polygon fill=\"#444443\" points=\"445.6245,-158.133 449.8241,-157.5647 446.1867,-155.39 445.6245,-158.133\" stroke=\"#444443\" stroke-width=\".3\" />\n</g>\n\n<g class=\"node\" id=\"node5\">\n<title>leaf6</title>\n<polygon fill=\"none\" points=\"571,-127 450,-127 450,-69 571,-69 571,-127\" stroke=\"#444443\" stroke-width=\"0\" />\n<svg height=\"50px\" preserveAspectRatio=\"xMinYMin meet\" version=\"1.1\" viewBox=\"0 0 150.15 66.113937\" width=\"113px\" x=\"454.5\" y=\"-123\">\n <defs>\n  <style type=\"text/css\">\n*{stroke-linecap:butt;stroke-linejoin:round;}\n  </style>\n </defs>\n <g id=\"figure_1\">\n  <g id=\"patch_1\">\n   <path d=\"M -0 66.113937  L 150.15 66.113937  L 150.15 0  L -0 0  z \" style=\"fill:#ffffff;\" />\n  </g>\n  <g id=\"axes_1\">\n   <g id=\"patch_2\">\n    <path d=\"M 53.65 43.488  L 95.5 43.488  L 95.5 -0  L 53.65 -0  z \" style=\"fill:#ffffff;\" />\n   </g>\n   <g id=\"PathCollection_1\">\n    <defs>\n     <path d=\"M 0 1.118034  C 0.296506 1.118034 0.580908 1.000231 0.790569 0.790569  C 1.000231 0.580908 1.118034 0.296506 1.118034 0  C 1.118034 -0.296506 1.000231 -0.580908 0.790569 -0.790569  C 0.580908 -1.000231 0.296506 -1.118034 0 -1.118034  C -0.296506 -1.118034 -0.580908 -1.000231 -0.790569 -0.790569  C -1.000231 -0.580908 -1.118034 -0.296506 -1.118034 0  C -1.118034 0.296506 -1.000231 0.580908 -0.790569 0.790569  C -0.580908 1.000231 -0.296506 1.118034 0 1.118034  z \" id=\"m45091b72ce\" style=\"stroke:#4575b4;stroke-opacity:0.7;stroke-width:0.3;\" />\n    </defs>\n    <g clip-path=\"url(#p1b25359633)\">\n     <use style=\"fill:#4575b4;fill-opacity:0.7;stroke:#4575b4;stroke-opacity:0.7;stroke-width:0.3;\" x=\"84.823547\" y=\"43.488\" xlink:href=\"#m45091b72ce\" />\n     <use style=\"fill:#4575b4;fill-opacity:0.7;stroke:#4575b4;stroke-opacity:0.7;stroke-width:0.3;\" x=\"70.160427\" y=\"29.414214\" xlink:href=\"#m45091b72ce\" />\n     <use style=\"fill:#4575b4;fill-opacity:0.7;stroke:#4575b4;stroke-opacity:0.7;stroke-width:0.3;\" x=\"76.986856\" y=\"29.414214\" xlink:href=\"#m45091b72ce\" />\n     <use style=\"fill:#4575b4;fill-opacity:0.7;stroke:#4575b4;stroke-opacity:0.7;stroke-width:0.3;\" x=\"75.632603\" y=\"43.488\" xlink:href=\"#m45091b72ce\" />\n     <use style=\"fill:#4575b4;fill-opacity:0.7;stroke:#4575b4;stroke-opacity:0.7;stroke-width:0.3;\" x=\"74.773474\" y=\"29.414214\" xlink:href=\"#m45091b72ce\" />\n     <use style=\"fill:#4575b4;fill-opacity:0.7;stroke:#4575b4;stroke-opacity:0.7;stroke-width:0.3;\" x=\"77.623395\" y=\"29.414214\" xlink:href=\"#m45091b72ce\" />\n     <use style=\"fill:#4575b4;fill-opacity:0.7;stroke:#4575b4;stroke-opacity:0.7;stroke-width:0.3;\" x=\"74.47548\" y=\"43.488\" xlink:href=\"#m45091b72ce\" />\n     <use style=\"fill:#4575b4;fill-opacity:0.7;stroke:#4575b4;stroke-opacity:0.7;stroke-width:0.3;\" x=\"68.092012\" y=\"29.414214\" xlink:href=\"#m45091b72ce\" />\n     <use style=\"fill:#4575b4;fill-opacity:0.7;stroke:#4575b4;stroke-opacity:0.7;stroke-width:0.3;\" x=\"71.738047\" y=\"43.488\" xlink:href=\"#m45091b72ce\" />\n     <use style=\"fill:#4575b4;fill-opacity:0.7;stroke:#4575b4;stroke-opacity:0.7;stroke-width:0.3;\" x=\"79.143123\" y=\"43.488\" xlink:href=\"#m45091b72ce\" />\n     <use style=\"fill:#4575b4;fill-opacity:0.7;stroke:#4575b4;stroke-opacity:0.7;stroke-width:0.3;\" x=\"78.498953\" y=\"29.414214\" xlink:href=\"#m45091b72ce\" />\n     <use style=\"fill:#4575b4;fill-opacity:0.7;stroke:#4575b4;stroke-opacity:0.7;stroke-width:0.3;\" x=\"73.325797\" y=\"43.488\" xlink:href=\"#m45091b72ce\" />\n     <use style=\"fill:#4575b4;fill-opacity:0.7;stroke:#4575b4;stroke-opacity:0.7;stroke-width:0.3;\" x=\"76.261043\" y=\"43.488\" xlink:href=\"#m45091b72ce\" />\n     <use style=\"fill:#4575b4;fill-opacity:0.7;stroke:#4575b4;stroke-opacity:0.7;stroke-width:0.3;\" x=\"83.895625\" y=\"43.488\" xlink:href=\"#m45091b72ce\" />\n     <use style=\"fill:#4575b4;fill-opacity:0.7;stroke:#4575b4;stroke-opacity:0.7;stroke-width:0.3;\" x=\"74.470587\" y=\"43.488\" xlink:href=\"#m45091b72ce\" />\n     <use style=\"fill:#4575b4;fill-opacity:0.7;stroke:#4575b4;stroke-opacity:0.7;stroke-width:0.3;\" x=\"74.536219\" y=\"43.488\" xlink:href=\"#m45091b72ce\" />\n     <use style=\"fill:#4575b4;fill-opacity:0.7;stroke:#4575b4;stroke-opacity:0.7;stroke-width:0.3;\" x=\"75.213124\" y=\"43.488\" xlink:href=\"#m45091b72ce\" />\n     <use style=\"fill:#4575b4;fill-opacity:0.7;stroke:#4575b4;stroke-opacity:0.7;stroke-width:0.3;\" x=\"76.607155\" y=\"43.488\" xlink:href=\"#m45091b72ce\" />\n     <use style=\"fill:#4575b4;fill-opacity:0.7;stroke:#4575b4;stroke-opacity:0.7;stroke-width:0.3;\" x=\"73.406879\" y=\"43.488\" xlink:href=\"#m45091b72ce\" />\n     <use style=\"fill:#4575b4;fill-opacity:0.7;stroke:#4575b4;stroke-opacity:0.7;stroke-width:0.3;\" x=\"76.604321\" y=\"43.488\" xlink:href=\"#m45091b72ce\" />\n     <use style=\"fill:#4575b4;fill-opacity:0.7;stroke:#4575b4;stroke-opacity:0.7;stroke-width:0.3;\" x=\"68.065719\" y=\"1.266641\" xlink:href=\"#m45091b72ce\" />\n     <use style=\"fill:#4575b4;fill-opacity:0.7;stroke:#4575b4;stroke-opacity:0.7;stroke-width:0.3;\" x=\"75.701263\" y=\"15.340427\" xlink:href=\"#m45091b72ce\" />\n     <use style=\"fill:#4575b4;fill-opacity:0.7;stroke:#4575b4;stroke-opacity:0.7;stroke-width:0.3;\" x=\"74.744509\" y=\"15.340427\" xlink:href=\"#m45091b72ce\" />\n     <use style=\"fill:#4575b4;fill-opacity:0.7;stroke:#4575b4;stroke-opacity:0.7;stroke-width:0.3;\" x=\"73.846954\" y=\"29.414214\" xlink:href=\"#m45091b72ce\" />\n     <use style=\"fill:#4575b4;fill-opacity:0.7;stroke:#4575b4;stroke-opacity:0.7;stroke-width:0.3;\" x=\"72.983838\" y=\"43.488\" xlink:href=\"#m45091b72ce\" />\n    </g>\n   </g>\n   <g id=\"matplotlib.axis_1\" />\n   <g id=\"matplotlib.axis_2\">\n    <g id=\"ytick_1\">\n     <g id=\"line2d_1\">\n      <defs>\n       <path d=\"M 0 0  L -3.5 0  \" id=\"m3cb40f0ea9\" style=\"stroke:#444443;stroke-width:0.3;\" />\n      </defs>\n      <g>\n       <use style=\"fill:#444443;stroke:#444443;stroke-width:0.3;\" x=\"53.65\" y=\"43.488\" xlink:href=\"#m3cb40f0ea9\" />\n      </g>\n     </g>\n     <g id=\"text_1\">\n      \n      <defs>\n       <path d=\"M 31.78125 66.40625  Q 24.171875 66.40625 20.328125 58.90625  Q 16.5 51.421875 16.5 36.375  Q 16.5 21.390625 20.328125 13.890625  Q 24.171875 6.390625 31.78125 6.390625  Q 39.453125 6.390625 43.28125 13.890625  Q 47.125 21.390625 47.125 36.375  Q 47.125 51.421875 43.28125 58.90625  Q 39.453125 66.40625 31.78125 66.40625  z M 31.78125 74.21875  Q 44.046875 74.21875 50.515625 64.515625  Q 56.984375 54.828125 56.984375 36.375  Q 56.984375 17.96875 50.515625 8.265625  Q 44.046875 -1.421875 31.78125 -1.421875  Q 19.53125 -1.421875 13.0625 8.265625  Q 6.59375 17.96875 6.59375 36.375  Q 6.59375 54.828125 13.0625 64.515625  Q 19.53125 74.21875 31.78125 74.21875  z \" id=\"DejaVuSans-48\" />\n      </defs>\n      <g style=\"fill:#444443;\" transform=\"translate(41.56 46.527375)scale(0.08 -0.08)\">\n       <use xlink:href=\"#DejaVuSans-48\" />\n      </g>\n     </g>\n    </g>\n    <g id=\"ytick_2\">\n     <g id=\"line2d_2\">\n      <g>\n       <use style=\"fill:#444443;stroke:#444443;stroke-width:0.3;\" x=\"53.65\" y=\"15.340427\" xlink:href=\"#m3cb40f0ea9\" />\n      </g>\n     </g>\n     <g id=\"text_2\">\n      \n      <defs>\n       <path d=\"M 19.1875 8.296875  L 53.609375 8.296875  L 53.609375 0  L 7.328125 0  L 7.328125 8.296875  Q 12.9375 14.109375 22.625 23.890625  Q 32.328125 33.6875 34.8125 36.53125  Q 39.546875 41.84375 41.421875 45.53125  Q 43.3125 49.21875 43.3125 52.78125  Q 43.3125 58.59375 39.234375 62.25  Q 35.15625 65.921875 28.609375 65.921875  Q 23.96875 65.921875 18.8125 64.3125  Q 13.671875 62.703125 7.8125 59.421875  L 7.8125 69.390625  Q 13.765625 71.78125 18.9375 73  Q 24.125 74.21875 28.421875 74.21875  Q 39.75 74.21875 46.484375 68.546875  Q 53.21875 62.890625 53.21875 53.421875  Q 53.21875 48.921875 51.53125 44.890625  Q 49.859375 40.875 45.40625 35.40625  Q 44.1875 33.984375 37.640625 27.21875  Q 31.109375 20.453125 19.1875 8.296875  z \" id=\"DejaVuSans-50\" />\n      </defs>\n      <g style=\"fill:#444443;\" transform=\"translate(41.56 18.379802)scale(0.08 -0.08)\">\n       <use xlink:href=\"#DejaVuSans-50\" />\n      </g>\n     </g>\n    </g>\n   </g>\n   <g id=\"line2d_3\">\n    <path clip-path=\"url(#p1b25359633)\" d=\"M 53.65 35.60668  L 151.15 35.60668  \" style=\"fill:none;stroke:#444443;stroke-dasharray:3.7,1.6;stroke-dashoffset:0;\" />\n   </g>\n   <g id=\"patch_3\">\n    <path d=\"M 53.65 43.488  L 53.65 -0  \" style=\"fill:none;stroke:#000000;stroke-linecap:square;stroke-linejoin:miter;stroke-width:0.3;\" />\n   </g>\n   <g id=\"text_3\">\n    \n    <defs>\n     <path d=\"M 9.8125 72.90625  L 24.515625 72.90625  L 43.109375 23.296875  L 61.8125 72.90625  L 76.515625 72.90625  L 76.515625 0  L 66.890625 0  L 66.890625 64.015625  L 48.09375 14.015625  L 38.1875 14.015625  L 19.390625 64.015625  L 19.390625 0  L 9.8125 0  z \" id=\"DejaVuSans-77\" />\n     <path d=\"M 9.8125 72.90625  L 55.90625 72.90625  L 55.90625 64.59375  L 19.671875 64.59375  L 19.671875 43.015625  L 54.390625 43.015625  L 54.390625 34.71875  L 19.671875 34.71875  L 19.671875 8.296875  L 56.78125 8.296875  L 56.78125 0  L 9.8125 0  z \" id=\"DejaVuSans-69\" />\n     <path d=\"M 9.8125 72.90625  L 23.09375 72.90625  L 55.421875 11.921875  L 55.421875 72.90625  L 64.984375 72.90625  L 64.984375 0  L 51.703125 0  L 19.390625 60.984375  L 19.390625 0  L 9.8125 0  z \" id=\"DejaVuSans-78\" />\n     <path d=\"M -0.296875 72.90625  L 61.375 72.90625  L 61.375 64.59375  L 35.5 64.59375  L 35.5 0  L 25.59375 0  L 25.59375 64.59375  L -0.296875 64.59375  z \" id=\"DejaVuSans-84\" />\n     <path d=\"M 34.1875 63.1875  L 20.796875 26.90625  L 47.609375 26.90625  z M 28.609375 72.90625  L 39.796875 72.90625  L 67.578125 0  L 57.328125 0  L 50.6875 18.703125  L 17.828125 18.703125  L 11.1875 0  L 0.78125 0  z \" id=\"DejaVuSans-65\" />\n     <path d=\"M 9.8125 72.90625  L 19.671875 72.90625  L 19.671875 8.296875  L 55.171875 8.296875  L 55.171875 0  L 9.8125 0  z \" id=\"DejaVuSans-76\" />\n     <path id=\"DejaVuSans-32\" />\n     <path d=\"M 9.8125 72.90625  L 19.671875 72.90625  L 19.671875 43.015625  L 55.515625 43.015625  L 55.515625 72.90625  L 65.375 72.90625  L 65.375 0  L 55.515625 0  L 55.515625 34.71875  L 19.671875 34.71875  L 19.671875 0  L 9.8125 0  z \" id=\"DejaVuSans-72\" />\n     <path d=\"M 53.515625 70.515625  L 53.515625 60.890625  Q 47.90625 63.578125 42.921875 64.890625  Q 37.9375 66.21875 33.296875 66.21875  Q 25.25 66.21875 20.875 63.09375  Q 16.5 59.96875 16.5 54.203125  Q 16.5 49.359375 19.40625 46.890625  Q 22.3125 44.4375 30.421875 42.921875  L 36.375 41.703125  Q 47.40625 39.59375 52.65625 34.296875  Q 57.90625 29 57.90625 20.125  Q 57.90625 9.515625 50.796875 4.046875  Q 43.703125 -1.421875 29.984375 -1.421875  Q 24.8125 -1.421875 18.96875 -0.25  Q 13.140625 0.921875 6.890625 3.21875  L 6.890625 13.375  Q 12.890625 10.015625 18.65625 8.296875  Q 24.421875 6.59375 29.984375 6.59375  Q 38.421875 6.59375 43.015625 9.90625  Q 47.609375 13.234375 47.609375 19.390625  Q 47.609375 24.75 44.3125 27.78125  Q 41.015625 30.8125 33.5 32.328125  L 27.484375 33.5  Q 16.453125 35.6875 11.515625 40.375  Q 6.59375 45.0625 6.59375 53.421875  Q 6.59375 63.09375 13.40625 68.65625  Q 20.21875 74.21875 32.171875 74.21875  Q 37.3125 74.21875 42.625 73.28125  Q 47.953125 72.359375 53.515625 70.515625  z \" id=\"DejaVuSans-83\" />\n     <path d=\"M 64.40625 67.28125  L 64.40625 56.890625  Q 59.421875 61.53125 53.78125 63.8125  Q 48.140625 66.109375 41.796875 66.109375  Q 29.296875 66.109375 22.65625 58.46875  Q 16.015625 50.828125 16.015625 36.375  Q 16.015625 21.96875 22.65625 14.328125  Q 29.296875 6.6875 41.796875 6.6875  Q 48.140625 6.6875 53.78125 8.984375  Q 59.421875 11.28125 64.40625 15.921875  L 64.40625 5.609375  Q 59.234375 2.09375 53.4375 0.328125  Q 47.65625 -1.421875 41.21875 -1.421875  Q 24.65625 -1.421875 15.125 8.703125  Q 5.609375 18.84375 5.609375 36.375  Q 5.609375 53.953125 15.125 64.078125  Q 24.65625 74.21875 41.21875 74.21875  Q 47.75 74.21875 53.53125 72.484375  Q 59.328125 70.75 64.40625 67.28125  z \" id=\"DejaVuSans-67\" />\n     <path d=\"M 39.40625 66.21875  Q 28.65625 66.21875 22.328125 58.203125  Q 16.015625 50.203125 16.015625 36.375  Q 16.015625 22.609375 22.328125 14.59375  Q 28.65625 6.59375 39.40625 6.59375  Q 50.140625 6.59375 56.421875 14.59375  Q 62.703125 22.609375 62.703125 36.375  Q 62.703125 50.203125 56.421875 58.203125  Q 50.140625 66.21875 39.40625 66.21875  z M 39.40625 74.21875  Q 54.734375 74.21875 63.90625 63.9375  Q 73.09375 53.65625 73.09375 36.375  Q 73.09375 19.140625 63.90625 8.859375  Q 54.734375 -1.421875 39.40625 -1.421875  Q 24.03125 -1.421875 14.8125 8.828125  Q 5.609375 19.09375 5.609375 36.375  Q 5.609375 53.65625 14.8125 63.9375  Q 24.03125 74.21875 39.40625 74.21875  z \" id=\"DejaVuSans-79\" />\n     <path d=\"M 44.390625 34.1875  Q 47.5625 33.109375 50.5625 29.59375  Q 53.5625 26.078125 56.59375 19.921875  L 66.609375 0  L 56 0  L 46.6875 18.703125  Q 43.0625 26.03125 39.671875 28.421875  Q 36.28125 30.8125 30.421875 30.8125  L 19.671875 30.8125  L 19.671875 0  L 9.8125 0  L 9.8125 72.90625  L 32.078125 72.90625  Q 44.578125 72.90625 50.734375 67.671875  Q 56.890625 62.453125 56.890625 51.90625  Q 56.890625 45.015625 53.6875 40.46875  Q 50.484375 35.9375 44.390625 34.1875  z M 19.671875 64.796875  L 19.671875 38.921875  L 32.078125 38.921875  Q 39.203125 38.921875 42.84375 42.21875  Q 46.484375 45.515625 46.484375 51.90625  Q 46.484375 58.296875 42.84375 61.546875  Q 39.203125 64.796875 32.078125 64.796875  z \" id=\"DejaVuSans-82\" />\n     <path d=\"M 10.59375 45.40625  L 73.1875 45.40625  L 73.1875 37.203125  L 10.59375 37.203125  z M 10.59375 25.484375  L 73.1875 25.484375  L 73.1875 17.1875  L 10.59375 17.1875  z \" id=\"DejaVuSans-61\" />\n     <path d=\"M 10.6875 12.40625  L 21 12.40625  L 21 0  L 10.6875 0  z \" id=\"DejaVuSans-46\" />\n     <path d=\"M 10.796875 72.90625  L 49.515625 72.90625  L 49.515625 64.59375  L 19.828125 64.59375  L 19.828125 46.734375  Q 21.96875 47.46875 24.109375 47.828125  Q 26.265625 48.1875 28.421875 48.1875  Q 40.625 48.1875 47.75 41.5  Q 54.890625 34.8125 54.890625 23.390625  Q 54.890625 11.625 47.5625 5.09375  Q 40.234375 -1.421875 26.90625 -1.421875  Q 22.3125 -1.421875 17.546875 -0.640625  Q 12.796875 0.140625 7.71875 1.703125  L 7.71875 11.625  Q 12.109375 9.234375 16.796875 8.0625  Q 21.484375 6.890625 26.703125 6.890625  Q 35.15625 6.890625 40.078125 11.328125  Q 45.015625 15.765625 45.015625 23.390625  Q 45.015625 31 40.078125 35.4375  Q 35.15625 39.890625 26.703125 39.890625  Q 22.75 39.890625 18.8125 39.015625  Q 14.890625 38.140625 10.796875 36.28125  z \" id=\"DejaVuSans-53\" />\n     <path d=\"M 33.015625 40.375  Q 26.375 40.375 22.484375 35.828125  Q 18.609375 31.296875 18.609375 23.390625  Q 18.609375 15.53125 22.484375 10.953125  Q 26.375 6.390625 33.015625 6.390625  Q 39.65625 6.390625 43.53125 10.953125  Q 47.40625 15.53125 47.40625 23.390625  Q 47.40625 31.296875 43.53125 35.828125  Q 39.65625 40.375 33.015625 40.375  z M 52.59375 71.296875  L 52.59375 62.3125  Q 48.875 64.0625 45.09375 64.984375  Q 41.3125 65.921875 37.59375 65.921875  Q 27.828125 65.921875 22.671875 59.328125  Q 17.53125 52.734375 16.796875 39.40625  Q 19.671875 43.65625 24.015625 45.921875  Q 28.375 48.1875 33.59375 48.1875  Q 44.578125 48.1875 50.953125 41.515625  Q 57.328125 34.859375 57.328125 23.390625  Q 57.328125 12.15625 50.6875 5.359375  Q 44.046875 -1.421875 33.015625 -1.421875  Q 20.359375 -1.421875 13.671875 8.265625  Q 6.984375 17.96875 6.984375 36.375  Q 6.984375 53.65625 15.1875 63.9375  Q 23.390625 74.21875 37.203125 74.21875  Q 40.921875 74.21875 44.703125 73.484375  Q 48.484375 72.75 52.59375 71.296875  z \" id=\"DejaVuSans-54\" />\n    </defs>\n    <g style=\"fill:#444443;\" transform=\"translate(0 52.836437)scale(0.1 -0.1)\">\n     <use xlink:href=\"#DejaVuSans-77\" />\n     <use x=\"86.279297\" xlink:href=\"#DejaVuSans-69\" />\n     <use x=\"149.462891\" xlink:href=\"#DejaVuSans-78\" />\n     <use x=\"224.267578\" xlink:href=\"#DejaVuSans-84\" />\n     <use x=\"277.601562\" xlink:href=\"#DejaVuSans-65\" />\n     <use x=\"346.009766\" xlink:href=\"#DejaVuSans-76\" />\n     <use x=\"401.722656\" xlink:href=\"#DejaVuSans-32\" />\n     <use x=\"433.509766\" xlink:href=\"#DejaVuSans-72\" />\n     <use x=\"508.705078\" xlink:href=\"#DejaVuSans-69\" />\n     <use x=\"571.888672\" xlink:href=\"#DejaVuSans-65\" />\n     <use x=\"640.296875\" xlink:href=\"#DejaVuSans-76\" />\n     <use x=\"682.259766\" xlink:href=\"#DejaVuSans-84\" />\n     <use x=\"743.34375\" xlink:href=\"#DejaVuSans-72\" />\n     <use x=\"818.539062\" xlink:href=\"#DejaVuSans-32\" />\n     <use x=\"850.326172\" xlink:href=\"#DejaVuSans-83\" />\n     <use x=\"913.802734\" xlink:href=\"#DejaVuSans-67\" />\n     <use x=\"983.626953\" xlink:href=\"#DejaVuSans-79\" />\n     <use x=\"1062.337891\" xlink:href=\"#DejaVuSans-82\" />\n     <use x=\"1131.820312\" xlink:href=\"#DejaVuSans-69\" />\n     <use x=\"1195.003906\" xlink:href=\"#DejaVuSans-61\" />\n     <use x=\"1278.792969\" xlink:href=\"#DejaVuSans-48\" />\n     <use x=\"1342.416016\" xlink:href=\"#DejaVuSans-46\" />\n     <use x=\"1374.203125\" xlink:href=\"#DejaVuSans-53\" />\n     <use x=\"1437.826172\" xlink:href=\"#DejaVuSans-54\" />\n    </g>\n    \n    <defs>\n     <path d=\"M 54.890625 33.015625  L 54.890625 0  L 45.90625 0  L 45.90625 32.71875  Q 45.90625 40.484375 42.875 44.328125  Q 39.84375 48.1875 33.796875 48.1875  Q 26.515625 48.1875 22.3125 43.546875  Q 18.109375 38.921875 18.109375 30.90625  L 18.109375 0  L 9.078125 0  L 9.078125 54.6875  L 18.109375 54.6875  L 18.109375 46.1875  Q 21.34375 51.125 25.703125 53.5625  Q 30.078125 56 35.796875 56  Q 45.21875 56 50.046875 50.171875  Q 54.890625 44.34375 54.890625 33.015625  z \" id=\"DejaVuSans-110\" />\n    </defs>\n    <g style=\"fill:#444443;\" transform=\"translate(61.353906 64.03425)scale(0.1 -0.1)\">\n     <use xlink:href=\"#DejaVuSans-110\" />\n     <use x=\"63.378906\" xlink:href=\"#DejaVuSans-61\" />\n     <use x=\"147.167969\" xlink:href=\"#DejaVuSans-50\" />\n     <use x=\"210.791016\" xlink:href=\"#DejaVuSans-53\" />\n    </g>\n   </g>\n  </g>\n </g>\n <defs>\n  <clipPath id=\"p1b25359633\">\n   <rect height=\"43.488\" width=\"41.85\" x=\"53.65\" y=\"-0\" />\n  </clipPath>\n </defs>\n</svg></g>\n\n<g class=\"edge\" id=\"edge2\">\n<title>node3-&gt;leaf6</title>\n<path d=\"M433.1258,-121.513C437.3807,-120.22 441.6678,-118.9172 445.9248,-117.6235\" fill=\"none\" stroke=\"#444443\" stroke-width=\".3\" />\n<polygon fill=\"#444443\" points=\"446.404,-118.9412 449.8241,-116.4386 445.5899,-116.2622 446.404,-118.9412\" stroke=\"#444443\" stroke-width=\".3\" />\n</g>\n\n<g class=\"node\" id=\"node6\">\n<title>leaf4</title>\n<polygon fill=\"none\" points=\"429.5,-90 308.5,-90 308.5,-32 429.5,-32 429.5,-90\" stroke=\"#444443\" stroke-width=\"0\" />\n<svg height=\"50px\" preserveAspectRatio=\"xMinYMin meet\" version=\"1.1\" viewBox=\"0 0 150.15 66.113937\" width=\"113px\" x=\"313\" y=\"-86\">\n <defs>\n  <style type=\"text/css\">\n*{stroke-linecap:butt;stroke-linejoin:round;}\n  </style>\n </defs>\n <g id=\"figure_1\">\n  <g id=\"patch_1\">\n   <path d=\"M -0 66.113937  L 150.15 66.113937  L 150.15 0  L -0 0  z \" style=\"fill:#ffffff;\" />\n  </g>\n  <g id=\"axes_1\">\n   <g id=\"patch_2\">\n    <path d=\"M 53.65 43.488  L 95.5 43.488  L 95.5 -0  L 53.65 -0  z \" style=\"fill:#ffffff;\" />\n   </g>\n   <g id=\"PathCollection_1\">\n    <defs>\n     <path d=\"M 0 1.118034  C 0.296506 1.118034 0.580908 1.000231 0.790569 0.790569  C 1.000231 0.580908 1.118034 0.296506 1.118034 0  C 1.118034 -0.296506 1.000231 -0.580908 0.790569 -0.790569  C 0.580908 -1.000231 0.296506 -1.118034 0 -1.118034  C -0.296506 -1.118034 -0.580908 -1.000231 -0.790569 -0.790569  C -1.000231 -0.580908 -1.118034 -0.296506 -1.118034 0  C -1.118034 0.296506 -1.000231 0.580908 -0.790569 0.790569  C -0.580908 1.000231 -0.296506 1.118034 0 1.118034  z \" id=\"mc0455d514c\" style=\"stroke:#4575b4;stroke-opacity:0.7;stroke-width:0.3;\" />\n    </defs>\n    <g clip-path=\"url(#p884670c4cb)\">\n     <use style=\"fill:#4575b4;fill-opacity:0.7;stroke:#4575b4;stroke-opacity:0.7;stroke-width:0.3;\" x=\"72.534818\" y=\"43.488\" xlink:href=\"#mc0455d514c\" />\n     <use style=\"fill:#4575b4;fill-opacity:0.7;stroke:#4575b4;stroke-opacity:0.7;stroke-width:0.3;\" x=\"71.851331\" y=\"43.488\" xlink:href=\"#mc0455d514c\" />\n     <use style=\"fill:#4575b4;fill-opacity:0.7;stroke:#4575b4;stroke-opacity:0.7;stroke-width:0.3;\" x=\"66.814108\" y=\"43.488\" xlink:href=\"#mc0455d514c\" />\n     <use style=\"fill:#4575b4;fill-opacity:0.7;stroke:#4575b4;stroke-opacity:0.7;stroke-width:0.3;\" x=\"73.677675\" y=\"43.488\" xlink:href=\"#mc0455d514c\" />\n     <use style=\"fill:#4575b4;fill-opacity:0.7;stroke:#4575b4;stroke-opacity:0.7;stroke-width:0.3;\" x=\"78.245512\" y=\"43.488\" xlink:href=\"#mc0455d514c\" />\n     <use style=\"fill:#4575b4;fill-opacity:0.7;stroke:#4575b4;stroke-opacity:0.7;stroke-width:0.3;\" x=\"73.452044\" y=\"43.488\" xlink:href=\"#mc0455d514c\" />\n    </g>\n   </g>\n   <g id=\"matplotlib.axis_1\" />\n   <g id=\"matplotlib.axis_2\">\n    <g id=\"ytick_1\">\n     <g id=\"line2d_1\">\n      <defs>\n       <path d=\"M 0 0  L -3.5 0  \" id=\"mf61115aa39\" style=\"stroke:#444443;stroke-width:0.3;\" />\n      </defs>\n      <g>\n       <use style=\"fill:#444443;stroke:#444443;stroke-width:0.3;\" x=\"53.65\" y=\"43.488\" xlink:href=\"#mf61115aa39\" />\n      </g>\n     </g>\n     <g id=\"text_1\">\n      \n      <defs>\n       <path d=\"M 31.78125 66.40625  Q 24.171875 66.40625 20.328125 58.90625  Q 16.5 51.421875 16.5 36.375  Q 16.5 21.390625 20.328125 13.890625  Q 24.171875 6.390625 31.78125 6.390625  Q 39.453125 6.390625 43.28125 13.890625  Q 47.125 21.390625 47.125 36.375  Q 47.125 51.421875 43.28125 58.90625  Q 39.453125 66.40625 31.78125 66.40625  z M 31.78125 74.21875  Q 44.046875 74.21875 50.515625 64.515625  Q 56.984375 54.828125 56.984375 36.375  Q 56.984375 17.96875 50.515625 8.265625  Q 44.046875 -1.421875 31.78125 -1.421875  Q 19.53125 -1.421875 13.0625 8.265625  Q 6.59375 17.96875 6.59375 36.375  Q 6.59375 54.828125 13.0625 64.515625  Q 19.53125 74.21875 31.78125 74.21875  z \" id=\"DejaVuSans-48\" />\n      </defs>\n      <g style=\"fill:#444443;\" transform=\"translate(41.56 46.527375)scale(0.08 -0.08)\">\n       <use xlink:href=\"#DejaVuSans-48\" />\n      </g>\n     </g>\n    </g>\n    <g id=\"ytick_2\">\n     <g id=\"line2d_2\">\n      <g>\n       <use style=\"fill:#444443;stroke:#444443;stroke-width:0.3;\" x=\"53.65\" y=\"15.340427\" xlink:href=\"#mf61115aa39\" />\n      </g>\n     </g>\n     <g id=\"text_2\">\n      \n      <defs>\n       <path d=\"M 19.1875 8.296875  L 53.609375 8.296875  L 53.609375 0  L 7.328125 0  L 7.328125 8.296875  Q 12.9375 14.109375 22.625 23.890625  Q 32.328125 33.6875 34.8125 36.53125  Q 39.546875 41.84375 41.421875 45.53125  Q 43.3125 49.21875 43.3125 52.78125  Q 43.3125 58.59375 39.234375 62.25  Q 35.15625 65.921875 28.609375 65.921875  Q 23.96875 65.921875 18.8125 64.3125  Q 13.671875 62.703125 7.8125 59.421875  L 7.8125 69.390625  Q 13.765625 71.78125 18.9375 73  Q 24.125 74.21875 28.421875 74.21875  Q 39.75 74.21875 46.484375 68.546875  Q 53.21875 62.890625 53.21875 53.421875  Q 53.21875 48.921875 51.53125 44.890625  Q 49.859375 40.875 45.40625 35.40625  Q 44.1875 33.984375 37.640625 27.21875  Q 31.109375 20.453125 19.1875 8.296875  z \" id=\"DejaVuSans-50\" />\n      </defs>\n      <g style=\"fill:#444443;\" transform=\"translate(41.56 18.379802)scale(0.08 -0.08)\">\n       <use xlink:href=\"#DejaVuSans-50\" />\n      </g>\n     </g>\n    </g>\n   </g>\n   <g id=\"line2d_3\">\n    <path clip-path=\"url(#p884670c4cb)\" d=\"M 53.65 43.488  L 151.15 43.488  \" style=\"fill:none;stroke:#444443;stroke-dasharray:3.7,1.6;stroke-dashoffset:0;\" />\n   </g>\n   <g id=\"patch_3\">\n    <path d=\"M 53.65 43.488  L 53.65 -0  \" style=\"fill:none;stroke:#000000;stroke-linecap:square;stroke-linejoin:miter;stroke-width:0.3;\" />\n   </g>\n   <g id=\"text_3\">\n    \n    <defs>\n     <path d=\"M 9.8125 72.90625  L 24.515625 72.90625  L 43.109375 23.296875  L 61.8125 72.90625  L 76.515625 72.90625  L 76.515625 0  L 66.890625 0  L 66.890625 64.015625  L 48.09375 14.015625  L 38.1875 14.015625  L 19.390625 64.015625  L 19.390625 0  L 9.8125 0  z \" id=\"DejaVuSans-77\" />\n     <path d=\"M 9.8125 72.90625  L 55.90625 72.90625  L 55.90625 64.59375  L 19.671875 64.59375  L 19.671875 43.015625  L 54.390625 43.015625  L 54.390625 34.71875  L 19.671875 34.71875  L 19.671875 8.296875  L 56.78125 8.296875  L 56.78125 0  L 9.8125 0  z \" id=\"DejaVuSans-69\" />\n     <path d=\"M 9.8125 72.90625  L 23.09375 72.90625  L 55.421875 11.921875  L 55.421875 72.90625  L 64.984375 72.90625  L 64.984375 0  L 51.703125 0  L 19.390625 60.984375  L 19.390625 0  L 9.8125 0  z \" id=\"DejaVuSans-78\" />\n     <path d=\"M -0.296875 72.90625  L 61.375 72.90625  L 61.375 64.59375  L 35.5 64.59375  L 35.5 0  L 25.59375 0  L 25.59375 64.59375  L -0.296875 64.59375  z \" id=\"DejaVuSans-84\" />\n     <path d=\"M 34.1875 63.1875  L 20.796875 26.90625  L 47.609375 26.90625  z M 28.609375 72.90625  L 39.796875 72.90625  L 67.578125 0  L 57.328125 0  L 50.6875 18.703125  L 17.828125 18.703125  L 11.1875 0  L 0.78125 0  z \" id=\"DejaVuSans-65\" />\n     <path d=\"M 9.8125 72.90625  L 19.671875 72.90625  L 19.671875 8.296875  L 55.171875 8.296875  L 55.171875 0  L 9.8125 0  z \" id=\"DejaVuSans-76\" />\n     <path id=\"DejaVuSans-32\" />\n     <path d=\"M 9.8125 72.90625  L 19.671875 72.90625  L 19.671875 43.015625  L 55.515625 43.015625  L 55.515625 72.90625  L 65.375 72.90625  L 65.375 0  L 55.515625 0  L 55.515625 34.71875  L 19.671875 34.71875  L 19.671875 0  L 9.8125 0  z \" id=\"DejaVuSans-72\" />\n     <path d=\"M 53.515625 70.515625  L 53.515625 60.890625  Q 47.90625 63.578125 42.921875 64.890625  Q 37.9375 66.21875 33.296875 66.21875  Q 25.25 66.21875 20.875 63.09375  Q 16.5 59.96875 16.5 54.203125  Q 16.5 49.359375 19.40625 46.890625  Q 22.3125 44.4375 30.421875 42.921875  L 36.375 41.703125  Q 47.40625 39.59375 52.65625 34.296875  Q 57.90625 29 57.90625 20.125  Q 57.90625 9.515625 50.796875 4.046875  Q 43.703125 -1.421875 29.984375 -1.421875  Q 24.8125 -1.421875 18.96875 -0.25  Q 13.140625 0.921875 6.890625 3.21875  L 6.890625 13.375  Q 12.890625 10.015625 18.65625 8.296875  Q 24.421875 6.59375 29.984375 6.59375  Q 38.421875 6.59375 43.015625 9.90625  Q 47.609375 13.234375 47.609375 19.390625  Q 47.609375 24.75 44.3125 27.78125  Q 41.015625 30.8125 33.5 32.328125  L 27.484375 33.5  Q 16.453125 35.6875 11.515625 40.375  Q 6.59375 45.0625 6.59375 53.421875  Q 6.59375 63.09375 13.40625 68.65625  Q 20.21875 74.21875 32.171875 74.21875  Q 37.3125 74.21875 42.625 73.28125  Q 47.953125 72.359375 53.515625 70.515625  z \" id=\"DejaVuSans-83\" />\n     <path d=\"M 64.40625 67.28125  L 64.40625 56.890625  Q 59.421875 61.53125 53.78125 63.8125  Q 48.140625 66.109375 41.796875 66.109375  Q 29.296875 66.109375 22.65625 58.46875  Q 16.015625 50.828125 16.015625 36.375  Q 16.015625 21.96875 22.65625 14.328125  Q 29.296875 6.6875 41.796875 6.6875  Q 48.140625 6.6875 53.78125 8.984375  Q 59.421875 11.28125 64.40625 15.921875  L 64.40625 5.609375  Q 59.234375 2.09375 53.4375 0.328125  Q 47.65625 -1.421875 41.21875 -1.421875  Q 24.65625 -1.421875 15.125 8.703125  Q 5.609375 18.84375 5.609375 36.375  Q 5.609375 53.953125 15.125 64.078125  Q 24.65625 74.21875 41.21875 74.21875  Q 47.75 74.21875 53.53125 72.484375  Q 59.328125 70.75 64.40625 67.28125  z \" id=\"DejaVuSans-67\" />\n     <path d=\"M 39.40625 66.21875  Q 28.65625 66.21875 22.328125 58.203125  Q 16.015625 50.203125 16.015625 36.375  Q 16.015625 22.609375 22.328125 14.59375  Q 28.65625 6.59375 39.40625 6.59375  Q 50.140625 6.59375 56.421875 14.59375  Q 62.703125 22.609375 62.703125 36.375  Q 62.703125 50.203125 56.421875 58.203125  Q 50.140625 66.21875 39.40625 66.21875  z M 39.40625 74.21875  Q 54.734375 74.21875 63.90625 63.9375  Q 73.09375 53.65625 73.09375 36.375  Q 73.09375 19.140625 63.90625 8.859375  Q 54.734375 -1.421875 39.40625 -1.421875  Q 24.03125 -1.421875 14.8125 8.828125  Q 5.609375 19.09375 5.609375 36.375  Q 5.609375 53.65625 14.8125 63.9375  Q 24.03125 74.21875 39.40625 74.21875  z \" id=\"DejaVuSans-79\" />\n     <path d=\"M 44.390625 34.1875  Q 47.5625 33.109375 50.5625 29.59375  Q 53.5625 26.078125 56.59375 19.921875  L 66.609375 0  L 56 0  L 46.6875 18.703125  Q 43.0625 26.03125 39.671875 28.421875  Q 36.28125 30.8125 30.421875 30.8125  L 19.671875 30.8125  L 19.671875 0  L 9.8125 0  L 9.8125 72.90625  L 32.078125 72.90625  Q 44.578125 72.90625 50.734375 67.671875  Q 56.890625 62.453125 56.890625 51.90625  Q 56.890625 45.015625 53.6875 40.46875  Q 50.484375 35.9375 44.390625 34.1875  z M 19.671875 64.796875  L 19.671875 38.921875  L 32.078125 38.921875  Q 39.203125 38.921875 42.84375 42.21875  Q 46.484375 45.515625 46.484375 51.90625  Q 46.484375 58.296875 42.84375 61.546875  Q 39.203125 64.796875 32.078125 64.796875  z \" id=\"DejaVuSans-82\" />\n     <path d=\"M 10.59375 45.40625  L 73.1875 45.40625  L 73.1875 37.203125  L 10.59375 37.203125  z M 10.59375 25.484375  L 73.1875 25.484375  L 73.1875 17.1875  L 10.59375 17.1875  z \" id=\"DejaVuSans-61\" />\n     <path d=\"M 10.6875 12.40625  L 21 12.40625  L 21 0  L 10.6875 0  z \" id=\"DejaVuSans-46\" />\n    </defs>\n    <g style=\"fill:#444443;\" transform=\"translate(0 52.836437)scale(0.1 -0.1)\">\n     <use xlink:href=\"#DejaVuSans-77\" />\n     <use x=\"86.279297\" xlink:href=\"#DejaVuSans-69\" />\n     <use x=\"149.462891\" xlink:href=\"#DejaVuSans-78\" />\n     <use x=\"224.267578\" xlink:href=\"#DejaVuSans-84\" />\n     <use x=\"277.601562\" xlink:href=\"#DejaVuSans-65\" />\n     <use x=\"346.009766\" xlink:href=\"#DejaVuSans-76\" />\n     <use x=\"401.722656\" xlink:href=\"#DejaVuSans-32\" />\n     <use x=\"433.509766\" xlink:href=\"#DejaVuSans-72\" />\n     <use x=\"508.705078\" xlink:href=\"#DejaVuSans-69\" />\n     <use x=\"571.888672\" xlink:href=\"#DejaVuSans-65\" />\n     <use x=\"640.296875\" xlink:href=\"#DejaVuSans-76\" />\n     <use x=\"682.259766\" xlink:href=\"#DejaVuSans-84\" />\n     <use x=\"743.34375\" xlink:href=\"#DejaVuSans-72\" />\n     <use x=\"818.539062\" xlink:href=\"#DejaVuSans-32\" />\n     <use x=\"850.326172\" xlink:href=\"#DejaVuSans-83\" />\n     <use x=\"913.802734\" xlink:href=\"#DejaVuSans-67\" />\n     <use x=\"983.626953\" xlink:href=\"#DejaVuSans-79\" />\n     <use x=\"1062.337891\" xlink:href=\"#DejaVuSans-82\" />\n     <use x=\"1131.820312\" xlink:href=\"#DejaVuSans-69\" />\n     <use x=\"1195.003906\" xlink:href=\"#DejaVuSans-61\" />\n     <use x=\"1278.792969\" xlink:href=\"#DejaVuSans-48\" />\n     <use x=\"1342.416016\" xlink:href=\"#DejaVuSans-46\" />\n     <use x=\"1374.203125\" xlink:href=\"#DejaVuSans-48\" />\n     <use x=\"1437.826172\" xlink:href=\"#DejaVuSans-48\" />\n    </g>\n    \n    <defs>\n     <path d=\"M 54.890625 33.015625  L 54.890625 0  L 45.90625 0  L 45.90625 32.71875  Q 45.90625 40.484375 42.875 44.328125  Q 39.84375 48.1875 33.796875 48.1875  Q 26.515625 48.1875 22.3125 43.546875  Q 18.109375 38.921875 18.109375 30.90625  L 18.109375 0  L 9.078125 0  L 9.078125 54.6875  L 18.109375 54.6875  L 18.109375 46.1875  Q 21.34375 51.125 25.703125 53.5625  Q 30.078125 56 35.796875 56  Q 45.21875 56 50.046875 50.171875  Q 54.890625 44.34375 54.890625 33.015625  z \" id=\"DejaVuSans-110\" />\n     <path d=\"M 33.015625 40.375  Q 26.375 40.375 22.484375 35.828125  Q 18.609375 31.296875 18.609375 23.390625  Q 18.609375 15.53125 22.484375 10.953125  Q 26.375 6.390625 33.015625 6.390625  Q 39.65625 6.390625 43.53125 10.953125  Q 47.40625 15.53125 47.40625 23.390625  Q 47.40625 31.296875 43.53125 35.828125  Q 39.65625 40.375 33.015625 40.375  z M 52.59375 71.296875  L 52.59375 62.3125  Q 48.875 64.0625 45.09375 64.984375  Q 41.3125 65.921875 37.59375 65.921875  Q 27.828125 65.921875 22.671875 59.328125  Q 17.53125 52.734375 16.796875 39.40625  Q 19.671875 43.65625 24.015625 45.921875  Q 28.375 48.1875 33.59375 48.1875  Q 44.578125 48.1875 50.953125 41.515625  Q 57.328125 34.859375 57.328125 23.390625  Q 57.328125 12.15625 50.6875 5.359375  Q 44.046875 -1.421875 33.015625 -1.421875  Q 20.359375 -1.421875 13.671875 8.265625  Q 6.984375 17.96875 6.984375 36.375  Q 6.984375 53.65625 15.1875 63.9375  Q 23.390625 74.21875 37.203125 74.21875  Q 40.921875 74.21875 44.703125 73.484375  Q 48.484375 72.75 52.59375 71.296875  z \" id=\"DejaVuSans-54\" />\n    </defs>\n    <g style=\"fill:#444443;\" transform=\"translate(64.535156 64.03425)scale(0.1 -0.1)\">\n     <use xlink:href=\"#DejaVuSans-110\" />\n     <use x=\"63.378906\" xlink:href=\"#DejaVuSans-61\" />\n     <use x=\"147.167969\" xlink:href=\"#DejaVuSans-54\" />\n    </g>\n   </g>\n  </g>\n </g>\n <defs>\n  <clipPath id=\"p884670c4cb\">\n   <rect height=\"43.488\" width=\"41.85\" x=\"53.65\" y=\"-0\" />\n  </clipPath>\n </defs>\n</svg></g>\n\n\n<g class=\"node\" id=\"node2\">\n<title>node1</title>\n<svg height=\"66px\" preserveAspectRatio=\"xMinYMin meet\" version=\"1.1\" viewBox=\"0 0 157.95125 88.216625\" width=\"118px\" x=\"166\" y=\"-142\">\n <defs>\n  <style type=\"text/css\">\n*{stroke-linecap:butt;stroke-linejoin:round;}\n  </style>\n </defs>\n <g id=\"figure_1\">\n  <g id=\"patch_1\">\n   <path d=\"M 0 88.216625  L 157.95125 88.216625  L 157.95125 -0  L 0 -0  z \" style=\"fill:#ffffff;\" />\n  </g>\n  <g id=\"axes_1\">\n   <g id=\"patch_2\">\n    <path d=\"M 12.09 59.796  L 151.59 59.796  L 151.59 -0  L 12.09 -0  z \" style=\"fill:#ffffff;\" />\n   </g>\n   <g id=\"PathCollection_1\">\n    <defs>\n     <path d=\"M 0 1.118034  C 0.296506 1.118034 0.580908 1.000231 0.790569 0.790569  C 1.000231 0.580908 1.118034 0.296506 1.118034 0  C 1.118034 -0.296506 1.000231 -0.580908 0.790569 -0.790569  C 0.580908 -1.000231 0.296506 -1.118034 0 -1.118034  C -0.296506 -1.118034 -0.580908 -1.000231 -0.790569 -0.790569  C -1.000231 -0.580908 -1.118034 -0.296506 -1.118034 0  C -1.118034 0.296506 -1.000231 0.580908 -0.790569 0.790569  C -0.580908 1.000231 -0.296506 1.118034 0 1.118034  z \" id=\"mbca4cd3601\" style=\"stroke:#4575b4;stroke-opacity:0.7;stroke-width:0.3;\" />\n    </defs>\n    <g clip-path=\"url(#p5724bd46c8)\">\n     <use style=\"fill:#4575b4;fill-opacity:0.7;stroke:#4575b4;stroke-opacity:0.7;stroke-width:0.3;\" x=\"12.09\" y=\"40.444544\" xlink:href=\"#mbca4cd3601\" />\n     <use style=\"fill:#4575b4;fill-opacity:0.7;stroke:#4575b4;stroke-opacity:0.7;stroke-width:0.3;\" x=\"151.59\" y=\"59.796\" xlink:href=\"#mbca4cd3601\" />\n     <use style=\"fill:#4575b4;fill-opacity:0.7;stroke:#4575b4;stroke-opacity:0.7;stroke-width:0.3;\" x=\"58.59\" y=\"59.796\" xlink:href=\"#mbca4cd3601\" />\n     <use style=\"fill:#4575b4;fill-opacity:0.7;stroke:#4575b4;stroke-opacity:0.7;stroke-width:0.3;\" x=\"12.09\" y=\"21.093087\" xlink:href=\"#mbca4cd3601\" />\n     <use style=\"fill:#4575b4;fill-opacity:0.7;stroke:#4575b4;stroke-opacity:0.7;stroke-width:0.3;\" x=\"105.09\" y=\"1.741631\" xlink:href=\"#mbca4cd3601\" />\n     <use style=\"fill:#4575b4;fill-opacity:0.7;stroke:#4575b4;stroke-opacity:0.7;stroke-width:0.3;\" x=\"12.09\" y=\"59.796\" xlink:href=\"#mbca4cd3601\" />\n     <use style=\"fill:#4575b4;fill-opacity:0.7;stroke:#4575b4;stroke-opacity:0.7;stroke-width:0.3;\" x=\"58.59\" y=\"40.444544\" xlink:href=\"#mbca4cd3601\" />\n     <use style=\"fill:#4575b4;fill-opacity:0.7;stroke:#4575b4;stroke-opacity:0.7;stroke-width:0.3;\" x=\"58.59\" y=\"40.444544\" xlink:href=\"#mbca4cd3601\" />\n     <use style=\"fill:#4575b4;fill-opacity:0.7;stroke:#4575b4;stroke-opacity:0.7;stroke-width:0.3;\" x=\"12.09\" y=\"59.796\" xlink:href=\"#mbca4cd3601\" />\n     <use style=\"fill:#4575b4;fill-opacity:0.7;stroke:#4575b4;stroke-opacity:0.7;stroke-width:0.3;\" x=\"105.09\" y=\"59.796\" xlink:href=\"#mbca4cd3601\" />\n     <use style=\"fill:#4575b4;fill-opacity:0.7;stroke:#4575b4;stroke-opacity:0.7;stroke-width:0.3;\" x=\"12.09\" y=\"40.444544\" xlink:href=\"#mbca4cd3601\" />\n     <use style=\"fill:#4575b4;fill-opacity:0.7;stroke:#4575b4;stroke-opacity:0.7;stroke-width:0.3;\" x=\"12.09\" y=\"1.741631\" xlink:href=\"#mbca4cd3601\" />\n     <use style=\"fill:#4575b4;fill-opacity:0.7;stroke:#4575b4;stroke-opacity:0.7;stroke-width:0.3;\" x=\"12.09\" y=\"21.093087\" xlink:href=\"#mbca4cd3601\" />\n     <use style=\"fill:#4575b4;fill-opacity:0.7;stroke:#4575b4;stroke-opacity:0.7;stroke-width:0.3;\" x=\"105.09\" y=\"40.444544\" xlink:href=\"#mbca4cd3601\" />\n     <use style=\"fill:#4575b4;fill-opacity:0.7;stroke:#4575b4;stroke-opacity:0.7;stroke-width:0.3;\" x=\"58.59\" y=\"40.444544\" xlink:href=\"#mbca4cd3601\" />\n     <use style=\"fill:#4575b4;fill-opacity:0.7;stroke:#4575b4;stroke-opacity:0.7;stroke-width:0.3;\" x=\"12.09\" y=\"40.444544\" xlink:href=\"#mbca4cd3601\" />\n     <use style=\"fill:#4575b4;fill-opacity:0.7;stroke:#4575b4;stroke-opacity:0.7;stroke-width:0.3;\" x=\"105.09\" y=\"59.796\" xlink:href=\"#mbca4cd3601\" />\n     <use style=\"fill:#4575b4;fill-opacity:0.7;stroke:#4575b4;stroke-opacity:0.7;stroke-width:0.3;\" x=\"151.59\" y=\"59.796\" xlink:href=\"#mbca4cd3601\" />\n     <use style=\"fill:#4575b4;fill-opacity:0.7;stroke:#4575b4;stroke-opacity:0.7;stroke-width:0.3;\" x=\"58.59\" y=\"59.796\" xlink:href=\"#mbca4cd3601\" />\n     <use style=\"fill:#4575b4;fill-opacity:0.7;stroke:#4575b4;stroke-opacity:0.7;stroke-width:0.3;\" x=\"12.09\" y=\"21.093087\" xlink:href=\"#mbca4cd3601\" />\n     <use style=\"fill:#4575b4;fill-opacity:0.7;stroke:#4575b4;stroke-opacity:0.7;stroke-width:0.3;\" x=\"151.59\" y=\"59.796\" xlink:href=\"#mbca4cd3601\" />\n     <use style=\"fill:#4575b4;fill-opacity:0.7;stroke:#4575b4;stroke-opacity:0.7;stroke-width:0.3;\" x=\"12.09\" y=\"1.741631\" xlink:href=\"#mbca4cd3601\" />\n     <use style=\"fill:#4575b4;fill-opacity:0.7;stroke:#4575b4;stroke-opacity:0.7;stroke-width:0.3;\" x=\"12.09\" y=\"59.796\" xlink:href=\"#mbca4cd3601\" />\n     <use style=\"fill:#4575b4;fill-opacity:0.7;stroke:#4575b4;stroke-opacity:0.7;stroke-width:0.3;\" x=\"105.09\" y=\"40.444544\" xlink:href=\"#mbca4cd3601\" />\n     <use style=\"fill:#4575b4;fill-opacity:0.7;stroke:#4575b4;stroke-opacity:0.7;stroke-width:0.3;\" x=\"12.09\" y=\"40.444544\" xlink:href=\"#mbca4cd3601\" />\n     <use style=\"fill:#4575b4;fill-opacity:0.7;stroke:#4575b4;stroke-opacity:0.7;stroke-width:0.3;\" x=\"58.59\" y=\"59.796\" xlink:href=\"#mbca4cd3601\" />\n     <use style=\"fill:#4575b4;fill-opacity:0.7;stroke:#4575b4;stroke-opacity:0.7;stroke-width:0.3;\" x=\"12.09\" y=\"59.796\" xlink:href=\"#mbca4cd3601\" />\n     <use style=\"fill:#4575b4;fill-opacity:0.7;stroke:#4575b4;stroke-opacity:0.7;stroke-width:0.3;\" x=\"12.09\" y=\"40.444544\" xlink:href=\"#mbca4cd3601\" />\n     <use style=\"fill:#4575b4;fill-opacity:0.7;stroke:#4575b4;stroke-opacity:0.7;stroke-width:0.3;\" x=\"58.59\" y=\"40.444544\" xlink:href=\"#mbca4cd3601\" />\n     <use style=\"fill:#4575b4;fill-opacity:0.7;stroke:#4575b4;stroke-opacity:0.7;stroke-width:0.3;\" x=\"58.59\" y=\"40.444544\" xlink:href=\"#mbca4cd3601\" />\n     <use style=\"fill:#4575b4;fill-opacity:0.7;stroke:#4575b4;stroke-opacity:0.7;stroke-width:0.3;\" x=\"12.09\" y=\"59.796\" xlink:href=\"#mbca4cd3601\" />\n     <use style=\"fill:#4575b4;fill-opacity:0.7;stroke:#4575b4;stroke-opacity:0.7;stroke-width:0.3;\" x=\"12.09\" y=\"40.444544\" xlink:href=\"#mbca4cd3601\" />\n     <use style=\"fill:#4575b4;fill-opacity:0.7;stroke:#4575b4;stroke-opacity:0.7;stroke-width:0.3;\" x=\"58.59\" y=\"40.444544\" xlink:href=\"#mbca4cd3601\" />\n     <use style=\"fill:#4575b4;fill-opacity:0.7;stroke:#4575b4;stroke-opacity:0.7;stroke-width:0.3;\" x=\"151.59\" y=\"59.796\" xlink:href=\"#mbca4cd3601\" />\n     <use style=\"fill:#4575b4;fill-opacity:0.7;stroke:#4575b4;stroke-opacity:0.7;stroke-width:0.3;\" x=\"12.09\" y=\"40.444544\" xlink:href=\"#mbca4cd3601\" />\n     <use style=\"fill:#4575b4;fill-opacity:0.7;stroke:#4575b4;stroke-opacity:0.7;stroke-width:0.3;\" x=\"12.09\" y=\"59.796\" xlink:href=\"#mbca4cd3601\" />\n     <use style=\"fill:#4575b4;fill-opacity:0.7;stroke:#4575b4;stroke-opacity:0.7;stroke-width:0.3;\" x=\"58.59\" y=\"40.444544\" xlink:href=\"#mbca4cd3601\" />\n     <use style=\"fill:#4575b4;fill-opacity:0.7;stroke:#4575b4;stroke-opacity:0.7;stroke-width:0.3;\" x=\"12.09\" y=\"59.796\" xlink:href=\"#mbca4cd3601\" />\n     <use style=\"fill:#4575b4;fill-opacity:0.7;stroke:#4575b4;stroke-opacity:0.7;stroke-width:0.3;\" x=\"151.59\" y=\"59.796\" xlink:href=\"#mbca4cd3601\" />\n     <use style=\"fill:#4575b4;fill-opacity:0.7;stroke:#4575b4;stroke-opacity:0.7;stroke-width:0.3;\" x=\"105.09\" y=\"59.796\" xlink:href=\"#mbca4cd3601\" />\n     <use style=\"fill:#4575b4;fill-opacity:0.7;stroke:#4575b4;stroke-opacity:0.7;stroke-width:0.3;\" x=\"105.09\" y=\"59.796\" xlink:href=\"#mbca4cd3601\" />\n     <use style=\"fill:#4575b4;fill-opacity:0.7;stroke:#4575b4;stroke-opacity:0.7;stroke-width:0.3;\" x=\"12.09\" y=\"59.796\" xlink:href=\"#mbca4cd3601\" />\n     <use style=\"fill:#4575b4;fill-opacity:0.7;stroke:#4575b4;stroke-opacity:0.7;stroke-width:0.3;\" x=\"105.09\" y=\"59.796\" xlink:href=\"#mbca4cd3601\" />\n     <use style=\"fill:#4575b4;fill-opacity:0.7;stroke:#4575b4;stroke-opacity:0.7;stroke-width:0.3;\" x=\"12.09\" y=\"40.444544\" xlink:href=\"#mbca4cd3601\" />\n     <use style=\"fill:#4575b4;fill-opacity:0.7;stroke:#4575b4;stroke-opacity:0.7;stroke-width:0.3;\" x=\"58.59\" y=\"40.444544\" xlink:href=\"#mbca4cd3601\" />\n     <use style=\"fill:#4575b4;fill-opacity:0.7;stroke:#4575b4;stroke-opacity:0.7;stroke-width:0.3;\" x=\"12.09\" y=\"59.796\" xlink:href=\"#mbca4cd3601\" />\n     <use style=\"fill:#4575b4;fill-opacity:0.7;stroke:#4575b4;stroke-opacity:0.7;stroke-width:0.3;\" x=\"58.59\" y=\"59.796\" xlink:href=\"#mbca4cd3601\" />\n     <use style=\"fill:#4575b4;fill-opacity:0.7;stroke:#4575b4;stroke-opacity:0.7;stroke-width:0.3;\" x=\"105.09\" y=\"59.796\" xlink:href=\"#mbca4cd3601\" />\n     <use style=\"fill:#4575b4;fill-opacity:0.7;stroke:#4575b4;stroke-opacity:0.7;stroke-width:0.3;\" x=\"58.59\" y=\"40.444544\" xlink:href=\"#mbca4cd3601\" />\n     <use style=\"fill:#4575b4;fill-opacity:0.7;stroke:#4575b4;stroke-opacity:0.7;stroke-width:0.3;\" x=\"58.59\" y=\"40.444544\" xlink:href=\"#mbca4cd3601\" />\n     <use style=\"fill:#4575b4;fill-opacity:0.7;stroke:#4575b4;stroke-opacity:0.7;stroke-width:0.3;\" x=\"105.09\" y=\"40.444544\" xlink:href=\"#mbca4cd3601\" />\n     <use style=\"fill:#4575b4;fill-opacity:0.7;stroke:#4575b4;stroke-opacity:0.7;stroke-width:0.3;\" x=\"12.09\" y=\"1.741631\" xlink:href=\"#mbca4cd3601\" />\n     <use style=\"fill:#4575b4;fill-opacity:0.7;stroke:#4575b4;stroke-opacity:0.7;stroke-width:0.3;\" x=\"12.09\" y=\"21.093087\" xlink:href=\"#mbca4cd3601\" />\n     <use style=\"fill:#4575b4;fill-opacity:0.7;stroke:#4575b4;stroke-opacity:0.7;stroke-width:0.3;\" x=\"58.59\" y=\"59.796\" xlink:href=\"#mbca4cd3601\" />\n     <use style=\"fill:#4575b4;fill-opacity:0.7;stroke:#4575b4;stroke-opacity:0.7;stroke-width:0.3;\" x=\"151.59\" y=\"59.796\" xlink:href=\"#mbca4cd3601\" />\n     <use style=\"fill:#4575b4;fill-opacity:0.7;stroke:#4575b4;stroke-opacity:0.7;stroke-width:0.3;\" x=\"12.09\" y=\"59.796\" xlink:href=\"#mbca4cd3601\" />\n     <use style=\"fill:#4575b4;fill-opacity:0.7;stroke:#4575b4;stroke-opacity:0.7;stroke-width:0.3;\" x=\"12.09\" y=\"59.796\" xlink:href=\"#mbca4cd3601\" />\n     <use style=\"fill:#4575b4;fill-opacity:0.7;stroke:#4575b4;stroke-opacity:0.7;stroke-width:0.3;\" x=\"105.09\" y=\"21.093087\" xlink:href=\"#mbca4cd3601\" />\n     <use style=\"fill:#4575b4;fill-opacity:0.7;stroke:#4575b4;stroke-opacity:0.7;stroke-width:0.3;\" x=\"58.59\" y=\"21.093087\" xlink:href=\"#mbca4cd3601\" />\n     <use style=\"fill:#4575b4;fill-opacity:0.7;stroke:#4575b4;stroke-opacity:0.7;stroke-width:0.3;\" x=\"58.59\" y=\"59.796\" xlink:href=\"#mbca4cd3601\" />\n     <use style=\"fill:#4575b4;fill-opacity:0.7;stroke:#4575b4;stroke-opacity:0.7;stroke-width:0.3;\" x=\"105.09\" y=\"40.444544\" xlink:href=\"#mbca4cd3601\" />\n     <use style=\"fill:#4575b4;fill-opacity:0.7;stroke:#4575b4;stroke-opacity:0.7;stroke-width:0.3;\" x=\"12.09\" y=\"1.741631\" xlink:href=\"#mbca4cd3601\" />\n     <use style=\"fill:#4575b4;fill-opacity:0.7;stroke:#4575b4;stroke-opacity:0.7;stroke-width:0.3;\" x=\"58.59\" y=\"59.796\" xlink:href=\"#mbca4cd3601\" />\n     <use style=\"fill:#4575b4;fill-opacity:0.7;stroke:#4575b4;stroke-opacity:0.7;stroke-width:0.3;\" x=\"12.09\" y=\"59.796\" xlink:href=\"#mbca4cd3601\" />\n     <use style=\"fill:#4575b4;fill-opacity:0.7;stroke:#4575b4;stroke-opacity:0.7;stroke-width:0.3;\" x=\"12.09\" y=\"21.093087\" xlink:href=\"#mbca4cd3601\" />\n     <use style=\"fill:#4575b4;fill-opacity:0.7;stroke:#4575b4;stroke-opacity:0.7;stroke-width:0.3;\" x=\"12.09\" y=\"21.093087\" xlink:href=\"#mbca4cd3601\" />\n    </g>\n   </g>\n   <g id=\"patch_3\">\n    <path d=\"M 128.34 59.796  L 125.829 65.7756  L 130.851 65.7756  z \" style=\"fill:#444443;\" />\n   </g>\n   <g id=\"matplotlib.axis_1\">\n    <g id=\"xtick_1\">\n     <g id=\"line2d_1\">\n      <defs>\n       <path d=\"M 0 0  L 0 3.5  \" id=\"m9d702855e9\" style=\"stroke:#444443;stroke-width:0.3;\" />\n      </defs>\n      <g>\n       <use style=\"fill:#444443;stroke:#444443;stroke-width:0.3;\" x=\"12.09\" y=\"59.796\" xlink:href=\"#m9d702855e9\" />\n      </g>\n     </g>\n     <g id=\"text_1\">\n      \n      <defs>\n       <path d=\"M 12.40625 8.296875  L 28.515625 8.296875  L 28.515625 63.921875  L 10.984375 60.40625  L 10.984375 69.390625  L 28.421875 72.90625  L 38.28125 72.90625  L 38.28125 8.296875  L 54.390625 8.296875  L 54.390625 0  L 12.40625 0  z \" id=\"DejaVuSans-49\" />\n       <path d=\"M 10.6875 12.40625  L 21 12.40625  L 21 0  L 10.6875 0  z \" id=\"DejaVuSans-46\" />\n       <path d=\"M 31.78125 66.40625  Q 24.171875 66.40625 20.328125 58.90625  Q 16.5 51.421875 16.5 36.375  Q 16.5 21.390625 20.328125 13.890625  Q 24.171875 6.390625 31.78125 6.390625  Q 39.453125 6.390625 43.28125 13.890625  Q 47.125 21.390625 47.125 36.375  Q 47.125 51.421875 43.28125 58.90625  Q 39.453125 66.40625 31.78125 66.40625  z M 31.78125 74.21875  Q 44.046875 74.21875 50.515625 64.515625  Q 56.984375 54.828125 56.984375 36.375  Q 56.984375 17.96875 50.515625 8.265625  Q 44.046875 -1.421875 31.78125 -1.421875  Q 19.53125 -1.421875 13.0625 8.265625  Q 6.59375 17.96875 6.59375 36.375  Q 6.59375 54.828125 13.0625 64.515625  Q 19.53125 74.21875 31.78125 74.21875  z \" id=\"DejaVuSans-48\" />\n      </defs>\n      <g style=\"fill:#444443;\" transform=\"translate(5.72875 72.87475)scale(0.08 -0.08)\">\n       <use xlink:href=\"#DejaVuSans-49\" />\n       <use x=\"63.623047\" xlink:href=\"#DejaVuSans-46\" />\n       <use x=\"95.410156\" xlink:href=\"#DejaVuSans-48\" />\n      </g>\n     </g>\n    </g>\n    <g id=\"xtick_2\">\n     <g id=\"line2d_2\">\n      <g>\n       <use style=\"fill:#444443;stroke:#444443;stroke-width:0.3;\" x=\"151.59\" y=\"59.796\" xlink:href=\"#m9d702855e9\" />\n      </g>\n     </g>\n     <g id=\"text_2\">\n      \n      <defs>\n       <path d=\"M 37.796875 64.3125  L 12.890625 25.390625  L 37.796875 25.390625  z M 35.203125 72.90625  L 47.609375 72.90625  L 47.609375 25.390625  L 58.015625 25.390625  L 58.015625 17.1875  L 47.609375 17.1875  L 47.609375 0  L 37.796875 0  L 37.796875 17.1875  L 4.890625 17.1875  L 4.890625 26.703125  z \" id=\"DejaVuSans-52\" />\n      </defs>\n      <g style=\"fill:#444443;\" transform=\"translate(145.22875 72.87475)scale(0.08 -0.08)\">\n       <use xlink:href=\"#DejaVuSans-52\" />\n       <use x=\"63.623047\" xlink:href=\"#DejaVuSans-46\" />\n       <use x=\"95.410156\" xlink:href=\"#DejaVuSans-48\" />\n      </g>\n     </g>\n    </g>\n    <g id=\"xtick_3\">\n     <g id=\"line2d_3\">\n      <g>\n       <use style=\"fill:#444443;stroke:#444443;stroke-width:0.3;\" x=\"128.34\" y=\"59.796\" xlink:href=\"#m9d702855e9\" />\n      </g>\n     </g>\n     <g id=\"text_3\">\n      \n      <defs>\n       <path d=\"M 40.578125 39.3125  Q 47.65625 37.796875 51.625 33  Q 55.609375 28.21875 55.609375 21.1875  Q 55.609375 10.40625 48.1875 4.484375  Q 40.765625 -1.421875 27.09375 -1.421875  Q 22.515625 -1.421875 17.65625 -0.515625  Q 12.796875 0.390625 7.625 2.203125  L 7.625 11.71875  Q 11.71875 9.328125 16.59375 8.109375  Q 21.484375 6.890625 26.8125 6.890625  Q 36.078125 6.890625 40.9375 10.546875  Q 45.796875 14.203125 45.796875 21.1875  Q 45.796875 27.640625 41.28125 31.265625  Q 36.765625 34.90625 28.71875 34.90625  L 20.21875 34.90625  L 20.21875 43.015625  L 29.109375 43.015625  Q 36.375 43.015625 40.234375 45.921875  Q 44.09375 48.828125 44.09375 54.296875  Q 44.09375 59.90625 40.109375 62.90625  Q 36.140625 65.921875 28.71875 65.921875  Q 24.65625 65.921875 20.015625 65.03125  Q 15.375 64.15625 9.8125 62.3125  L 9.8125 71.09375  Q 15.4375 72.65625 20.34375 73.4375  Q 25.25 74.21875 29.59375 74.21875  Q 40.828125 74.21875 47.359375 69.109375  Q 53.90625 64.015625 53.90625 55.328125  Q 53.90625 49.265625 50.4375 45.09375  Q 46.96875 40.921875 40.578125 39.3125  z \" id=\"DejaVuSans-51\" />\n       <path d=\"M 10.796875 72.90625  L 49.515625 72.90625  L 49.515625 64.59375  L 19.828125 64.59375  L 19.828125 46.734375  Q 21.96875 47.46875 24.109375 47.828125  Q 26.265625 48.1875 28.421875 48.1875  Q 40.625 48.1875 47.75 41.5  Q 54.890625 34.8125 54.890625 23.390625  Q 54.890625 11.625 47.5625 5.09375  Q 40.234375 -1.421875 26.90625 -1.421875  Q 22.3125 -1.421875 17.546875 -0.640625  Q 12.796875 0.140625 7.71875 1.703125  L 7.71875 11.625  Q 12.109375 9.234375 16.796875 8.0625  Q 21.484375 6.890625 26.703125 6.890625  Q 35.15625 6.890625 40.078125 11.328125  Q 45.015625 15.765625 45.015625 23.390625  Q 45.015625 31 40.078125 35.4375  Q 35.15625 39.890625 26.703125 39.890625  Q 22.75 39.890625 18.8125 39.015625  Q 14.890625 38.140625 10.796875 36.28125  z \" id=\"DejaVuSans-53\" />\n      </defs>\n      <g style=\"fill:#444443;\" transform=\"translate(121.97875 72.87475)scale(0.08 -0.08)\">\n       <use xlink:href=\"#DejaVuSans-51\" />\n       <use x=\"63.623047\" xlink:href=\"#DejaVuSans-46\" />\n       <use x=\"95.410156\" xlink:href=\"#DejaVuSans-53\" />\n      </g>\n     </g>\n    </g>\n    <g id=\"text_4\">\n     \n     <defs>\n      <path d=\"M -0.203125 72.90625  L 10.40625 72.90625  L 30.609375 42.921875  L 50.6875 72.90625  L 61.28125 72.90625  L 35.5 34.71875  L 35.5 0  L 25.59375 0  L 25.59375 34.71875  z \" id=\"DejaVuSans-89\" />\n      <path d=\"M 30.609375 48.390625  Q 23.390625 48.390625 19.1875 42.75  Q 14.984375 37.109375 14.984375 27.296875  Q 14.984375 17.484375 19.15625 11.84375  Q 23.34375 6.203125 30.609375 6.203125  Q 37.796875 6.203125 41.984375 11.859375  Q 46.1875 17.53125 46.1875 27.296875  Q 46.1875 37.015625 41.984375 42.703125  Q 37.796875 48.390625 30.609375 48.390625  z M 30.609375 56  Q 42.328125 56 49.015625 48.375  Q 55.71875 40.765625 55.71875 27.296875  Q 55.71875 13.875 49.015625 6.21875  Q 42.328125 -1.421875 30.609375 -1.421875  Q 18.84375 -1.421875 12.171875 6.21875  Q 5.515625 13.875 5.515625 27.296875  Q 5.515625 40.765625 12.171875 48.375  Q 18.84375 56 30.609375 56  z \" id=\"DejaVuSans-111\" />\n      <path d=\"M 8.5 21.578125  L 8.5 54.6875  L 17.484375 54.6875  L 17.484375 21.921875  Q 17.484375 14.15625 20.5 10.265625  Q 23.53125 6.390625 29.59375 6.390625  Q 36.859375 6.390625 41.078125 11.03125  Q 45.3125 15.671875 45.3125 23.6875  L 45.3125 54.6875  L 54.296875 54.6875  L 54.296875 0  L 45.3125 0  L 45.3125 8.40625  Q 42.046875 3.421875 37.71875 1  Q 33.40625 -1.421875 27.6875 -1.421875  Q 18.265625 -1.421875 13.375 4.4375  Q 8.5 10.296875 8.5 21.578125  z M 31.109375 56  z \" id=\"DejaVuSans-117\" />\n      <path d=\"M 41.109375 46.296875  Q 39.59375 47.171875 37.8125 47.578125  Q 36.03125 48 33.890625 48  Q 26.265625 48 22.1875 43.046875  Q 18.109375 38.09375 18.109375 28.8125  L 18.109375 0  L 9.078125 0  L 9.078125 54.6875  L 18.109375 54.6875  L 18.109375 46.1875  Q 20.953125 51.171875 25.484375 53.578125  Q 30.03125 56 36.53125 56  Q 37.453125 56 38.578125 55.875  Q 39.703125 55.765625 41.0625 55.515625  z \" id=\"DejaVuSans-114\" />\n      <path id=\"DejaVuSans-32\" />\n      <path d=\"M 48.78125 52.59375  L 48.78125 44.1875  Q 44.96875 46.296875 41.140625 47.34375  Q 37.3125 48.390625 33.40625 48.390625  Q 24.65625 48.390625 19.8125 42.84375  Q 14.984375 37.3125 14.984375 27.296875  Q 14.984375 17.28125 19.8125 11.734375  Q 24.65625 6.203125 33.40625 6.203125  Q 37.3125 6.203125 41.140625 7.25  Q 44.96875 8.296875 48.78125 10.40625  L 48.78125 2.09375  Q 45.015625 0.34375 40.984375 -0.53125  Q 36.96875 -1.421875 32.421875 -1.421875  Q 20.0625 -1.421875 12.78125 6.34375  Q 5.515625 14.109375 5.515625 27.296875  Q 5.515625 40.671875 12.859375 48.328125  Q 20.21875 56 33.015625 56  Q 37.15625 56 41.109375 55.140625  Q 45.0625 54.296875 48.78125 52.59375  z \" id=\"DejaVuSans-99\" />\n      <path d=\"M 56.203125 29.59375  L 56.203125 25.203125  L 14.890625 25.203125  Q 15.484375 15.921875 20.484375 11.0625  Q 25.484375 6.203125 34.421875 6.203125  Q 39.59375 6.203125 44.453125 7.46875  Q 49.3125 8.734375 54.109375 11.28125  L 54.109375 2.78125  Q 49.265625 0.734375 44.1875 -0.34375  Q 39.109375 -1.421875 33.890625 -1.421875  Q 20.796875 -1.421875 13.15625 6.1875  Q 5.515625 13.8125 5.515625 26.8125  Q 5.515625 40.234375 12.765625 48.109375  Q 20.015625 56 32.328125 56  Q 43.359375 56 49.78125 48.890625  Q 56.203125 41.796875 56.203125 29.59375  z M 47.21875 32.234375  Q 47.125 39.59375 43.09375 43.984375  Q 39.0625 48.390625 32.421875 48.390625  Q 24.90625 48.390625 20.390625 44.140625  Q 15.875 39.890625 15.1875 32.171875  z \" id=\"DejaVuSans-101\" />\n      <path d=\"M 54.890625 33.015625  L 54.890625 0  L 45.90625 0  L 45.90625 32.71875  Q 45.90625 40.484375 42.875 44.328125  Q 39.84375 48.1875 33.796875 48.1875  Q 26.515625 48.1875 22.3125 43.546875  Q 18.109375 38.921875 18.109375 30.90625  L 18.109375 0  L 9.078125 0  L 9.078125 54.6875  L 18.109375 54.6875  L 18.109375 46.1875  Q 21.34375 51.125 25.703125 53.5625  Q 30.078125 56 35.796875 56  Q 45.21875 56 50.046875 50.171875  Q 54.890625 44.34375 54.890625 33.015625  z \" id=\"DejaVuSans-110\" />\n      <path d=\"M 18.3125 70.21875  L 18.3125 54.6875  L 36.8125 54.6875  L 36.8125 47.703125  L 18.3125 47.703125  L 18.3125 18.015625  Q 18.3125 11.328125 20.140625 9.421875  Q 21.96875 7.515625 27.59375 7.515625  L 36.8125 7.515625  L 36.8125 0  L 27.59375 0  Q 17.1875 0 13.234375 3.875  Q 9.28125 7.765625 9.28125 18.015625  L 9.28125 47.703125  L 2.6875 47.703125  L 2.6875 54.6875  L 9.28125 54.6875  L 9.28125 70.21875  z \" id=\"DejaVuSans-116\" />\n      <path d=\"M 32.171875 -5.078125  Q 28.375 -14.84375 24.75 -17.8125  Q 21.140625 -20.796875 15.09375 -20.796875  L 7.90625 -20.796875  L 7.90625 -13.28125  L 13.1875 -13.28125  Q 16.890625 -13.28125 18.9375 -11.515625  Q 21 -9.765625 23.484375 -3.21875  L 25.09375 0.875  L 2.984375 54.6875  L 12.5 54.6875  L 29.59375 11.921875  L 46.6875 54.6875  L 56.203125 54.6875  z \" id=\"DejaVuSans-121\" />\n      <path d=\"M 34.28125 27.484375  Q 23.390625 27.484375 19.1875 25  Q 14.984375 22.515625 14.984375 16.5  Q 14.984375 11.71875 18.140625 8.90625  Q 21.296875 6.109375 26.703125 6.109375  Q 34.1875 6.109375 38.703125 11.40625  Q 43.21875 16.703125 43.21875 25.484375  L 43.21875 27.484375  z M 52.203125 31.203125  L 52.203125 0  L 43.21875 0  L 43.21875 8.296875  Q 40.140625 3.328125 35.546875 0.953125  Q 30.953125 -1.421875 24.3125 -1.421875  Q 15.921875 -1.421875 10.953125 3.296875  Q 6 8.015625 6 15.921875  Q 6 25.140625 12.171875 29.828125  Q 18.359375 34.515625 30.609375 34.515625  L 43.21875 34.515625  L 43.21875 35.40625  Q 43.21875 41.609375 39.140625 45  Q 35.0625 48.390625 27.6875 48.390625  Q 23 48.390625 18.546875 47.265625  Q 14.109375 46.140625 10.015625 43.890625  L 10.015625 52.203125  Q 14.9375 54.109375 19.578125 55.046875  Q 24.21875 56 28.609375 56  Q 40.484375 56 46.34375 49.84375  Q 52.203125 43.703125 52.203125 31.203125  z \" id=\"DejaVuSans-97\" />\n      <path d=\"M 37.109375 75.984375  L 37.109375 68.5  L 28.515625 68.5  Q 23.6875 68.5 21.796875 66.546875  Q 19.921875 64.59375 19.921875 59.515625  L 19.921875 54.6875  L 34.71875 54.6875  L 34.71875 47.703125  L 19.921875 47.703125  L 19.921875 0  L 10.890625 0  L 10.890625 47.703125  L 2.296875 47.703125  L 2.296875 54.6875  L 10.890625 54.6875  L 10.890625 58.5  Q 10.890625 67.625 15.140625 71.796875  Q 19.390625 75.984375 28.609375 75.984375  z \" id=\"DejaVuSans-102\" />\n      <path d=\"M 53.515625 70.515625  L 53.515625 60.890625  Q 47.90625 63.578125 42.921875 64.890625  Q 37.9375 66.21875 33.296875 66.21875  Q 25.25 66.21875 20.875 63.09375  Q 16.5 59.96875 16.5 54.203125  Q 16.5 49.359375 19.40625 46.890625  Q 22.3125 44.4375 30.421875 42.921875  L 36.375 41.703125  Q 47.40625 39.59375 52.65625 34.296875  Q 57.90625 29 57.90625 20.125  Q 57.90625 9.515625 50.796875 4.046875  Q 43.703125 -1.421875 29.984375 -1.421875  Q 24.8125 -1.421875 18.96875 -0.25  Q 13.140625 0.921875 6.890625 3.21875  L 6.890625 13.375  Q 12.890625 10.015625 18.65625 8.296875  Q 24.421875 6.59375 29.984375 6.59375  Q 38.421875 6.59375 43.015625 9.90625  Q 47.609375 13.234375 47.609375 19.390625  Q 47.609375 24.75 44.3125 27.78125  Q 41.015625 30.8125 33.5 32.328125  L 27.484375 33.5  Q 16.453125 35.6875 11.515625 40.375  Q 6.59375 45.0625 6.59375 53.421875  Q 6.59375 63.09375 13.40625 68.65625  Q 20.21875 74.21875 32.171875 74.21875  Q 37.3125 74.21875 42.625 73.28125  Q 47.953125 72.359375 53.515625 70.515625  z \" id=\"DejaVuSans-83\" />\n      <path d=\"M 45.40625 46.390625  L 45.40625 75.984375  L 54.390625 75.984375  L 54.390625 0  L 45.40625 0  L 45.40625 8.203125  Q 42.578125 3.328125 38.25 0.953125  Q 33.9375 -1.421875 27.875 -1.421875  Q 17.96875 -1.421875 11.734375 6.484375  Q 5.515625 14.40625 5.515625 27.296875  Q 5.515625 40.1875 11.734375 48.09375  Q 17.96875 56 27.875 56  Q 33.9375 56 38.25 53.625  Q 42.578125 51.265625 45.40625 46.390625  z M 14.796875 27.296875  Q 14.796875 17.390625 18.875 11.75  Q 22.953125 6.109375 30.078125 6.109375  Q 37.203125 6.109375 41.296875 11.75  Q 45.40625 17.390625 45.40625 27.296875  Q 45.40625 37.203125 41.296875 42.84375  Q 37.203125 48.484375 30.078125 48.484375  Q 22.953125 48.484375 18.875 42.84375  Q 14.796875 37.203125 14.796875 27.296875  z \" id=\"DejaVuSans-100\" />\n     </defs>\n     <g style=\"fill:#444443;\" transform=\"translate(16.362656 86.136937)scale(0.1 -0.1)\">\n      <use xlink:href=\"#DejaVuSans-89\" />\n      <use x=\"47.833984\" xlink:href=\"#DejaVuSans-111\" />\n      <use x=\"109.015625\" xlink:href=\"#DejaVuSans-117\" />\n      <use x=\"172.394531\" xlink:href=\"#DejaVuSans-114\" />\n      <use x=\"213.507812\" xlink:href=\"#DejaVuSans-32\" />\n      <use x=\"245.294922\" xlink:href=\"#DejaVuSans-99\" />\n      <use x=\"300.275391\" xlink:href=\"#DejaVuSans-117\" />\n      <use x=\"363.654297\" xlink:href=\"#DejaVuSans-114\" />\n      <use x=\"403.017578\" xlink:href=\"#DejaVuSans-114\" />\n      <use x=\"441.880859\" xlink:href=\"#DejaVuSans-101\" />\n      <use x=\"503.404297\" xlink:href=\"#DejaVuSans-110\" />\n      <use x=\"566.783203\" xlink:href=\"#DejaVuSans-116\" />\n      <use x=\"605.992188\" xlink:href=\"#DejaVuSans-32\" />\n      <use x=\"637.779297\" xlink:href=\"#DejaVuSans-121\" />\n      <use x=\"696.958984\" xlink:href=\"#DejaVuSans-101\" />\n      <use x=\"758.482422\" xlink:href=\"#DejaVuSans-97\" />\n      <use x=\"819.761719\" xlink:href=\"#DejaVuSans-114\" />\n      <use x=\"860.875\" xlink:href=\"#DejaVuSans-32\" />\n      <use x=\"892.662109\" xlink:href=\"#DejaVuSans-111\" />\n      <use x=\"953.84375\" xlink:href=\"#DejaVuSans-102\" />\n      <use x=\"989.048828\" xlink:href=\"#DejaVuSans-32\" />\n      <use x=\"1020.835938\" xlink:href=\"#DejaVuSans-83\" />\n      <use x=\"1084.3125\" xlink:href=\"#DejaVuSans-116\" />\n      <use x=\"1123.521484\" xlink:href=\"#DejaVuSans-117\" />\n      <use x=\"1186.900391\" xlink:href=\"#DejaVuSans-100\" />\n      <use x=\"1250.376953\" xlink:href=\"#DejaVuSans-121\" />\n     </g>\n    </g>\n   </g>\n   <g id=\"matplotlib.axis_2\">\n    <g id=\"ytick_1\">\n     <g id=\"line2d_4\">\n      <defs>\n       <path d=\"M 0 0  L -3.5 0  \" id=\"m4dd9b3a993\" style=\"stroke:#444443;stroke-width:0.3;\" />\n      </defs>\n      <g>\n       <use style=\"fill:#444443;stroke:#444443;stroke-width:0.3;\" x=\"12.09\" y=\"59.796\" xlink:href=\"#m4dd9b3a993\" />\n      </g>\n     </g>\n     <g id=\"text_5\">\n      \n      <g style=\"fill:#444443;\" transform=\"translate(0 62.835375)scale(0.08 -0.08)\">\n       <use xlink:href=\"#DejaVuSans-48\" />\n      </g>\n     </g>\n    </g>\n    <g id=\"ytick_2\">\n     <g id=\"line2d_5\">\n      <g>\n       <use style=\"fill:#444443;stroke:#444443;stroke-width:0.3;\" x=\"12.09\" y=\"21.093087\" xlink:href=\"#m4dd9b3a993\" />\n      </g>\n     </g>\n     <g id=\"text_6\">\n      \n      <defs>\n       <path d=\"M 19.1875 8.296875  L 53.609375 8.296875  L 53.609375 0  L 7.328125 0  L 7.328125 8.296875  Q 12.9375 14.109375 22.625 23.890625  Q 32.328125 33.6875 34.8125 36.53125  Q 39.546875 41.84375 41.421875 45.53125  Q 43.3125 49.21875 43.3125 52.78125  Q 43.3125 58.59375 39.234375 62.25  Q 35.15625 65.921875 28.609375 65.921875  Q 23.96875 65.921875 18.8125 64.3125  Q 13.671875 62.703125 7.8125 59.421875  L 7.8125 69.390625  Q 13.765625 71.78125 18.9375 73  Q 24.125 74.21875 28.421875 74.21875  Q 39.75 74.21875 46.484375 68.546875  Q 53.21875 62.890625 53.21875 53.421875  Q 53.21875 48.921875 51.53125 44.890625  Q 49.859375 40.875 45.40625 35.40625  Q 44.1875 33.984375 37.640625 27.21875  Q 31.109375 20.453125 19.1875 8.296875  z \" id=\"DejaVuSans-50\" />\n      </defs>\n      <g style=\"fill:#444443;\" transform=\"translate(0 24.132462)scale(0.08 -0.08)\">\n       <use xlink:href=\"#DejaVuSans-50\" />\n      </g>\n     </g>\n    </g>\n   </g>\n   <g id=\"line2d_6\">\n    <path clip-path=\"url(#p5724bd46c8)\" d=\"M 12.09 42.702214  L 128.34 42.702214  \" style=\"fill:none;stroke:#444443;stroke-dasharray:3.7,1.6;stroke-dashoffset:0;\" />\n   </g>\n   <g id=\"line2d_7\">\n    <path clip-path=\"url(#p5724bd46c8)\" d=\"M 128.34 59.796  L 128.34 -0  \" style=\"fill:none;stroke:#444443;stroke-dasharray:3.7,1.6;stroke-dashoffset:0;\" />\n   </g>\n   <g id=\"line2d_8\">\n    <path clip-path=\"url(#p5724bd46c8)\" d=\"M 128.34 59.796  L 151.59 59.796  \" style=\"fill:none;stroke:#444443;stroke-dasharray:3.7,1.6;stroke-dashoffset:0;\" />\n   </g>\n   <g id=\"patch_4\">\n    <path d=\"M 12.09 59.796  L 12.09 -0  \" style=\"fill:none;stroke:#000000;stroke-linecap:square;stroke-linejoin:miter;stroke-width:0.3;\" />\n   </g>\n   <g id=\"patch_5\">\n    <path d=\"M 12.09 59.796  L 151.59 59.796  \" style=\"fill:none;stroke:#000000;stroke-linecap:square;stroke-linejoin:miter;stroke-width:0.3;\" />\n   </g>\n  </g>\n </g>\n <defs>\n  <clipPath id=\"p5724bd46c8\">\n   <rect height=\"59.796\" width=\"139.5\" x=\"12.09\" y=\"-0\" />\n  </clipPath>\n </defs>\n</svg></g>\n\n<g class=\"edge\" id=\"edge4\">\n<title>node1-&gt;node3</title>\n<path d=\"M288.1605,-123.0357C292.2412,-123.9425 296.3603,-124.8579 300.4644,-125.7699\" fill=\"none\" stroke=\"#444443\" stroke-width=\".3\" />\n<polygon fill=\"#444443\" points=\"300.3531,-127.1792 304.5616,-126.6803 300.9605,-124.4459 300.3531,-127.1792\" stroke=\"#444443\" stroke-width=\".3\" />\n</g>\n\n<g class=\"edge\" id=\"edge5\">\n<title>node1-&gt;leaf4</title>\n<path d=\"M288.1605,-87.9465C293.4597,-86.1801 298.8238,-84.3921 304.1356,-82.6215\" fill=\"none\" stroke=\"#444443\" stroke-width=\".3\" />\n<polygon fill=\"#444443\" points=\"304.8334,-83.8647 308.1854,-81.2715 303.9479,-81.2083 304.8334,-83.8647\" stroke=\"#444443\" stroke-width=\".3\" />\n</g>\n\n<g class=\"node\" id=\"node7\">\n<title>leaf2</title>\n<polygon fill=\"none\" points=\"285.5,-58 164.5,-58 164.5,0 285.5,0 285.5,-58\" stroke=\"#444443\" stroke-width=\"0\" />\n<svg height=\"50px\" preserveAspectRatio=\"xMinYMin meet\" version=\"1.1\" viewBox=\"0 0 150.15 66.113937\" width=\"113px\" x=\"169\" y=\"-54\">\n <defs>\n  <style type=\"text/css\">\n*{stroke-linecap:butt;stroke-linejoin:round;}\n  </style>\n </defs>\n <g id=\"figure_1\">\n  <g id=\"patch_1\">\n   <path d=\"M -0 66.113937  L 150.15 66.113937  L 150.15 0  L -0 0  z \" style=\"fill:#ffffff;\" />\n  </g>\n  <g id=\"axes_1\">\n   <g id=\"patch_2\">\n    <path d=\"M 53.65 43.488  L 95.5 43.488  L 95.5 -0  L 53.65 -0  z \" style=\"fill:#ffffff;\" />\n   </g>\n   <g id=\"PathCollection_1\">\n    <defs>\n     <path d=\"M 0 1.118034  C 0.296506 1.118034 0.580908 1.000231 0.790569 0.790569  C 1.000231 0.580908 1.118034 0.296506 1.118034 0  C 1.118034 -0.296506 1.000231 -0.580908 0.790569 -0.790569  C 0.580908 -1.000231 0.296506 -1.118034 0 -1.118034  C -0.296506 -1.118034 -0.580908 -1.000231 -0.790569 -0.790569  C -1.000231 -0.580908 -1.118034 -0.296506 -1.118034 0  C -1.118034 0.296506 -1.000231 0.580908 -0.790569 0.790569  C -0.580908 1.000231 -0.296506 1.118034 0 1.118034  z \" id=\"m688f8c58a9\" style=\"stroke:#4575b4;stroke-opacity:0.7;stroke-width:0.3;\" />\n    </defs>\n    <g clip-path=\"url(#p66f5bb3e6d)\">\n     <use style=\"fill:#4575b4;fill-opacity:0.7;stroke:#4575b4;stroke-opacity:0.7;stroke-width:0.3;\" x=\"76.701357\" y=\"15.340427\" xlink:href=\"#m688f8c58a9\" />\n     <use style=\"fill:#4575b4;fill-opacity:0.7;stroke:#4575b4;stroke-opacity:0.7;stroke-width:0.3;\" x=\"70.958487\" y=\"15.340427\" xlink:href=\"#m688f8c58a9\" />\n     <use style=\"fill:#4575b4;fill-opacity:0.7;stroke:#4575b4;stroke-opacity:0.7;stroke-width:0.3;\" x=\"70.203525\" y=\"1.266641\" xlink:href=\"#m688f8c58a9\" />\n     <use style=\"fill:#4575b4;fill-opacity:0.7;stroke:#4575b4;stroke-opacity:0.7;stroke-width:0.3;\" x=\"72.061449\" y=\"15.340427\" xlink:href=\"#m688f8c58a9\" />\n     <use style=\"fill:#4575b4;fill-opacity:0.7;stroke:#4575b4;stroke-opacity:0.7;stroke-width:0.3;\" x=\"71.141626\" y=\"1.266641\" xlink:href=\"#m688f8c58a9\" />\n     <use style=\"fill:#4575b4;fill-opacity:0.7;stroke:#4575b4;stroke-opacity:0.7;stroke-width:0.3;\" x=\"70.614183\" y=\"1.266641\" xlink:href=\"#m688f8c58a9\" />\n     <use style=\"fill:#4575b4;fill-opacity:0.7;stroke:#4575b4;stroke-opacity:0.7;stroke-width:0.3;\" x=\"76.080843\" y=\"29.414214\" xlink:href=\"#m688f8c58a9\" />\n     <use style=\"fill:#4575b4;fill-opacity:0.7;stroke:#4575b4;stroke-opacity:0.7;stroke-width:0.3;\" x=\"80.530839\" y=\"15.340427\" xlink:href=\"#m688f8c58a9\" />\n     <use style=\"fill:#4575b4;fill-opacity:0.7;stroke:#4575b4;stroke-opacity:0.7;stroke-width:0.3;\" x=\"72.342074\" y=\"1.266641\" xlink:href=\"#m688f8c58a9\" />\n     <use style=\"fill:#4575b4;fill-opacity:0.7;stroke:#4575b4;stroke-opacity:0.7;stroke-width:0.3;\" x=\"68.910792\" y=\"29.414214\" xlink:href=\"#m688f8c58a9\" />\n     <use style=\"fill:#4575b4;fill-opacity:0.7;stroke:#4575b4;stroke-opacity:0.7;stroke-width:0.3;\" x=\"76.773957\" y=\"1.266641\" xlink:href=\"#m688f8c58a9\" />\n     <use style=\"fill:#4575b4;fill-opacity:0.7;stroke:#4575b4;stroke-opacity:0.7;stroke-width:0.3;\" x=\"69.767604\" y=\"15.340427\" xlink:href=\"#m688f8c58a9\" />\n     <use style=\"fill:#4575b4;fill-opacity:0.7;stroke:#4575b4;stroke-opacity:0.7;stroke-width:0.3;\" x=\"70.613427\" y=\"15.340427\" xlink:href=\"#m688f8c58a9\" />\n     <use style=\"fill:#4575b4;fill-opacity:0.7;stroke:#4575b4;stroke-opacity:0.7;stroke-width:0.3;\" x=\"76.232245\" y=\"29.414214\" xlink:href=\"#m688f8c58a9\" />\n    </g>\n   </g>\n   <g id=\"matplotlib.axis_1\" />\n   <g id=\"matplotlib.axis_2\">\n    <g id=\"ytick_1\">\n     <g id=\"line2d_1\">\n      <defs>\n       <path d=\"M 0 0  L -3.5 0  \" id=\"mbae87c9fb5\" style=\"stroke:#444443;stroke-width:0.3;\" />\n      </defs>\n      <g>\n       <use style=\"fill:#444443;stroke:#444443;stroke-width:0.3;\" x=\"53.65\" y=\"43.488\" xlink:href=\"#mbae87c9fb5\" />\n      </g>\n     </g>\n     <g id=\"text_1\">\n      \n      <defs>\n       <path d=\"M 31.78125 66.40625  Q 24.171875 66.40625 20.328125 58.90625  Q 16.5 51.421875 16.5 36.375  Q 16.5 21.390625 20.328125 13.890625  Q 24.171875 6.390625 31.78125 6.390625  Q 39.453125 6.390625 43.28125 13.890625  Q 47.125 21.390625 47.125 36.375  Q 47.125 51.421875 43.28125 58.90625  Q 39.453125 66.40625 31.78125 66.40625  z M 31.78125 74.21875  Q 44.046875 74.21875 50.515625 64.515625  Q 56.984375 54.828125 56.984375 36.375  Q 56.984375 17.96875 50.515625 8.265625  Q 44.046875 -1.421875 31.78125 -1.421875  Q 19.53125 -1.421875 13.0625 8.265625  Q 6.59375 17.96875 6.59375 36.375  Q 6.59375 54.828125 13.0625 64.515625  Q 19.53125 74.21875 31.78125 74.21875  z \" id=\"DejaVuSans-48\" />\n      </defs>\n      <g style=\"fill:#444443;\" transform=\"translate(41.56 46.527375)scale(0.08 -0.08)\">\n       <use xlink:href=\"#DejaVuSans-48\" />\n      </g>\n     </g>\n    </g>\n    <g id=\"ytick_2\">\n     <g id=\"line2d_2\">\n      <g>\n       <use style=\"fill:#444443;stroke:#444443;stroke-width:0.3;\" x=\"53.65\" y=\"15.340427\" xlink:href=\"#mbae87c9fb5\" />\n      </g>\n     </g>\n     <g id=\"text_2\">\n      \n      <defs>\n       <path d=\"M 19.1875 8.296875  L 53.609375 8.296875  L 53.609375 0  L 7.328125 0  L 7.328125 8.296875  Q 12.9375 14.109375 22.625 23.890625  Q 32.328125 33.6875 34.8125 36.53125  Q 39.546875 41.84375 41.421875 45.53125  Q 43.3125 49.21875 43.3125 52.78125  Q 43.3125 58.59375 39.234375 62.25  Q 35.15625 65.921875 28.609375 65.921875  Q 23.96875 65.921875 18.8125 64.3125  Q 13.671875 62.703125 7.8125 59.421875  L 7.8125 69.390625  Q 13.765625 71.78125 18.9375 73  Q 24.125 74.21875 28.421875 74.21875  Q 39.75 74.21875 46.484375 68.546875  Q 53.21875 62.890625 53.21875 53.421875  Q 53.21875 48.921875 51.53125 44.890625  Q 49.859375 40.875 45.40625 35.40625  Q 44.1875 33.984375 37.640625 27.21875  Q 31.109375 20.453125 19.1875 8.296875  z \" id=\"DejaVuSans-50\" />\n      </defs>\n      <g style=\"fill:#444443;\" transform=\"translate(41.56 18.379802)scale(0.08 -0.08)\">\n       <use xlink:href=\"#DejaVuSans-50\" />\n      </g>\n     </g>\n    </g>\n   </g>\n   <g id=\"line2d_3\">\n    <path clip-path=\"url(#p66f5bb3e6d)\" d=\"M 53.65 13.329886  L 151.15 13.329886  \" style=\"fill:none;stroke:#444443;stroke-dasharray:3.7,1.6;stroke-dashoffset:0;\" />\n   </g>\n   <g id=\"patch_3\">\n    <path d=\"M 53.65 43.488  L 53.65 -0  \" style=\"fill:none;stroke:#000000;stroke-linecap:square;stroke-linejoin:miter;stroke-width:0.3;\" />\n   </g>\n   <g id=\"text_3\">\n    \n    <defs>\n     <path d=\"M 9.8125 72.90625  L 24.515625 72.90625  L 43.109375 23.296875  L 61.8125 72.90625  L 76.515625 72.90625  L 76.515625 0  L 66.890625 0  L 66.890625 64.015625  L 48.09375 14.015625  L 38.1875 14.015625  L 19.390625 64.015625  L 19.390625 0  L 9.8125 0  z \" id=\"DejaVuSans-77\" />\n     <path d=\"M 9.8125 72.90625  L 55.90625 72.90625  L 55.90625 64.59375  L 19.671875 64.59375  L 19.671875 43.015625  L 54.390625 43.015625  L 54.390625 34.71875  L 19.671875 34.71875  L 19.671875 8.296875  L 56.78125 8.296875  L 56.78125 0  L 9.8125 0  z \" id=\"DejaVuSans-69\" />\n     <path d=\"M 9.8125 72.90625  L 23.09375 72.90625  L 55.421875 11.921875  L 55.421875 72.90625  L 64.984375 72.90625  L 64.984375 0  L 51.703125 0  L 19.390625 60.984375  L 19.390625 0  L 9.8125 0  z \" id=\"DejaVuSans-78\" />\n     <path d=\"M -0.296875 72.90625  L 61.375 72.90625  L 61.375 64.59375  L 35.5 64.59375  L 35.5 0  L 25.59375 0  L 25.59375 64.59375  L -0.296875 64.59375  z \" id=\"DejaVuSans-84\" />\n     <path d=\"M 34.1875 63.1875  L 20.796875 26.90625  L 47.609375 26.90625  z M 28.609375 72.90625  L 39.796875 72.90625  L 67.578125 0  L 57.328125 0  L 50.6875 18.703125  L 17.828125 18.703125  L 11.1875 0  L 0.78125 0  z \" id=\"DejaVuSans-65\" />\n     <path d=\"M 9.8125 72.90625  L 19.671875 72.90625  L 19.671875 8.296875  L 55.171875 8.296875  L 55.171875 0  L 9.8125 0  z \" id=\"DejaVuSans-76\" />\n     <path id=\"DejaVuSans-32\" />\n     <path d=\"M 9.8125 72.90625  L 19.671875 72.90625  L 19.671875 43.015625  L 55.515625 43.015625  L 55.515625 72.90625  L 65.375 72.90625  L 65.375 0  L 55.515625 0  L 55.515625 34.71875  L 19.671875 34.71875  L 19.671875 0  L 9.8125 0  z \" id=\"DejaVuSans-72\" />\n     <path d=\"M 53.515625 70.515625  L 53.515625 60.890625  Q 47.90625 63.578125 42.921875 64.890625  Q 37.9375 66.21875 33.296875 66.21875  Q 25.25 66.21875 20.875 63.09375  Q 16.5 59.96875 16.5 54.203125  Q 16.5 49.359375 19.40625 46.890625  Q 22.3125 44.4375 30.421875 42.921875  L 36.375 41.703125  Q 47.40625 39.59375 52.65625 34.296875  Q 57.90625 29 57.90625 20.125  Q 57.90625 9.515625 50.796875 4.046875  Q 43.703125 -1.421875 29.984375 -1.421875  Q 24.8125 -1.421875 18.96875 -0.25  Q 13.140625 0.921875 6.890625 3.21875  L 6.890625 13.375  Q 12.890625 10.015625 18.65625 8.296875  Q 24.421875 6.59375 29.984375 6.59375  Q 38.421875 6.59375 43.015625 9.90625  Q 47.609375 13.234375 47.609375 19.390625  Q 47.609375 24.75 44.3125 27.78125  Q 41.015625 30.8125 33.5 32.328125  L 27.484375 33.5  Q 16.453125 35.6875 11.515625 40.375  Q 6.59375 45.0625 6.59375 53.421875  Q 6.59375 63.09375 13.40625 68.65625  Q 20.21875 74.21875 32.171875 74.21875  Q 37.3125 74.21875 42.625 73.28125  Q 47.953125 72.359375 53.515625 70.515625  z \" id=\"DejaVuSans-83\" />\n     <path d=\"M 64.40625 67.28125  L 64.40625 56.890625  Q 59.421875 61.53125 53.78125 63.8125  Q 48.140625 66.109375 41.796875 66.109375  Q 29.296875 66.109375 22.65625 58.46875  Q 16.015625 50.828125 16.015625 36.375  Q 16.015625 21.96875 22.65625 14.328125  Q 29.296875 6.6875 41.796875 6.6875  Q 48.140625 6.6875 53.78125 8.984375  Q 59.421875 11.28125 64.40625 15.921875  L 64.40625 5.609375  Q 59.234375 2.09375 53.4375 0.328125  Q 47.65625 -1.421875 41.21875 -1.421875  Q 24.65625 -1.421875 15.125 8.703125  Q 5.609375 18.84375 5.609375 36.375  Q 5.609375 53.953125 15.125 64.078125  Q 24.65625 74.21875 41.21875 74.21875  Q 47.75 74.21875 53.53125 72.484375  Q 59.328125 70.75 64.40625 67.28125  z \" id=\"DejaVuSans-67\" />\n     <path d=\"M 39.40625 66.21875  Q 28.65625 66.21875 22.328125 58.203125  Q 16.015625 50.203125 16.015625 36.375  Q 16.015625 22.609375 22.328125 14.59375  Q 28.65625 6.59375 39.40625 6.59375  Q 50.140625 6.59375 56.421875 14.59375  Q 62.703125 22.609375 62.703125 36.375  Q 62.703125 50.203125 56.421875 58.203125  Q 50.140625 66.21875 39.40625 66.21875  z M 39.40625 74.21875  Q 54.734375 74.21875 63.90625 63.9375  Q 73.09375 53.65625 73.09375 36.375  Q 73.09375 19.140625 63.90625 8.859375  Q 54.734375 -1.421875 39.40625 -1.421875  Q 24.03125 -1.421875 14.8125 8.828125  Q 5.609375 19.09375 5.609375 36.375  Q 5.609375 53.65625 14.8125 63.9375  Q 24.03125 74.21875 39.40625 74.21875  z \" id=\"DejaVuSans-79\" />\n     <path d=\"M 44.390625 34.1875  Q 47.5625 33.109375 50.5625 29.59375  Q 53.5625 26.078125 56.59375 19.921875  L 66.609375 0  L 56 0  L 46.6875 18.703125  Q 43.0625 26.03125 39.671875 28.421875  Q 36.28125 30.8125 30.421875 30.8125  L 19.671875 30.8125  L 19.671875 0  L 9.8125 0  L 9.8125 72.90625  L 32.078125 72.90625  Q 44.578125 72.90625 50.734375 67.671875  Q 56.890625 62.453125 56.890625 51.90625  Q 56.890625 45.015625 53.6875 40.46875  Q 50.484375 35.9375 44.390625 34.1875  z M 19.671875 64.796875  L 19.671875 38.921875  L 32.078125 38.921875  Q 39.203125 38.921875 42.84375 42.21875  Q 46.484375 45.515625 46.484375 51.90625  Q 46.484375 58.296875 42.84375 61.546875  Q 39.203125 64.796875 32.078125 64.796875  z \" id=\"DejaVuSans-82\" />\n     <path d=\"M 10.59375 45.40625  L 73.1875 45.40625  L 73.1875 37.203125  L 10.59375 37.203125  z M 10.59375 25.484375  L 73.1875 25.484375  L 73.1875 17.1875  L 10.59375 17.1875  z \" id=\"DejaVuSans-61\" />\n     <path d=\"M 10.6875 12.40625  L 21 12.40625  L 21 0  L 10.6875 0  z \" id=\"DejaVuSans-46\" />\n     <path d=\"M 12.40625 8.296875  L 28.515625 8.296875  L 28.515625 63.921875  L 10.984375 60.40625  L 10.984375 69.390625  L 28.421875 72.90625  L 38.28125 72.90625  L 38.28125 8.296875  L 54.390625 8.296875  L 54.390625 0  L 12.40625 0  z \" id=\"DejaVuSans-49\" />\n     <path d=\"M 37.796875 64.3125  L 12.890625 25.390625  L 37.796875 25.390625  z M 35.203125 72.90625  L 47.609375 72.90625  L 47.609375 25.390625  L 58.015625 25.390625  L 58.015625 17.1875  L 47.609375 17.1875  L 47.609375 0  L 37.796875 0  L 37.796875 17.1875  L 4.890625 17.1875  L 4.890625 26.703125  z \" id=\"DejaVuSans-52\" />\n    </defs>\n    <g style=\"fill:#444443;\" transform=\"translate(0 52.836437)scale(0.1 -0.1)\">\n     <use xlink:href=\"#DejaVuSans-77\" />\n     <use x=\"86.279297\" xlink:href=\"#DejaVuSans-69\" />\n     <use x=\"149.462891\" xlink:href=\"#DejaVuSans-78\" />\n     <use x=\"224.267578\" xlink:href=\"#DejaVuSans-84\" />\n     <use x=\"277.601562\" xlink:href=\"#DejaVuSans-65\" />\n     <use x=\"346.009766\" xlink:href=\"#DejaVuSans-76\" />\n     <use x=\"401.722656\" xlink:href=\"#DejaVuSans-32\" />\n     <use x=\"433.509766\" xlink:href=\"#DejaVuSans-72\" />\n     <use x=\"508.705078\" xlink:href=\"#DejaVuSans-69\" />\n     <use x=\"571.888672\" xlink:href=\"#DejaVuSans-65\" />\n     <use x=\"640.296875\" xlink:href=\"#DejaVuSans-76\" />\n     <use x=\"682.259766\" xlink:href=\"#DejaVuSans-84\" />\n     <use x=\"743.34375\" xlink:href=\"#DejaVuSans-72\" />\n     <use x=\"818.539062\" xlink:href=\"#DejaVuSans-32\" />\n     <use x=\"850.326172\" xlink:href=\"#DejaVuSans-83\" />\n     <use x=\"913.802734\" xlink:href=\"#DejaVuSans-67\" />\n     <use x=\"983.626953\" xlink:href=\"#DejaVuSans-79\" />\n     <use x=\"1062.337891\" xlink:href=\"#DejaVuSans-82\" />\n     <use x=\"1131.820312\" xlink:href=\"#DejaVuSans-69\" />\n     <use x=\"1195.003906\" xlink:href=\"#DejaVuSans-61\" />\n     <use x=\"1278.792969\" xlink:href=\"#DejaVuSans-50\" />\n     <use x=\"1342.416016\" xlink:href=\"#DejaVuSans-46\" />\n     <use x=\"1374.203125\" xlink:href=\"#DejaVuSans-49\" />\n     <use x=\"1437.826172\" xlink:href=\"#DejaVuSans-52\" />\n    </g>\n    \n    <defs>\n     <path d=\"M 54.890625 33.015625  L 54.890625 0  L 45.90625 0  L 45.90625 32.71875  Q 45.90625 40.484375 42.875 44.328125  Q 39.84375 48.1875 33.796875 48.1875  Q 26.515625 48.1875 22.3125 43.546875  Q 18.109375 38.921875 18.109375 30.90625  L 18.109375 0  L 9.078125 0  L 9.078125 54.6875  L 18.109375 54.6875  L 18.109375 46.1875  Q 21.34375 51.125 25.703125 53.5625  Q 30.078125 56 35.796875 56  Q 45.21875 56 50.046875 50.171875  Q 54.890625 44.34375 54.890625 33.015625  z \" id=\"DejaVuSans-110\" />\n    </defs>\n    <g style=\"fill:#444443;\" transform=\"translate(61.353906 64.03425)scale(0.1 -0.1)\">\n     <use xlink:href=\"#DejaVuSans-110\" />\n     <use x=\"63.378906\" xlink:href=\"#DejaVuSans-61\" />\n     <use x=\"147.167969\" xlink:href=\"#DejaVuSans-49\" />\n     <use x=\"210.791016\" xlink:href=\"#DejaVuSans-52\" />\n    </g>\n   </g>\n  </g>\n </g>\n <defs>\n  <clipPath id=\"p66f5bb3e6d\">\n   <rect height=\"43.488\" width=\"41.85\" x=\"53.65\" y=\"-0\" />\n  </clipPath>\n </defs>\n</svg></g>\n\n\n<g class=\"node\" id=\"node3\">\n<title>node0</title>\n<svg height=\"90px\" preserveAspectRatio=\"xMinYMin meet\" version=\"1.1\" viewBox=\"0 0 171.629375 119.504687\" width=\"129px\" x=\"4.5\" y=\"-113\">\n <defs>\n  <style type=\"text/css\">\n*{stroke-linecap:butt;stroke-linejoin:round;}\n  </style>\n </defs>\n <g id=\"figure_1\">\n  <g id=\"patch_1\">\n   <path d=\"M 0 119.504687  L 171.629375 119.504687  L 171.629375 -0  L 0 -0  z \" style=\"fill:#ffffff;\" />\n  </g>\n  <g id=\"axes_1\">\n   <g id=\"patch_2\">\n    <path d=\"M 25.768125 89.650344  L 165.268125 89.650344  L 165.268125 29.854344  L 25.768125 29.854344  z \" style=\"fill:#ffffff;\" />\n   </g>\n   <g id=\"PathCollection_1\">\n    <defs>\n     <path d=\"M 0 1.118034  C 0.296506 1.118034 0.580908 1.000231 0.790569 0.790569  C 1.000231 0.580908 1.118034 0.296506 1.118034 0  C 1.118034 -0.296506 1.000231 -0.580908 0.790569 -0.790569  C 0.580908 -1.000231 0.296506 -1.118034 0 -1.118034  C -0.296506 -1.118034 -0.580908 -1.000231 -0.790569 -0.790569  C -1.000231 -0.580908 -1.118034 -0.296506 -1.118034 0  C -1.118034 0.296506 -1.000231 0.580908 -0.790569 0.790569  C -0.580908 1.000231 -0.296506 1.118034 0 1.118034  z \" id=\"m67148b58a6\" style=\"stroke:#4575b4;stroke-opacity:0.7;stroke-width:0.3;\" />\n    </defs>\n    <g clip-path=\"url(#p279a923eb7)\">\n     <use style=\"fill:#4575b4;fill-opacity:0.7;stroke:#4575b4;stroke-opacity:0.7;stroke-width:0.3;\" x=\"165.268125\" y=\"50.947431\" xlink:href=\"#m67148b58a6\" />\n     <use style=\"fill:#4575b4;fill-opacity:0.7;stroke:#4575b4;stroke-opacity:0.7;stroke-width:0.3;\" x=\"25.768125\" y=\"70.298887\" xlink:href=\"#m67148b58a6\" />\n     <use style=\"fill:#4575b4;fill-opacity:0.7;stroke:#4575b4;stroke-opacity:0.7;stroke-width:0.3;\" x=\"25.768125\" y=\"89.650344\" xlink:href=\"#m67148b58a6\" />\n     <use style=\"fill:#4575b4;fill-opacity:0.7;stroke:#4575b4;stroke-opacity:0.7;stroke-width:0.3;\" x=\"25.768125\" y=\"89.650344\" xlink:href=\"#m67148b58a6\" />\n     <use style=\"fill:#4575b4;fill-opacity:0.7;stroke:#4575b4;stroke-opacity:0.7;stroke-width:0.3;\" x=\"25.768125\" y=\"50.947431\" xlink:href=\"#m67148b58a6\" />\n     <use style=\"fill:#4575b4;fill-opacity:0.7;stroke:#4575b4;stroke-opacity:0.7;stroke-width:0.3;\" x=\"165.268125\" y=\"50.947431\" xlink:href=\"#m67148b58a6\" />\n     <use style=\"fill:#4575b4;fill-opacity:0.7;stroke:#4575b4;stroke-opacity:0.7;stroke-width:0.3;\" x=\"165.268125\" y=\"31.595975\" xlink:href=\"#m67148b58a6\" />\n     <use style=\"fill:#4575b4;fill-opacity:0.7;stroke:#4575b4;stroke-opacity:0.7;stroke-width:0.3;\" x=\"25.768125\" y=\"31.595975\" xlink:href=\"#m67148b58a6\" />\n     <use style=\"fill:#4575b4;fill-opacity:0.7;stroke:#4575b4;stroke-opacity:0.7;stroke-width:0.3;\" x=\"25.768125\" y=\"89.650344\" xlink:href=\"#m67148b58a6\" />\n     <use style=\"fill:#4575b4;fill-opacity:0.7;stroke:#4575b4;stroke-opacity:0.7;stroke-width:0.3;\" x=\"25.768125\" y=\"70.298887\" xlink:href=\"#m67148b58a6\" />\n     <use style=\"fill:#4575b4;fill-opacity:0.7;stroke:#4575b4;stroke-opacity:0.7;stroke-width:0.3;\" x=\"25.768125\" y=\"70.298887\" xlink:href=\"#m67148b58a6\" />\n     <use style=\"fill:#4575b4;fill-opacity:0.7;stroke:#4575b4;stroke-opacity:0.7;stroke-width:0.3;\" x=\"25.768125\" y=\"89.650344\" xlink:href=\"#m67148b58a6\" />\n     <use style=\"fill:#4575b4;fill-opacity:0.7;stroke:#4575b4;stroke-opacity:0.7;stroke-width:0.3;\" x=\"165.268125\" y=\"50.947431\" xlink:href=\"#m67148b58a6\" />\n     <use style=\"fill:#4575b4;fill-opacity:0.7;stroke:#4575b4;stroke-opacity:0.7;stroke-width:0.3;\" x=\"25.768125\" y=\"89.650344\" xlink:href=\"#m67148b58a6\" />\n     <use style=\"fill:#4575b4;fill-opacity:0.7;stroke:#4575b4;stroke-opacity:0.7;stroke-width:0.3;\" x=\"25.768125\" y=\"70.298887\" xlink:href=\"#m67148b58a6\" />\n     <use style=\"fill:#4575b4;fill-opacity:0.7;stroke:#4575b4;stroke-opacity:0.7;stroke-width:0.3;\" x=\"25.768125\" y=\"31.595975\" xlink:href=\"#m67148b58a6\" />\n     <use style=\"fill:#4575b4;fill-opacity:0.7;stroke:#4575b4;stroke-opacity:0.7;stroke-width:0.3;\" x=\"25.768125\" y=\"50.947431\" xlink:href=\"#m67148b58a6\" />\n     <use style=\"fill:#4575b4;fill-opacity:0.7;stroke:#4575b4;stroke-opacity:0.7;stroke-width:0.3;\" x=\"25.768125\" y=\"70.298887\" xlink:href=\"#m67148b58a6\" />\n     <use style=\"fill:#4575b4;fill-opacity:0.7;stroke:#4575b4;stroke-opacity:0.7;stroke-width:0.3;\" x=\"25.768125\" y=\"70.298887\" xlink:href=\"#m67148b58a6\" />\n     <use style=\"fill:#4575b4;fill-opacity:0.7;stroke:#4575b4;stroke-opacity:0.7;stroke-width:0.3;\" x=\"25.768125\" y=\"70.298887\" xlink:href=\"#m67148b58a6\" />\n     <use style=\"fill:#4575b4;fill-opacity:0.7;stroke:#4575b4;stroke-opacity:0.7;stroke-width:0.3;\" x=\"25.768125\" y=\"89.650344\" xlink:href=\"#m67148b58a6\" />\n     <use style=\"fill:#4575b4;fill-opacity:0.7;stroke:#4575b4;stroke-opacity:0.7;stroke-width:0.3;\" x=\"25.768125\" y=\"89.650344\" xlink:href=\"#m67148b58a6\" />\n     <use style=\"fill:#4575b4;fill-opacity:0.7;stroke:#4575b4;stroke-opacity:0.7;stroke-width:0.3;\" x=\"25.768125\" y=\"89.650344\" xlink:href=\"#m67148b58a6\" />\n     <use style=\"fill:#4575b4;fill-opacity:0.7;stroke:#4575b4;stroke-opacity:0.7;stroke-width:0.3;\" x=\"165.268125\" y=\"31.595975\" xlink:href=\"#m67148b58a6\" />\n     <use style=\"fill:#4575b4;fill-opacity:0.7;stroke:#4575b4;stroke-opacity:0.7;stroke-width:0.3;\" x=\"25.768125\" y=\"50.947431\" xlink:href=\"#m67148b58a6\" />\n     <use style=\"fill:#4575b4;fill-opacity:0.7;stroke:#4575b4;stroke-opacity:0.7;stroke-width:0.3;\" x=\"165.268125\" y=\"31.595975\" xlink:href=\"#m67148b58a6\" />\n     <use style=\"fill:#4575b4;fill-opacity:0.7;stroke:#4575b4;stroke-opacity:0.7;stroke-width:0.3;\" x=\"25.768125\" y=\"89.650344\" xlink:href=\"#m67148b58a6\" />\n     <use style=\"fill:#4575b4;fill-opacity:0.7;stroke:#4575b4;stroke-opacity:0.7;stroke-width:0.3;\" x=\"25.768125\" y=\"31.595975\" xlink:href=\"#m67148b58a6\" />\n     <use style=\"fill:#4575b4;fill-opacity:0.7;stroke:#4575b4;stroke-opacity:0.7;stroke-width:0.3;\" x=\"25.768125\" y=\"89.650344\" xlink:href=\"#m67148b58a6\" />\n     <use style=\"fill:#4575b4;fill-opacity:0.7;stroke:#4575b4;stroke-opacity:0.7;stroke-width:0.3;\" x=\"25.768125\" y=\"70.298887\" xlink:href=\"#m67148b58a6\" />\n     <use style=\"fill:#4575b4;fill-opacity:0.7;stroke:#4575b4;stroke-opacity:0.7;stroke-width:0.3;\" x=\"25.768125\" y=\"70.298887\" xlink:href=\"#m67148b58a6\" />\n     <use style=\"fill:#4575b4;fill-opacity:0.7;stroke:#4575b4;stroke-opacity:0.7;stroke-width:0.3;\" x=\"25.768125\" y=\"89.650344\" xlink:href=\"#m67148b58a6\" />\n     <use style=\"fill:#4575b4;fill-opacity:0.7;stroke:#4575b4;stroke-opacity:0.7;stroke-width:0.3;\" x=\"25.768125\" y=\"89.650344\" xlink:href=\"#m67148b58a6\" />\n     <use style=\"fill:#4575b4;fill-opacity:0.7;stroke:#4575b4;stroke-opacity:0.7;stroke-width:0.3;\" x=\"165.268125\" y=\"70.298887\" xlink:href=\"#m67148b58a6\" />\n     <use style=\"fill:#4575b4;fill-opacity:0.7;stroke:#4575b4;stroke-opacity:0.7;stroke-width:0.3;\" x=\"25.768125\" y=\"70.298887\" xlink:href=\"#m67148b58a6\" />\n     <use style=\"fill:#4575b4;fill-opacity:0.7;stroke:#4575b4;stroke-opacity:0.7;stroke-width:0.3;\" x=\"25.768125\" y=\"70.298887\" xlink:href=\"#m67148b58a6\" />\n     <use style=\"fill:#4575b4;fill-opacity:0.7;stroke:#4575b4;stroke-opacity:0.7;stroke-width:0.3;\" x=\"25.768125\" y=\"70.298887\" xlink:href=\"#m67148b58a6\" />\n     <use style=\"fill:#4575b4;fill-opacity:0.7;stroke:#4575b4;stroke-opacity:0.7;stroke-width:0.3;\" x=\"25.768125\" y=\"89.650344\" xlink:href=\"#m67148b58a6\" />\n     <use style=\"fill:#4575b4;fill-opacity:0.7;stroke:#4575b4;stroke-opacity:0.7;stroke-width:0.3;\" x=\"25.768125\" y=\"70.298887\" xlink:href=\"#m67148b58a6\" />\n     <use style=\"fill:#4575b4;fill-opacity:0.7;stroke:#4575b4;stroke-opacity:0.7;stroke-width:0.3;\" x=\"25.768125\" y=\"70.298887\" xlink:href=\"#m67148b58a6\" />\n     <use style=\"fill:#4575b4;fill-opacity:0.7;stroke:#4575b4;stroke-opacity:0.7;stroke-width:0.3;\" x=\"25.768125\" y=\"89.650344\" xlink:href=\"#m67148b58a6\" />\n     <use style=\"fill:#4575b4;fill-opacity:0.7;stroke:#4575b4;stroke-opacity:0.7;stroke-width:0.3;\" x=\"25.768125\" y=\"70.298887\" xlink:href=\"#m67148b58a6\" />\n     <use style=\"fill:#4575b4;fill-opacity:0.7;stroke:#4575b4;stroke-opacity:0.7;stroke-width:0.3;\" x=\"25.768125\" y=\"89.650344\" xlink:href=\"#m67148b58a6\" />\n     <use style=\"fill:#4575b4;fill-opacity:0.7;stroke:#4575b4;stroke-opacity:0.7;stroke-width:0.3;\" x=\"25.768125\" y=\"70.298887\" xlink:href=\"#m67148b58a6\" />\n     <use style=\"fill:#4575b4;fill-opacity:0.7;stroke:#4575b4;stroke-opacity:0.7;stroke-width:0.3;\" x=\"25.768125\" y=\"89.650344\" xlink:href=\"#m67148b58a6\" />\n     <use style=\"fill:#4575b4;fill-opacity:0.7;stroke:#4575b4;stroke-opacity:0.7;stroke-width:0.3;\" x=\"165.268125\" y=\"50.947431\" xlink:href=\"#m67148b58a6\" />\n     <use style=\"fill:#4575b4;fill-opacity:0.7;stroke:#4575b4;stroke-opacity:0.7;stroke-width:0.3;\" x=\"25.768125\" y=\"89.650344\" xlink:href=\"#m67148b58a6\" />\n     <use style=\"fill:#4575b4;fill-opacity:0.7;stroke:#4575b4;stroke-opacity:0.7;stroke-width:0.3;\" x=\"165.268125\" y=\"31.595975\" xlink:href=\"#m67148b58a6\" />\n     <use style=\"fill:#4575b4;fill-opacity:0.7;stroke:#4575b4;stroke-opacity:0.7;stroke-width:0.3;\" x=\"25.768125\" y=\"89.650344\" xlink:href=\"#m67148b58a6\" />\n     <use style=\"fill:#4575b4;fill-opacity:0.7;stroke:#4575b4;stroke-opacity:0.7;stroke-width:0.3;\" x=\"25.768125\" y=\"89.650344\" xlink:href=\"#m67148b58a6\" />\n     <use style=\"fill:#4575b4;fill-opacity:0.7;stroke:#4575b4;stroke-opacity:0.7;stroke-width:0.3;\" x=\"25.768125\" y=\"89.650344\" xlink:href=\"#m67148b58a6\" />\n     <use style=\"fill:#4575b4;fill-opacity:0.7;stroke:#4575b4;stroke-opacity:0.7;stroke-width:0.3;\" x=\"25.768125\" y=\"89.650344\" xlink:href=\"#m67148b58a6\" />\n     <use style=\"fill:#4575b4;fill-opacity:0.7;stroke:#4575b4;stroke-opacity:0.7;stroke-width:0.3;\" x=\"25.768125\" y=\"70.298887\" xlink:href=\"#m67148b58a6\" />\n     <use style=\"fill:#4575b4;fill-opacity:0.7;stroke:#4575b4;stroke-opacity:0.7;stroke-width:0.3;\" x=\"25.768125\" y=\"70.298887\" xlink:href=\"#m67148b58a6\" />\n     <use style=\"fill:#4575b4;fill-opacity:0.7;stroke:#4575b4;stroke-opacity:0.7;stroke-width:0.3;\" x=\"25.768125\" y=\"89.650344\" xlink:href=\"#m67148b58a6\" />\n     <use style=\"fill:#4575b4;fill-opacity:0.7;stroke:#4575b4;stroke-opacity:0.7;stroke-width:0.3;\" x=\"165.268125\" y=\"70.298887\" xlink:href=\"#m67148b58a6\" />\n     <use style=\"fill:#4575b4;fill-opacity:0.7;stroke:#4575b4;stroke-opacity:0.7;stroke-width:0.3;\" x=\"25.768125\" y=\"89.650344\" xlink:href=\"#m67148b58a6\" />\n     <use style=\"fill:#4575b4;fill-opacity:0.7;stroke:#4575b4;stroke-opacity:0.7;stroke-width:0.3;\" x=\"25.768125\" y=\"89.650344\" xlink:href=\"#m67148b58a6\" />\n     <use style=\"fill:#4575b4;fill-opacity:0.7;stroke:#4575b4;stroke-opacity:0.7;stroke-width:0.3;\" x=\"165.268125\" y=\"31.595975\" xlink:href=\"#m67148b58a6\" />\n     <use style=\"fill:#4575b4;fill-opacity:0.7;stroke:#4575b4;stroke-opacity:0.7;stroke-width:0.3;\" x=\"25.768125\" y=\"70.298887\" xlink:href=\"#m67148b58a6\" />\n     <use style=\"fill:#4575b4;fill-opacity:0.7;stroke:#4575b4;stroke-opacity:0.7;stroke-width:0.3;\" x=\"25.768125\" y=\"70.298887\" xlink:href=\"#m67148b58a6\" />\n     <use style=\"fill:#4575b4;fill-opacity:0.7;stroke:#4575b4;stroke-opacity:0.7;stroke-width:0.3;\" x=\"25.768125\" y=\"70.298887\" xlink:href=\"#m67148b58a6\" />\n     <use style=\"fill:#4575b4;fill-opacity:0.7;stroke:#4575b4;stroke-opacity:0.7;stroke-width:0.3;\" x=\"25.768125\" y=\"31.595975\" xlink:href=\"#m67148b58a6\" />\n     <use style=\"fill:#4575b4;fill-opacity:0.7;stroke:#4575b4;stroke-opacity:0.7;stroke-width:0.3;\" x=\"25.768125\" y=\"50.947431\" xlink:href=\"#m67148b58a6\" />\n     <use style=\"fill:#4575b4;fill-opacity:0.7;stroke:#4575b4;stroke-opacity:0.7;stroke-width:0.3;\" x=\"25.768125\" y=\"89.650344\" xlink:href=\"#m67148b58a6\" />\n     <use style=\"fill:#4575b4;fill-opacity:0.7;stroke:#4575b4;stroke-opacity:0.7;stroke-width:0.3;\" x=\"25.768125\" y=\"89.650344\" xlink:href=\"#m67148b58a6\" />\n     <use style=\"fill:#4575b4;fill-opacity:0.7;stroke:#4575b4;stroke-opacity:0.7;stroke-width:0.3;\" x=\"25.768125\" y=\"89.650344\" xlink:href=\"#m67148b58a6\" />\n     <use style=\"fill:#4575b4;fill-opacity:0.7;stroke:#4575b4;stroke-opacity:0.7;stroke-width:0.3;\" x=\"25.768125\" y=\"89.650344\" xlink:href=\"#m67148b58a6\" />\n     <use style=\"fill:#4575b4;fill-opacity:0.7;stroke:#4575b4;stroke-opacity:0.7;stroke-width:0.3;\" x=\"165.268125\" y=\"50.947431\" xlink:href=\"#m67148b58a6\" />\n     <use style=\"fill:#4575b4;fill-opacity:0.7;stroke:#4575b4;stroke-opacity:0.7;stroke-width:0.3;\" x=\"25.768125\" y=\"50.947431\" xlink:href=\"#m67148b58a6\" />\n     <use style=\"fill:#4575b4;fill-opacity:0.7;stroke:#4575b4;stroke-opacity:0.7;stroke-width:0.3;\" x=\"25.768125\" y=\"50.947431\" xlink:href=\"#m67148b58a6\" />\n     <use style=\"fill:#4575b4;fill-opacity:0.7;stroke:#4575b4;stroke-opacity:0.7;stroke-width:0.3;\" x=\"25.768125\" y=\"89.650344\" xlink:href=\"#m67148b58a6\" />\n     <use style=\"fill:#4575b4;fill-opacity:0.7;stroke:#4575b4;stroke-opacity:0.7;stroke-width:0.3;\" x=\"165.268125\" y=\"50.947431\" xlink:href=\"#m67148b58a6\" />\n     <use style=\"fill:#4575b4;fill-opacity:0.7;stroke:#4575b4;stroke-opacity:0.7;stroke-width:0.3;\" x=\"165.268125\" y=\"70.298887\" xlink:href=\"#m67148b58a6\" />\n     <use style=\"fill:#4575b4;fill-opacity:0.7;stroke:#4575b4;stroke-opacity:0.7;stroke-width:0.3;\" x=\"25.768125\" y=\"70.298887\" xlink:href=\"#m67148b58a6\" />\n     <use style=\"fill:#4575b4;fill-opacity:0.7;stroke:#4575b4;stroke-opacity:0.7;stroke-width:0.3;\" x=\"25.768125\" y=\"31.595975\" xlink:href=\"#m67148b58a6\" />\n     <use style=\"fill:#4575b4;fill-opacity:0.7;stroke:#4575b4;stroke-opacity:0.7;stroke-width:0.3;\" x=\"25.768125\" y=\"89.650344\" xlink:href=\"#m67148b58a6\" />\n     <use style=\"fill:#4575b4;fill-opacity:0.7;stroke:#4575b4;stroke-opacity:0.7;stroke-width:0.3;\" x=\"25.768125\" y=\"89.650344\" xlink:href=\"#m67148b58a6\" />\n     <use style=\"fill:#4575b4;fill-opacity:0.7;stroke:#4575b4;stroke-opacity:0.7;stroke-width:0.3;\" x=\"25.768125\" y=\"50.947431\" xlink:href=\"#m67148b58a6\" />\n     <use style=\"fill:#4575b4;fill-opacity:0.7;stroke:#4575b4;stroke-opacity:0.7;stroke-width:0.3;\" x=\"25.768125\" y=\"50.947431\" xlink:href=\"#m67148b58a6\" />\n    </g>\n   </g>\n   <g id=\"patch_3\">\n    <path d=\"M 95.518125 89.650344  L 93.007125 95.629944  L 98.029125 95.629944  z \" style=\"fill:#444443;\" />\n   </g>\n   <g id=\"matplotlib.axis_1\">\n    <g id=\"xtick_1\">\n     <g id=\"line2d_1\">\n      <defs>\n       <path d=\"M 0 0  L 0 3.5  \" id=\"m1979aa1753\" style=\"stroke:#444443;stroke-width:0.3;\" />\n      </defs>\n      <g>\n       <use style=\"fill:#444443;stroke:#444443;stroke-width:0.3;\" x=\"25.768125\" y=\"89.650344\" xlink:href=\"#m1979aa1753\" />\n      </g>\n     </g>\n     <g id=\"text_1\">\n      \n      <defs>\n       <path d=\"M 31.78125 66.40625  Q 24.171875 66.40625 20.328125 58.90625  Q 16.5 51.421875 16.5 36.375  Q 16.5 21.390625 20.328125 13.890625  Q 24.171875 6.390625 31.78125 6.390625  Q 39.453125 6.390625 43.28125 13.890625  Q 47.125 21.390625 47.125 36.375  Q 47.125 51.421875 43.28125 58.90625  Q 39.453125 66.40625 31.78125 66.40625  z M 31.78125 74.21875  Q 44.046875 74.21875 50.515625 64.515625  Q 56.984375 54.828125 56.984375 36.375  Q 56.984375 17.96875 50.515625 8.265625  Q 44.046875 -1.421875 31.78125 -1.421875  Q 19.53125 -1.421875 13.0625 8.265625  Q 6.59375 17.96875 6.59375 36.375  Q 6.59375 54.828125 13.0625 64.515625  Q 19.53125 74.21875 31.78125 74.21875  z \" id=\"DejaVuSans-48\" />\n       <path d=\"M 10.6875 12.40625  L 21 12.40625  L 21 0  L 10.6875 0  z \" id=\"DejaVuSans-46\" />\n      </defs>\n      <g style=\"fill:#444443;\" transform=\"translate(19.406875 102.729094)scale(0.08 -0.08)\">\n       <use xlink:href=\"#DejaVuSans-48\" />\n       <use x=\"63.623047\" xlink:href=\"#DejaVuSans-46\" />\n       <use x=\"95.410156\" xlink:href=\"#DejaVuSans-48\" />\n      </g>\n     </g>\n    </g>\n    <g id=\"xtick_2\">\n     <g id=\"line2d_2\">\n      <g>\n       <use style=\"fill:#444443;stroke:#444443;stroke-width:0.3;\" x=\"165.268125\" y=\"89.650344\" xlink:href=\"#m1979aa1753\" />\n      </g>\n     </g>\n     <g id=\"text_2\">\n      \n      <defs>\n       <path d=\"M 12.40625 8.296875  L 28.515625 8.296875  L 28.515625 63.921875  L 10.984375 60.40625  L 10.984375 69.390625  L 28.421875 72.90625  L 38.28125 72.90625  L 38.28125 8.296875  L 54.390625 8.296875  L 54.390625 0  L 12.40625 0  z \" id=\"DejaVuSans-49\" />\n      </defs>\n      <g style=\"fill:#444443;\" transform=\"translate(158.906875 102.729094)scale(0.08 -0.08)\">\n       <use xlink:href=\"#DejaVuSans-49\" />\n       <use x=\"63.623047\" xlink:href=\"#DejaVuSans-46\" />\n       <use x=\"95.410156\" xlink:href=\"#DejaVuSans-48\" />\n      </g>\n     </g>\n    </g>\n    <g id=\"xtick_3\">\n     <g id=\"line2d_3\">\n      <g>\n       <use style=\"fill:#444443;stroke:#444443;stroke-width:0.3;\" x=\"95.518125\" y=\"89.650344\" xlink:href=\"#m1979aa1753\" />\n      </g>\n     </g>\n     <g id=\"text_3\">\n      \n      <defs>\n       <path d=\"M 10.796875 72.90625  L 49.515625 72.90625  L 49.515625 64.59375  L 19.828125 64.59375  L 19.828125 46.734375  Q 21.96875 47.46875 24.109375 47.828125  Q 26.265625 48.1875 28.421875 48.1875  Q 40.625 48.1875 47.75 41.5  Q 54.890625 34.8125 54.890625 23.390625  Q 54.890625 11.625 47.5625 5.09375  Q 40.234375 -1.421875 26.90625 -1.421875  Q 22.3125 -1.421875 17.546875 -0.640625  Q 12.796875 0.140625 7.71875 1.703125  L 7.71875 11.625  Q 12.109375 9.234375 16.796875 8.0625  Q 21.484375 6.890625 26.703125 6.890625  Q 35.15625 6.890625 40.078125 11.328125  Q 45.015625 15.765625 45.015625 23.390625  Q 45.015625 31 40.078125 35.4375  Q 35.15625 39.890625 26.703125 39.890625  Q 22.75 39.890625 18.8125 39.015625  Q 14.890625 38.140625 10.796875 36.28125  z \" id=\"DejaVuSans-53\" />\n      </defs>\n      <g style=\"fill:#444443;\" transform=\"translate(89.156875 102.729094)scale(0.08 -0.08)\">\n       <use xlink:href=\"#DejaVuSans-48\" />\n       <use x=\"63.623047\" xlink:href=\"#DejaVuSans-46\" />\n       <use x=\"95.410156\" xlink:href=\"#DejaVuSans-53\" />\n      </g>\n     </g>\n    </g>\n    <g id=\"text_4\">\n     \n     <defs>\n      <path d=\"M 9.8125 72.90625  L 24.515625 72.90625  L 43.109375 23.296875  L 61.8125 72.90625  L 76.515625 72.90625  L 76.515625 0  L 66.890625 0  L 66.890625 64.015625  L 48.09375 14.015625  L 38.1875 14.015625  L 19.390625 64.015625  L 19.390625 0  L 9.8125 0  z \" id=\"DejaVuSans-77\" />\n      <path d=\"M 34.28125 27.484375  Q 23.390625 27.484375 19.1875 25  Q 14.984375 22.515625 14.984375 16.5  Q 14.984375 11.71875 18.140625 8.90625  Q 21.296875 6.109375 26.703125 6.109375  Q 34.1875 6.109375 38.703125 11.40625  Q 43.21875 16.703125 43.21875 25.484375  L 43.21875 27.484375  z M 52.203125 31.203125  L 52.203125 0  L 43.21875 0  L 43.21875 8.296875  Q 40.140625 3.328125 35.546875 0.953125  Q 30.953125 -1.421875 24.3125 -1.421875  Q 15.921875 -1.421875 10.953125 3.296875  Q 6 8.015625 6 15.921875  Q 6 25.140625 12.171875 29.828125  Q 18.359375 34.515625 30.609375 34.515625  L 43.21875 34.515625  L 43.21875 35.40625  Q 43.21875 41.609375 39.140625 45  Q 35.0625 48.390625 27.6875 48.390625  Q 23 48.390625 18.546875 47.265625  Q 14.109375 46.140625 10.015625 43.890625  L 10.015625 52.203125  Q 14.9375 54.109375 19.578125 55.046875  Q 24.21875 56 28.609375 56  Q 40.484375 56 46.34375 49.84375  Q 52.203125 43.703125 52.203125 31.203125  z \" id=\"DejaVuSans-97\" />\n      <path d=\"M 41.109375 46.296875  Q 39.59375 47.171875 37.8125 47.578125  Q 36.03125 48 33.890625 48  Q 26.265625 48 22.1875 43.046875  Q 18.109375 38.09375 18.109375 28.8125  L 18.109375 0  L 9.078125 0  L 9.078125 54.6875  L 18.109375 54.6875  L 18.109375 46.1875  Q 20.953125 51.171875 25.484375 53.578125  Q 30.03125 56 36.53125 56  Q 37.453125 56 38.578125 55.875  Q 39.703125 55.765625 41.0625 55.515625  z \" id=\"DejaVuSans-114\" />\n      <path d=\"M 9.421875 54.6875  L 18.40625 54.6875  L 18.40625 0  L 9.421875 0  z M 9.421875 75.984375  L 18.40625 75.984375  L 18.40625 64.59375  L 9.421875 64.59375  z \" id=\"DejaVuSans-105\" />\n      <path d=\"M 18.3125 70.21875  L 18.3125 54.6875  L 36.8125 54.6875  L 36.8125 47.703125  L 18.3125 47.703125  L 18.3125 18.015625  Q 18.3125 11.328125 20.140625 9.421875  Q 21.96875 7.515625 27.59375 7.515625  L 36.8125 7.515625  L 36.8125 0  L 27.59375 0  Q 17.1875 0 13.234375 3.875  Q 9.28125 7.765625 9.28125 18.015625  L 9.28125 47.703125  L 2.6875 47.703125  L 2.6875 54.6875  L 9.28125 54.6875  L 9.28125 70.21875  z \" id=\"DejaVuSans-116\" />\n      <path d=\"M 9.421875 75.984375  L 18.40625 75.984375  L 18.40625 0  L 9.421875 0  z \" id=\"DejaVuSans-108\" />\n      <path id=\"DejaVuSans-32\" />\n      <path d=\"M 44.28125 53.078125  L 44.28125 44.578125  Q 40.484375 46.53125 36.375 47.5  Q 32.28125 48.484375 27.875 48.484375  Q 21.1875 48.484375 17.84375 46.4375  Q 14.5 44.390625 14.5 40.28125  Q 14.5 37.15625 16.890625 35.375  Q 19.28125 33.59375 26.515625 31.984375  L 29.59375 31.296875  Q 39.15625 29.25 43.1875 25.515625  Q 47.21875 21.78125 47.21875 15.09375  Q 47.21875 7.46875 41.1875 3.015625  Q 35.15625 -1.421875 24.609375 -1.421875  Q 20.21875 -1.421875 15.453125 -0.5625  Q 10.6875 0.296875 5.421875 2  L 5.421875 11.28125  Q 10.40625 8.6875 15.234375 7.390625  Q 20.0625 6.109375 24.8125 6.109375  Q 31.15625 6.109375 34.5625 8.28125  Q 37.984375 10.453125 37.984375 14.40625  Q 37.984375 18.0625 35.515625 20.015625  Q 33.0625 21.96875 24.703125 23.78125  L 21.578125 24.515625  Q 13.234375 26.265625 9.515625 29.90625  Q 5.8125 33.546875 5.8125 39.890625  Q 5.8125 47.609375 11.28125 51.796875  Q 16.75 56 26.8125 56  Q 31.78125 56 36.171875 55.265625  Q 40.578125 54.546875 44.28125 53.078125  z \" id=\"DejaVuSans-115\" />\n      <path d=\"M 8.5 21.578125  L 8.5 54.6875  L 17.484375 54.6875  L 17.484375 21.921875  Q 17.484375 14.15625 20.5 10.265625  Q 23.53125 6.390625 29.59375 6.390625  Q 36.859375 6.390625 41.078125 11.03125  Q 45.3125 15.671875 45.3125 23.6875  L 45.3125 54.6875  L 54.296875 54.6875  L 54.296875 0  L 45.3125 0  L 45.3125 8.40625  Q 42.046875 3.421875 37.71875 1  Q 33.40625 -1.421875 27.6875 -1.421875  Q 18.265625 -1.421875 13.375 4.4375  Q 8.5 10.296875 8.5 21.578125  z M 31.109375 56  z \" id=\"DejaVuSans-117\" />\n     </defs>\n     <g style=\"fill:#444443;\" transform=\"translate(61.330625 115.991281)scale(0.1 -0.1)\">\n      <use xlink:href=\"#DejaVuSans-77\" />\n      <use x=\"86.279297\" xlink:href=\"#DejaVuSans-97\" />\n      <use x=\"147.558594\" xlink:href=\"#DejaVuSans-114\" />\n      <use x=\"188.671875\" xlink:href=\"#DejaVuSans-105\" />\n      <use x=\"216.455078\" xlink:href=\"#DejaVuSans-116\" />\n      <use x=\"255.664062\" xlink:href=\"#DejaVuSans-97\" />\n      <use x=\"316.943359\" xlink:href=\"#DejaVuSans-108\" />\n      <use x=\"344.726562\" xlink:href=\"#DejaVuSans-32\" />\n      <use x=\"376.513672\" xlink:href=\"#DejaVuSans-115\" />\n      <use x=\"428.613281\" xlink:href=\"#DejaVuSans-116\" />\n      <use x=\"467.822266\" xlink:href=\"#DejaVuSans-97\" />\n      <use x=\"529.101562\" xlink:href=\"#DejaVuSans-116\" />\n      <use x=\"568.310547\" xlink:href=\"#DejaVuSans-117\" />\n      <use x=\"631.689453\" xlink:href=\"#DejaVuSans-115\" />\n     </g>\n    </g>\n   </g>\n   <g id=\"matplotlib.axis_2\">\n    <g id=\"ytick_1\">\n     <g id=\"line2d_4\">\n      <defs>\n       <path d=\"M 0 0  L -3.5 0  \" id=\"mbc87b9ab22\" style=\"stroke:#444443;stroke-width:0.3;\" />\n      </defs>\n      <g>\n       <use style=\"fill:#444443;stroke:#444443;stroke-width:0.3;\" x=\"25.768125\" y=\"89.650344\" xlink:href=\"#mbc87b9ab22\" />\n      </g>\n     </g>\n     <g id=\"text_5\">\n      \n      <g style=\"fill:#444443;\" transform=\"translate(13.678125 92.689719)scale(0.08 -0.08)\">\n       <use xlink:href=\"#DejaVuSans-48\" />\n      </g>\n     </g>\n    </g>\n    <g id=\"ytick_2\">\n     <g id=\"line2d_5\">\n      <g>\n       <use style=\"fill:#444443;stroke:#444443;stroke-width:0.3;\" x=\"25.768125\" y=\"50.947431\" xlink:href=\"#mbc87b9ab22\" />\n      </g>\n     </g>\n     <g id=\"text_6\">\n      \n      <defs>\n       <path d=\"M 19.1875 8.296875  L 53.609375 8.296875  L 53.609375 0  L 7.328125 0  L 7.328125 8.296875  Q 12.9375 14.109375 22.625 23.890625  Q 32.328125 33.6875 34.8125 36.53125  Q 39.546875 41.84375 41.421875 45.53125  Q 43.3125 49.21875 43.3125 52.78125  Q 43.3125 58.59375 39.234375 62.25  Q 35.15625 65.921875 28.609375 65.921875  Q 23.96875 65.921875 18.8125 64.3125  Q 13.671875 62.703125 7.8125 59.421875  L 7.8125 69.390625  Q 13.765625 71.78125 18.9375 73  Q 24.125 74.21875 28.421875 74.21875  Q 39.75 74.21875 46.484375 68.546875  Q 53.21875 62.890625 53.21875 53.421875  Q 53.21875 48.921875 51.53125 44.890625  Q 49.859375 40.875 45.40625 35.40625  Q 44.1875 33.984375 37.640625 27.21875  Q 31.109375 20.453125 19.1875 8.296875  z \" id=\"DejaVuSans-50\" />\n      </defs>\n      <g style=\"fill:#444443;\" transform=\"translate(13.678125 53.986806)scale(0.08 -0.08)\">\n       <use xlink:href=\"#DejaVuSans-50\" />\n      </g>\n     </g>\n    </g>\n    <g id=\"text_7\">\n     \n     <defs>\n      <path d=\"M 9.8125 72.90625  L 55.90625 72.90625  L 55.90625 64.59375  L 19.671875 64.59375  L 19.671875 43.015625  L 54.390625 43.015625  L 54.390625 34.71875  L 19.671875 34.71875  L 19.671875 8.296875  L 56.78125 8.296875  L 56.78125 0  L 9.8125 0  z \" id=\"DejaVuSans-69\" />\n      <path d=\"M 9.8125 72.90625  L 23.09375 72.90625  L 55.421875 11.921875  L 55.421875 72.90625  L 64.984375 72.90625  L 64.984375 0  L 51.703125 0  L 19.390625 60.984375  L 19.390625 0  L 9.8125 0  z \" id=\"DejaVuSans-78\" />\n      <path d=\"M -0.296875 72.90625  L 61.375 72.90625  L 61.375 64.59375  L 35.5 64.59375  L 35.5 0  L 25.59375 0  L 25.59375 64.59375  L -0.296875 64.59375  z \" id=\"DejaVuSans-84\" />\n      <path d=\"M 34.1875 63.1875  L 20.796875 26.90625  L 47.609375 26.90625  z M 28.609375 72.90625  L 39.796875 72.90625  L 67.578125 0  L 57.328125 0  L 50.6875 18.703125  L 17.828125 18.703125  L 11.1875 0  L 0.78125 0  z \" id=\"DejaVuSans-65\" />\n      <path d=\"M 9.8125 72.90625  L 19.671875 72.90625  L 19.671875 8.296875  L 55.171875 8.296875  L 55.171875 0  L 9.8125 0  z \" id=\"DejaVuSans-76\" />\n      <path d=\"M 9.8125 72.90625  L 19.671875 72.90625  L 19.671875 43.015625  L 55.515625 43.015625  L 55.515625 72.90625  L 65.375 72.90625  L 65.375 0  L 55.515625 0  L 55.515625 34.71875  L 19.671875 34.71875  L 19.671875 0  L 9.8125 0  z \" id=\"DejaVuSans-72\" />\n      <path d=\"M 53.515625 70.515625  L 53.515625 60.890625  Q 47.90625 63.578125 42.921875 64.890625  Q 37.9375 66.21875 33.296875 66.21875  Q 25.25 66.21875 20.875 63.09375  Q 16.5 59.96875 16.5 54.203125  Q 16.5 49.359375 19.40625 46.890625  Q 22.3125 44.4375 30.421875 42.921875  L 36.375 41.703125  Q 47.40625 39.59375 52.65625 34.296875  Q 57.90625 29 57.90625 20.125  Q 57.90625 9.515625 50.796875 4.046875  Q 43.703125 -1.421875 29.984375 -1.421875  Q 24.8125 -1.421875 18.96875 -0.25  Q 13.140625 0.921875 6.890625 3.21875  L 6.890625 13.375  Q 12.890625 10.015625 18.65625 8.296875  Q 24.421875 6.59375 29.984375 6.59375  Q 38.421875 6.59375 43.015625 9.90625  Q 47.609375 13.234375 47.609375 19.390625  Q 47.609375 24.75 44.3125 27.78125  Q 41.015625 30.8125 33.5 32.328125  L 27.484375 33.5  Q 16.453125 35.6875 11.515625 40.375  Q 6.59375 45.0625 6.59375 53.421875  Q 6.59375 63.09375 13.40625 68.65625  Q 20.21875 74.21875 32.171875 74.21875  Q 37.3125 74.21875 42.625 73.28125  Q 47.953125 72.359375 53.515625 70.515625  z \" id=\"DejaVuSans-83\" />\n      <path d=\"M 64.40625 67.28125  L 64.40625 56.890625  Q 59.421875 61.53125 53.78125 63.8125  Q 48.140625 66.109375 41.796875 66.109375  Q 29.296875 66.109375 22.65625 58.46875  Q 16.015625 50.828125 16.015625 36.375  Q 16.015625 21.96875 22.65625 14.328125  Q 29.296875 6.6875 41.796875 6.6875  Q 48.140625 6.6875 53.78125 8.984375  Q 59.421875 11.28125 64.40625 15.921875  L 64.40625 5.609375  Q 59.234375 2.09375 53.4375 0.328125  Q 47.65625 -1.421875 41.21875 -1.421875  Q 24.65625 -1.421875 15.125 8.703125  Q 5.609375 18.84375 5.609375 36.375  Q 5.609375 53.953125 15.125 64.078125  Q 24.65625 74.21875 41.21875 74.21875  Q 47.75 74.21875 53.53125 72.484375  Q 59.328125 70.75 64.40625 67.28125  z \" id=\"DejaVuSans-67\" />\n      <path d=\"M 39.40625 66.21875  Q 28.65625 66.21875 22.328125 58.203125  Q 16.015625 50.203125 16.015625 36.375  Q 16.015625 22.609375 22.328125 14.59375  Q 28.65625 6.59375 39.40625 6.59375  Q 50.140625 6.59375 56.421875 14.59375  Q 62.703125 22.609375 62.703125 36.375  Q 62.703125 50.203125 56.421875 58.203125  Q 50.140625 66.21875 39.40625 66.21875  z M 39.40625 74.21875  Q 54.734375 74.21875 63.90625 63.9375  Q 73.09375 53.65625 73.09375 36.375  Q 73.09375 19.140625 63.90625 8.859375  Q 54.734375 -1.421875 39.40625 -1.421875  Q 24.03125 -1.421875 14.8125 8.828125  Q 5.609375 19.09375 5.609375 36.375  Q 5.609375 53.65625 14.8125 63.9375  Q 24.03125 74.21875 39.40625 74.21875  z \" id=\"DejaVuSans-79\" />\n      <path d=\"M 44.390625 34.1875  Q 47.5625 33.109375 50.5625 29.59375  Q 53.5625 26.078125 56.59375 19.921875  L 66.609375 0  L 56 0  L 46.6875 18.703125  Q 43.0625 26.03125 39.671875 28.421875  Q 36.28125 30.8125 30.421875 30.8125  L 19.671875 30.8125  L 19.671875 0  L 9.8125 0  L 9.8125 72.90625  L 32.078125 72.90625  Q 44.578125 72.90625 50.734375 67.671875  Q 56.890625 62.453125 56.890625 51.90625  Q 56.890625 45.015625 53.6875 40.46875  Q 50.484375 35.9375 44.390625 34.1875  z M 19.671875 64.796875  L 19.671875 38.921875  L 32.078125 38.921875  Q 39.203125 38.921875 42.84375 42.21875  Q 46.484375 45.515625 46.484375 51.90625  Q 46.484375 58.296875 42.84375 61.546875  Q 39.203125 64.796875 32.078125 64.796875  z \" id=\"DejaVuSans-82\" />\n     </defs>\n     <g style=\"fill:#444443;\" transform=\"translate(7.598438 119.504687)rotate(-90)scale(0.1 -0.1)\">\n      <use xlink:href=\"#DejaVuSans-77\" />\n      <use x=\"86.279297\" xlink:href=\"#DejaVuSans-69\" />\n      <use x=\"149.462891\" xlink:href=\"#DejaVuSans-78\" />\n      <use x=\"224.267578\" xlink:href=\"#DejaVuSans-84\" />\n      <use x=\"277.601562\" xlink:href=\"#DejaVuSans-65\" />\n      <use x=\"346.009766\" xlink:href=\"#DejaVuSans-76\" />\n      <use x=\"401.722656\" xlink:href=\"#DejaVuSans-32\" />\n      <use x=\"433.509766\" xlink:href=\"#DejaVuSans-72\" />\n      <use x=\"508.705078\" xlink:href=\"#DejaVuSans-69\" />\n      <use x=\"571.888672\" xlink:href=\"#DejaVuSans-65\" />\n      <use x=\"640.296875\" xlink:href=\"#DejaVuSans-76\" />\n      <use x=\"682.259766\" xlink:href=\"#DejaVuSans-84\" />\n      <use x=\"743.34375\" xlink:href=\"#DejaVuSans-72\" />\n      <use x=\"818.539062\" xlink:href=\"#DejaVuSans-32\" />\n      <use x=\"850.326172\" xlink:href=\"#DejaVuSans-83\" />\n      <use x=\"913.802734\" xlink:href=\"#DejaVuSans-67\" />\n      <use x=\"983.626953\" xlink:href=\"#DejaVuSans-79\" />\n      <use x=\"1062.337891\" xlink:href=\"#DejaVuSans-82\" />\n      <use x=\"1131.820312\" xlink:href=\"#DejaVuSans-69\" />\n     </g>\n    </g>\n   </g>\n   <g id=\"line2d_6\">\n    <path clip-path=\"url(#p279a923eb7)\" d=\"M 25.768125 74.110538  L 95.518125 74.110538  \" style=\"fill:none;stroke:#444443;stroke-dasharray:3.7,1.6;stroke-dashoffset:0;\" />\n   </g>\n   <g id=\"line2d_7\">\n    <path clip-path=\"url(#p279a923eb7)\" d=\"M 95.518125 89.650344  L 95.518125 29.854344  \" style=\"fill:none;stroke:#444443;stroke-dasharray:3.7,1.6;stroke-dashoffset:0;\" />\n   </g>\n   <g id=\"line2d_8\">\n    <path clip-path=\"url(#p279a923eb7)\" d=\"M 95.518125 48.182937  L 165.268125 48.182937  \" style=\"fill:none;stroke:#444443;stroke-dasharray:3.7,1.6;stroke-dashoffset:0;\" />\n   </g>\n   <g id=\"patch_4\">\n    <path d=\"M 25.768125 89.650344  L 25.768125 29.854344  \" style=\"fill:none;stroke:#000000;stroke-linecap:square;stroke-linejoin:miter;stroke-width:0.3;\" />\n   </g>\n   <g id=\"patch_5\">\n    <path d=\"M 25.768125 89.650344  L 165.268125 89.650344  \" style=\"fill:none;stroke:#000000;stroke-linecap:square;stroke-linejoin:miter;stroke-width:0.3;\" />\n   </g>\n  </g>\n </g>\n <defs>\n  <clipPath id=\"p279a923eb7\">\n   <rect height=\"59.796\" width=\"139.5\" x=\"25.768125\" y=\"29.854344\" />\n  </clipPath>\n </defs>\n</svg></g>\n\n<g class=\"edge\" id=\"edge7\">\n<title>node0-&gt;node1</title>\n<path d=\"M137.1432,-85.9832C143.9444,-87.765 150.844,-89.5725 157.6321,-91.3509\" fill=\"none\" stroke=\"#444443\" stroke-width=\".3\" />\n<polygon fill=\"#444443\" points=\"157.6181,-92.7944 161.8424,-92.4539 158.3278,-90.0858 157.6181,-92.7944\" stroke=\"#444443\" stroke-width=\".3\" />\n<text fill=\"#000000\" font-family=\"Times,serif\" font-size=\"14.00\" text-anchor=\"start\" x=\"145.5\" y=\"-92.8\">&#8804;</text>\n</g>\n\n<g class=\"edge\" id=\"edge8\">\n<title>node0-&gt;leaf2</title>\n<path d=\"M137.1432,-50.894C144.7657,-48.9945 152.5117,-47.0642 160.0859,-45.1767\" fill=\"none\" stroke=\"#444443\" stroke-width=\".3\" />\n<polygon fill=\"#444443\" points=\"160.7315,-46.4587 164.2743,-44.1329 160.0544,-43.7418 160.7315,-46.4587\" stroke=\"#444443\" stroke-width=\".3\" />\n<text fill=\"#000000\" font-family=\"Times,serif\" font-size=\"14.00\" text-anchor=\"start\" x=\"145\" y=\"-52.8\">&gt;</text>\n</g>\n\n</g>\n</svg>"
          },
          "metadata": {},
          "execution_count": 331
        }
      ],
      "source": [
        "samp_idx = np.random.permutation(len(y))[:250]\n",
        "dtreeviz(m, xs.iloc[samp_idx], y.iloc[samp_idx], xs.columns, dep_var,\n",
        "        fontname='DejaVu Sans', scale=1.6, label_fontsize=10,\n",
        "        orientation='LR')"
      ]
    },
    {
      "cell_type": "code",
      "execution_count": 332,
      "metadata": {
        "id": "sNRjuAufrd1F"
      },
      "outputs": [],
      "source": [
        "# build larger regressor\n",
        "m = DecisionTreeRegressor()\n",
        "m.fit(xs, y);"
      ]
    },
    {
      "cell_type": "code",
      "execution_count": 333,
      "metadata": {
        "id": "-2hO7qx1rnFe"
      },
      "outputs": [],
      "source": [
        "# check root mean squared\n",
        "def r_mse(pred,y): return round(math.sqrt(((pred-y)**2).mean()), 6)\n",
        "def m_rmse(m, xs, y): return r_mse(m.predict(xs), y)"
      ]
    },
    {
      "cell_type": "code",
      "execution_count": 334,
      "metadata": {
        "colab": {
          "base_uri": "https://localhost:8080/"
        },
        "id": "Gz7fEzdBrrs4",
        "outputId": "d2430600-89a3-4151-807f-bab0774fd3c4"
      },
      "outputs": [
        {
          "output_type": "execute_result",
          "data": {
            "text/plain": [
              "0.0"
            ]
          },
          "metadata": {},
          "execution_count": 334
        }
      ],
      "source": [
        "# perfect model?\n",
        "m_rmse(m, xs, y)"
      ]
    },
    {
      "cell_type": "code",
      "execution_count": 335,
      "metadata": {
        "colab": {
          "base_uri": "https://localhost:8080/"
        },
        "id": "CV21KeT5rzOg",
        "outputId": "26b68e45-66d1-4bd3-a3ec-05e0a66f9b55"
      },
      "outputs": [
        {
          "output_type": "execute_result",
          "data": {
            "text/plain": [
              "1.046536"
            ]
          },
          "metadata": {},
          "execution_count": 335
        }
      ],
      "source": [
        "# pretty good?\n",
        "m_rmse(m, valid_xs, valid_y)"
      ]
    },
    {
      "cell_type": "markdown",
      "metadata": {
        "id": "tHGCJP27sLAc"
      },
      "source": [
        "# Random Forests\n",
        "\n",
        "1. Randomly choose a subset of the rows of your data (i.e., \"bootstrap replicates of your learning set\").\n",
        "1. Train a model using this subset.\n",
        "1. Save that model, and then return to step 1 a few times.\n",
        "1. This will give you a number of trained models. To make a prediction, predict using all of the models, and then take the average of each of those model's predictions."
      ]
    },
    {
      "cell_type": "code",
      "execution_count": 336,
      "metadata": {
        "id": "F73YFD_BsOu_"
      },
      "outputs": [],
      "source": [
        "# create random forest\n",
        "# ne of the most important properties of random forests is that they aren't very sensitive to the hyperparameter choices, such as max_features\n",
        "def rf(xs, y, n_estimators=20, max_samples=73,\n",
        "       max_features=0.5, min_samples_leaf=5, **kwargs):\n",
        "    return RandomForestRegressor(n_jobs=-1, n_estimators=n_estimators,\n",
        "        max_samples=max_samples, max_features=max_features,\n",
        "        min_samples_leaf=min_samples_leaf, oob_score=True).fit(xs, y)"
      ]
    },
    {
      "cell_type": "code",
      "execution_count": 337,
      "metadata": {
        "id": "Mz9n67Wa03-P"
      },
      "outputs": [],
      "source": [
        "m = rf(xs, y);"
      ]
    },
    {
      "cell_type": "code",
      "execution_count": 338,
      "metadata": {
        "id": "1RggJfip0-XH"
      },
      "outputs": [],
      "source": [
        "# To see the impact of n_estimators, let's get the predictions from each individual tree in our forest\n",
        "preds = np.stack([t.predict(valid_xs.values) for t in m.estimators_])"
      ]
    },
    {
      "cell_type": "code",
      "execution_count": 339,
      "metadata": {
        "colab": {
          "base_uri": "https://localhost:8080/"
        },
        "id": "z8Jy04wi-F7K",
        "outputId": "ec5000bf-7cc5-445e-a977-68e8d48af77f"
      },
      "outputs": [
        {
          "output_type": "execute_result",
          "data": {
            "text/plain": [
              "0.766006"
            ]
          },
          "metadata": {},
          "execution_count": 339
        }
      ],
      "source": [
        "r_mse(preds.mean(0), valid_y)"
      ]
    },
    {
      "cell_type": "code",
      "execution_count": 340,
      "metadata": {
        "colab": {
          "base_uri": "https://localhost:8080/",
          "height": 265
        },
        "id": "TRi2CIRs-TBj",
        "outputId": "9439364e-762c-49d8-994e-c482c1e2d2ee"
      },
      "outputs": [
        {
          "output_type": "display_data",
          "data": {
            "text/plain": [
              "<Figure size 432x288 with 1 Axes>"
            ],
            "image/png": "[encoded data removed]"
          },
          "metadata": {
            "needs_background": "light"
          }
        }
      ],
      "source": [
        "plt.plot([r_mse(preds[:i+1].mean(0), valid_y) for i in range(20)]);"
      ]
    },
    {
      "cell_type": "markdown",
      "metadata": {
        "id": "Ozi7SDW0BlgI"
      },
      "source": [
        "## error analysis\n"
      ]
    },
    {
      "cell_type": "code",
      "execution_count": 341,
      "metadata": {
        "colab": {
          "base_uri": "https://localhost:8080/"
        },
        "id": "QANuy01R-VKK",
        "outputId": "907fa01a-6bb8-4db9-cd8b-df51e3e640d3"
      },
      "outputs": [
        {
          "output_type": "execute_result",
          "data": {
            "text/plain": [
              "0.977709"
            ]
          },
          "metadata": {},
          "execution_count": 341
        }
      ],
      "source": [
        "# Recall that in a random forest, each tree is trained on a different subset of the training data. \n",
        "# The OOB error is a way of measuring prediction error on the training set by only including in the calculation of a row's error trees where that row was not included in training.\n",
        "r_mse(m.oob_prediction_, y)"
      ]
    },
    {
      "cell_type": "markdown",
      "metadata": {
        "id": "A2FTNoeo5LLe"
      },
      "source": [
        "## model interpretation"
      ]
    },
    {
      "cell_type": "code",
      "execution_count": 342,
      "metadata": {
        "id": "o_gYmYYd5gRN"
      },
      "outputs": [],
      "source": [
        "# Tree Variance for Prediction Confidence\n",
        "preds_std = preds.std(0)"
      ]
    },
    {
      "cell_type": "code",
      "execution_count": 343,
      "metadata": {
        "colab": {
          "base_uri": "https://localhost:8080/"
        },
        "id": "VtKPlB2p5hwb",
        "outputId": "08cdf7d6-eb15-41b3-b19b-9a9d89cdb182"
      },
      "outputs": [
        {
          "output_type": "execute_result",
          "data": {
            "text/plain": [
              "array([0.49777213, 0.38851478, 0.55609018, 0.41156533, 0.45473608])"
            ]
          },
          "metadata": {},
          "execution_count": 343
        }
      ],
      "source": [
        "preds_std[:5]"
      ]
    },
    {
      "cell_type": "code",
      "execution_count": 344,
      "metadata": {
        "id": "atmv3X2y51Ls"
      },
      "outputs": [],
      "source": [
        "# It's not normally enough just to know that a model can make accurate predictions—\n",
        "# we also want to know how it's making predictions. \n",
        "# feature importance gives us insight into this.\n",
        "def rf_feat_importance(m, df):\n",
        "    return pd.DataFrame({'cols':df.columns, 'imp':m.feature_importances_}\n",
        "                       ).sort_values('imp', ascending=False)"
      ]
    },
    {
      "cell_type": "code",
      "execution_count": 345,
      "metadata": {
        "colab": {
          "base_uri": "https://localhost:8080/",
          "height": 359
        },
        "id": "DC2FbQdo5_T-",
        "outputId": "0f67f0ac-c3e9-44c3-b0ff-cb8a3eb80b59"
      },
      "outputs": [
        {
          "output_type": "execute_result",
          "data": {
            "text/plain": [
              "                          cols       imp\n",
              "13              Marital status  0.395372\n",
              "10        What is your course?  0.170712\n",
              "20            TimestampElapsed  0.154937\n",
              "9                          Age  0.107369\n",
              "11  Your current year of Study  0.081766\n",
              "12          What is your CGPA?  0.030814\n",
              "8           Choose your gender  0.018978\n",
              "19          TimestampDayofyear  0.013803\n",
              "17                TimestampDay  0.011558\n",
              "15              TimestampMonth  0.007656"
            ],
            "text/html": [
              "\n",
              "  <div id=\"df-5b614bde-76be-4e08-a8cd-fcb7d5ce5cf0\">\n",
              "    <div class=\"colab-df-container\">\n",
              "      <div>\n",
              "<style scoped>\n",
              "    .dataframe tbody tr th:only-of-type {\n",
              "        vertical-align: middle;\n",
              "    }\n",
              "\n",
              "    .dataframe tbody tr th {\n",
              "        vertical-align: top;\n",
              "    }\n",
              "\n",
              "    .dataframe thead th {\n",
              "        text-align: right;\n",
              "    }\n",
              "</style>\n",
              "<table border=\"1\" class=\"dataframe\">\n",
              "  <thead>\n",
              "    <tr style=\"text-align: right;\">\n",
              "      <th></th>\n",
              "      <th>cols</th>\n",
              "      <th>imp</th>\n",
              "    </tr>\n",
              "  </thead>\n",
              "  <tbody>\n",
              "    <tr>\n",
              "      <th>13</th>\n",
              "      <td>Marital status</td>\n",
              "      <td>0.395372</td>\n",
              "    </tr>\n",
              "    <tr>\n",
              "      <th>10</th>\n",
              "      <td>What is your course?</td>\n",
              "      <td>0.170712</td>\n",
              "    </tr>\n",
              "    <tr>\n",
              "      <th>20</th>\n",
              "      <td>TimestampElapsed</td>\n",
              "      <td>0.154937</td>\n",
              "    </tr>\n",
              "    <tr>\n",
              "      <th>9</th>\n",
              "      <td>Age</td>\n",
              "      <td>0.107369</td>\n",
              "    </tr>\n",
              "    <tr>\n",
              "      <th>11</th>\n",
              "      <td>Your current year of Study</td>\n",
              "      <td>0.081766</td>\n",
              "    </tr>\n",
              "    <tr>\n",
              "      <th>12</th>\n",
              "      <td>What is your CGPA?</td>\n",
              "      <td>0.030814</td>\n",
              "    </tr>\n",
              "    <tr>\n",
              "      <th>8</th>\n",
              "      <td>Choose your gender</td>\n",
              "      <td>0.018978</td>\n",
              "    </tr>\n",
              "    <tr>\n",
              "      <th>19</th>\n",
              "      <td>TimestampDayofyear</td>\n",
              "      <td>0.013803</td>\n",
              "    </tr>\n",
              "    <tr>\n",
              "      <th>17</th>\n",
              "      <td>TimestampDay</td>\n",
              "      <td>0.011558</td>\n",
              "    </tr>\n",
              "    <tr>\n",
              "      <th>15</th>\n",
              "      <td>TimestampMonth</td>\n",
              "      <td>0.007656</td>\n",
              "    </tr>\n",
              "  </tbody>\n",
              "</table>\n",
              "</div>\n",
              "      <button class=\"colab-df-convert\" onclick=\"convertToInteractive('df-5b614bde-76be-4e08-a8cd-fcb7d5ce5cf0')\"\n",
              "              title=\"Convert this dataframe to an interactive table.\"\n",
              "              style=\"display:none;\">\n",
              "        \n",
              "  <svg xmlns=\"http://www.w3.org/2000/svg\" height=\"24px\"viewBox=\"0 0 24 24\"\n",
              "       width=\"24px\">\n",
              "    <path d=\"M0 0h24v24H0V0z\" fill=\"none\"/>\n",
              "    <path d=\"M18.56 5.44l.94 2.06.94-2.06 2.06-.94-2.06-.94-.94-2.06-.94 2.06-2.06.94zm-11 1L8.5 8.5l.94-2.06 2.06-.94-2.06-.94L8.5 2.5l-.94 2.06-2.06.94zm10 10l.94 2.06.94-2.06 2.06-.94-2.06-.94-.94-2.06-.94 2.06-2.06.94z\"/><path d=\"M17.41 7.96l-1.37-1.37c-.4-.4-.92-.59-1.43-.59-.52 0-1.04.2-1.43.59L10.3 9.45l-7.72 7.72c-.78.78-.78 2.05 0 2.83L4 21.41c.39.39.9.59 1.41.59.51 0 1.02-.2 1.41-.59l7.78-7.78 2.81-2.81c.8-.78.8-2.07 0-2.86zM5.41 20L4 18.59l7.72-7.72 1.47 1.35L5.41 20z\"/>\n",
              "  </svg>\n",
              "      </button>\n",
              "      \n",
              "  <style>\n",
              "    .colab-df-container {\n",
              "      display:flex;\n",
              "      flex-wrap:wrap;\n",
              "      gap: 12px;\n",
              "    }\n",
              "\n",
              "    .colab-df-convert {\n",
              "      background-color: #E8F0FE;\n",
              "      border: none;\n",
              "      border-radius: 50%;\n",
              "      cursor: pointer;\n",
              "      display: none;\n",
              "      fill: #1967D2;\n",
              "      height: 32px;\n",
              "      padding: 0 0 0 0;\n",
              "      width: 32px;\n",
              "    }\n",
              "\n",
              "    .colab-df-convert:hover {\n",
              "      background-color: #E2EBFA;\n",
              "      box-shadow: 0px 1px 2px rgba(60, 64, 67, 0.3), 0px 1px 3px 1px rgba(60, 64, 67, 0.15);\n",
              "      fill: #174EA6;\n",
              "    }\n",
              "\n",
              "    [theme=dark] .colab-df-convert {\n",
              "      background-color: #3B4455;\n",
              "      fill: #D2E3FC;\n",
              "    }\n",
              "\n",
              "    [theme=dark] .colab-df-convert:hover {\n",
              "      background-color: #434B5C;\n",
              "      box-shadow: 0px 1px 3px 1px rgba(0, 0, 0, 0.15);\n",
              "      filter: drop-shadow(0px 1px 2px rgba(0, 0, 0, 0.3));\n",
              "      fill: #FFFFFF;\n",
              "    }\n",
              "  </style>\n",
              "\n",
              "      <script>\n",
              "        const buttonEl =\n",
              "          document.querySelector('#df-5b614bde-76be-4e08-a8cd-fcb7d5ce5cf0 button.colab-df-convert');\n",
              "        buttonEl.style.display =\n",
              "          google.colab.kernel.accessAllowed ? 'block' : 'none';\n",
              "\n",
              "        async function convertToInteractive(key) {\n",
              "          const element = document.querySelector('#df-5b614bde-76be-4e08-a8cd-fcb7d5ce5cf0');\n",
              "          const dataTable =\n",
              "            await google.colab.kernel.invokeFunction('convertToInteractive',\n",
              "                                                     [key], {});\n",
              "          if (!dataTable) return;\n",
              "\n",
              "          const docLinkHtml = 'Like what you see? Visit the ' +\n",
              "            '<a target=\"_blank\" href=https://colab.research.google.com/notebooks/data_table.ipynb>data table notebook</a>'\n",
              "            + ' to learn more about interactive tables.';\n",
              "          element.innerHTML = '';\n",
              "          dataTable['output_type'] = 'display_data';\n",
              "          await google.colab.output.renderOutput(dataTable, element);\n",
              "          const docLink = document.createElement('div');\n",
              "          docLink.innerHTML = docLinkHtml;\n",
              "          element.appendChild(docLink);\n",
              "        }\n",
              "      </script>\n",
              "    </div>\n",
              "  </div>\n",
              "  "
            ]
          },
          "metadata": {},
          "execution_count": 345
        }
      ],
      "source": [
        "fi = rf_feat_importance(m, xs)\n",
        "fi[:10]"
      ]
    },
    {
      "cell_type": "code",
      "execution_count": 346,
      "metadata": {
        "colab": {
          "base_uri": "https://localhost:8080/",
          "height": 330
        },
        "id": "r8pY-QkE6BnK",
        "outputId": "f19fdf52-704b-4b07-a14d-add39e548577"
      },
      "outputs": [
        {
          "output_type": "display_data",
          "data": {
            "text/plain": [
              "<Figure size 864x504 with 1 Axes>"
            ],
            "image/png": "[encoded data removed]"
          },
          "metadata": {
            "needs_background": "light"
          }
        }
      ],
      "source": [
        "def plot_fi(fi):\n",
        "    return fi.plot('cols', 'imp', 'barh', figsize=(12,7), legend=False)\n",
        "\n",
        "plot_fi(fi[:30]);"
      ]
    },
    {
      "cell_type": "code",
      "execution_count": 347,
      "metadata": {
        "id": "LxuzNdbQ6QvS"
      },
      "outputs": [],
      "source": [
        "# remove low importance features\n",
        "to_keep = fi[fi.imp>0.005].cols"
      ]
    },
    {
      "cell_type": "code",
      "execution_count": 348,
      "metadata": {
        "id": "XdFWsrJo6Uqx"
      },
      "outputs": [],
      "source": [
        "xs_imp = xs[to_keep]\n",
        "valid_xs_imp = valid_xs[to_keep]"
      ]
    },
    {
      "cell_type": "code",
      "execution_count": 349,
      "metadata": {
        "id": "D8BslTqR6WXG"
      },
      "outputs": [],
      "source": [
        "m = rf(xs_imp, y)"
      ]
    },
    {
      "cell_type": "code",
      "execution_count": 350,
      "metadata": {
        "colab": {
          "base_uri": "https://localhost:8080/",
          "height": 364
        },
        "id": "oLu_DNgx6cnR",
        "outputId": "908ad5ae-03a3-4cfe-b735-728ace1ea729"
      },
      "outputs": [
        {
          "output_type": "display_data",
          "data": {
            "text/plain": [
              "<Figure size 864x504 with 1 Axes>"
            ],
            "image/png": "[encoded data removed]"
          },
          "metadata": {
            "needs_background": "light"
          }
        }
      ],
      "source": [
        "plot_fi(rf_feat_importance(m, xs_imp));"
      ]
    },
    {
      "cell_type": "code",
      "execution_count": 351,
      "metadata": {
        "id": "2IQEceTi6eZT"
      },
      "outputs": [],
      "source": [
        "# remove redundant features: fields which might be so closely \n",
        "# correlated they are practically synonyms for each other\n",
        "def get_oob(df):\n",
        "    m = RandomForestRegressor(n_estimators=20, min_samples_leaf=15,\n",
        "        max_samples=73, max_features=0.5, n_jobs=-1, oob_score=True)\n",
        "    m.fit(df, y)\n",
        "    return m.oob_score_"
      ]
    },
    {
      "cell_type": "code",
      "execution_count": 352,
      "metadata": {
        "colab": {
          "base_uri": "https://localhost:8080/"
        },
        "id": "M_gnzjzI8cUt",
        "outputId": "41727d8c-e449-4bea-f48f-90a0266ab452"
      },
      "outputs": [
        {
          "output_type": "execute_result",
          "data": {
            "text/plain": [
              "-0.06748681554984493"
            ]
          },
          "metadata": {},
          "execution_count": 352
        }
      ],
      "source": [
        "to_drop = ['TimestampDayofweek', 'TimestampMonth', 'TimestampElapsed']\n",
        "get_oob(xs_imp.drop(to_drop, axis=1))"
      ]
    },
    {
      "cell_type": "code",
      "execution_count": 353,
      "metadata": {
        "id": "ThlorG-Z8xfR"
      },
      "outputs": [],
      "source": [
        "xs_final = xs_imp.drop(to_drop, axis=1)\n",
        "valid_xs_final = valid_xs_imp.drop(to_drop, axis=1)"
      ]
    },
    {
      "cell_type": "code",
      "execution_count": 354,
      "metadata": {
        "id": "hRRr0OgI88rJ"
      },
      "outputs": [],
      "source": [
        "save_pickle('xs_final.pkl', xs_final)\n",
        "save_pickle('valid_xs_final.pkl', valid_xs_final)"
      ]
    },
    {
      "cell_type": "code",
      "execution_count": 355,
      "metadata": {
        "id": "FqX7gkie812y"
      },
      "outputs": [],
      "source": [
        "xs_final = load_pickle('xs_final.pkl')\n",
        "valid_xs_final = load_pickle('valid_xs_final.pkl')"
      ]
    },
    {
      "cell_type": "code",
      "execution_count": 356,
      "metadata": {
        "colab": {
          "base_uri": "https://localhost:8080/"
        },
        "id": "5NAX8Xnh832n",
        "outputId": "2696317f-aac9-49b2-e5a6-bff33317c905"
      },
      "outputs": [
        {
          "output_type": "execute_result",
          "data": {
            "text/plain": [
              "(0.850584, 0.745924)"
            ]
          },
          "metadata": {},
          "execution_count": 356
        }
      ],
      "source": [
        "m = rf(xs_final, y)\n",
        "m_rmse(m, xs_final, y), m_rmse(m, valid_xs_final, valid_y)"
      ]
    },
    {
      "cell_type": "code",
      "execution_count": 357,
      "metadata": {
        "colab": {
          "base_uri": "https://localhost:8080/",
          "height": 265
        },
        "id": "K5gSlUoS9B7a",
        "outputId": "6cf4e219-7e93-4572-c093-139054f82a24"
      },
      "outputs": [
        {
          "output_type": "display_data",
          "data": {
            "text/plain": [
              "<Figure size 432x288 with 1 Axes>"
            ],
            "image/png": "[encoded data removed]"
          },
          "metadata": {
            "needs_background": "light"
          }
        }
      ],
      "source": [
        "# We'd like to understand the relationship between these predictors\n",
        "ax = valid_xs_final['Your current year of Study'].hist()"
      ]
    },
    {
      "cell_type": "code",
      "execution_count": 358,
      "metadata": {
        "colab": {
          "base_uri": "https://localhost:8080/",
          "height": 271
        },
        "id": "dnSPqBMu9zIH",
        "outputId": "95210f9c-e98e-4adf-a1c7-63688c1237e2"
      },
      "outputs": [
        {
          "output_type": "display_data",
          "data": {
            "text/plain": [
              "<Figure size 864x288 with 3 Axes>"
            ],
            "image/png": "[encoded data removed]"
          },
          "metadata": {
            "needs_background": "light"
          }
        }
      ],
      "source": [
        "# plot partial dependence\n",
        "from sklearn.inspection import plot_partial_dependence\n",
        "\n",
        "fig,ax = plt.subplots(figsize=(12, 4))\n",
        "plot_partial_dependence(m, valid_xs_final, ['Your current year of Study','What is your CGPA?'],\n",
        "                        grid_resolution=20, ax=ax);"
      ]
    },
    {
      "cell_type": "code",
      "execution_count": 359,
      "metadata": {
        "id": "6Oyfpb4t_NJB"
      },
      "outputs": [],
      "source": [
        "# tree interpreter: find out how much changing one variable\n",
        "# effects the whole models accuracy\n",
        "row = valid_xs_final.iloc[:5]"
      ]
    },
    {
      "cell_type": "code",
      "execution_count": 360,
      "metadata": {
        "id": "9YJzkImiASN2"
      },
      "outputs": [],
      "source": [
        "prediction,bias,contributions = treeinterpreter.predict(m, row.values)"
      ]
    },
    {
      "cell_type": "code",
      "execution_count": 361,
      "metadata": {
        "id": "kQJEGwnCAX5Q",
        "colab": {
          "base_uri": "https://localhost:8080/",
          "height": 297
        },
        "outputId": "6b0406cb-f19d-4d00-bb8c-22dd81bd036e"
      },
      "outputs": [
        {
          "output_type": "display_data",
          "data": {
            "text/plain": [
              "<Figure size 432x288 with 1 Axes>"
            ],
            "image/png": "[encoded data removed]"
          },
          "metadata": {
            "needs_background": "light"
          }
        }
      ],
      "source": [
        "waterfall(valid_xs_final.columns, contributions[0], threshold=0.08, \n",
        "          rotation_value=45,formatting='{:,.3f}');"
      ]
    },
    {
      "cell_type": "markdown",
      "source": [
        "# Neural Networks\n",
        "\n",
        "\n",
        "- A problem with random forests, like all machine learning or deep learning algorithms, is that they don't always generalize well to new data. \n",
        "\n",
        "- So we use a nerual network to remedy this."
      ],
      "metadata": {
        "id": "8MnUvd8KD8Op"
      }
    },
    {
      "cell_type": "code",
      "source": [
        "# extrapolate\n",
        "np.random.seed(42)"
      ],
      "metadata": {
        "id": "i6UG_3fZD8Ag"
      },
      "execution_count": 362,
      "outputs": []
    },
    {
      "cell_type": "code",
      "source": [
        "x_lin = torch.linspace(0,20, steps=40)\n",
        "y_lin = x_lin + torch.randn_like(x_lin)\n",
        "plt.scatter(x_lin, y_lin);"
      ],
      "metadata": {
        "colab": {
          "base_uri": "https://localhost:8080/",
          "height": 265
        },
        "id": "k7x3r6s6EoKB",
        "outputId": "1f73aabf-2a86-44c6-ccfd-44a5b3022cae"
      },
      "execution_count": 363,
      "outputs": [
        {
          "output_type": "display_data",
          "data": {
            "text/plain": [
              "<Figure size 432x288 with 1 Axes>"
            ],
            "image/png": "[encoded data removed]"
          },
          "metadata": {
            "needs_background": "light"
          }
        }
      ]
    },
    {
      "cell_type": "code",
      "source": [
        "xs_lin = x_lin.unsqueeze(1)"
      ],
      "metadata": {
        "id": "4NR7dn4jEpfu"
      },
      "execution_count": 364,
      "outputs": []
    },
    {
      "cell_type": "code",
      "source": [
        "m_lin = RandomForestRegressor().fit(xs_lin[:30],y_lin[:30])"
      ],
      "metadata": {
        "id": "R8Wp4LrmEr12"
      },
      "execution_count": 365,
      "outputs": []
    },
    {
      "cell_type": "code",
      "source": [
        "plt.scatter(x_lin, y_lin, 20)\n",
        "plt.scatter(x_lin, m_lin.predict(xs_lin), color='red', alpha=0.5);"
      ],
      "metadata": {
        "colab": {
          "base_uri": "https://localhost:8080/",
          "height": 265
        },
        "id": "Rvwn5HCzEtmI",
        "outputId": "55f45ca0-ff02-438d-bb0f-92099cba6100"
      },
      "execution_count": 366,
      "outputs": [
        {
          "output_type": "display_data",
          "data": {
            "text/plain": [
              "<Figure size 432x288 with 1 Axes>"
            ],
            "image/png": "[encoded data removed]"
          },
          "metadata": {
            "needs_background": "light"
          }
        }
      ]
    },
    {
      "cell_type": "code",
      "source": [
        "# find out of domain data\n",
        "df_dom = pd.concat([xs_final, valid_xs_final])\n",
        "is_valid = np.array([0]*len(xs_final) + [1]*len(valid_xs_final))\n",
        "\n",
        "m = rf(df_dom, is_valid)\n",
        "rf_feat_importance(m, df_dom)[:6]"
      ],
      "metadata": {
        "colab": {
          "base_uri": "https://localhost:8080/",
          "height": 235
        },
        "id": "QScF8SB9EvI1",
        "outputId": "e9f4b4c4-0261-4a31-b47d-1add55ec79f8"
      },
      "execution_count": 367,
      "outputs": [
        {
          "output_type": "execute_result",
          "data": {
            "text/plain": [
              "                         cols       imp\n",
              "1        What is your course?  0.527359\n",
              "3  Your current year of Study  0.154247\n",
              "7                TimestampDay  0.141292\n",
              "2                         Age  0.098862\n",
              "6          TimestampDayofyear  0.023725\n",
              "4          What is your CGPA?  0.020251"
            ],
            "text/html": [
              "\n",
              "  <div id=\"df-8479dc5b-197b-4e7a-a878-2e293d2887f6\">\n",
              "    <div class=\"colab-df-container\">\n",
              "      <div>\n",
              "<style scoped>\n",
              "    .dataframe tbody tr th:only-of-type {\n",
              "        vertical-align: middle;\n",
              "    }\n",
              "\n",
              "    .dataframe tbody tr th {\n",
              "        vertical-align: top;\n",
              "    }\n",
              "\n",
              "    .dataframe thead th {\n",
              "        text-align: right;\n",
              "    }\n",
              "</style>\n",
              "<table border=\"1\" class=\"dataframe\">\n",
              "  <thead>\n",
              "    <tr style=\"text-align: right;\">\n",
              "      <th></th>\n",
              "      <th>cols</th>\n",
              "      <th>imp</th>\n",
              "    </tr>\n",
              "  </thead>\n",
              "  <tbody>\n",
              "    <tr>\n",
              "      <th>1</th>\n",
              "      <td>What is your course?</td>\n",
              "      <td>0.527359</td>\n",
              "    </tr>\n",
              "    <tr>\n",
              "      <th>3</th>\n",
              "      <td>Your current year of Study</td>\n",
              "      <td>0.154247</td>\n",
              "    </tr>\n",
              "    <tr>\n",
              "      <th>7</th>\n",
              "      <td>TimestampDay</td>\n",
              "      <td>0.141292</td>\n",
              "    </tr>\n",
              "    <tr>\n",
              "      <th>2</th>\n",
              "      <td>Age</td>\n",
              "      <td>0.098862</td>\n",
              "    </tr>\n",
              "    <tr>\n",
              "      <th>6</th>\n",
              "      <td>TimestampDayofyear</td>\n",
              "      <td>0.023725</td>\n",
              "    </tr>\n",
              "    <tr>\n",
              "      <th>4</th>\n",
              "      <td>What is your CGPA?</td>\n",
              "      <td>0.020251</td>\n",
              "    </tr>\n",
              "  </tbody>\n",
              "</table>\n",
              "</div>\n",
              "      <button class=\"colab-df-convert\" onclick=\"convertToInteractive('df-8479dc5b-197b-4e7a-a878-2e293d2887f6')\"\n",
              "              title=\"Convert this dataframe to an interactive table.\"\n",
              "              style=\"display:none;\">\n",
              "        \n",
              "  <svg xmlns=\"http://www.w3.org/2000/svg\" height=\"24px\"viewBox=\"0 0 24 24\"\n",
              "       width=\"24px\">\n",
              "    <path d=\"M0 0h24v24H0V0z\" fill=\"none\"/>\n",
              "    <path d=\"M18.56 5.44l.94 2.06.94-2.06 2.06-.94-2.06-.94-.94-2.06-.94 2.06-2.06.94zm-11 1L8.5 8.5l.94-2.06 2.06-.94-2.06-.94L8.5 2.5l-.94 2.06-2.06.94zm10 10l.94 2.06.94-2.06 2.06-.94-2.06-.94-.94-2.06-.94 2.06-2.06.94z\"/><path d=\"M17.41 7.96l-1.37-1.37c-.4-.4-.92-.59-1.43-.59-.52 0-1.04.2-1.43.59L10.3 9.45l-7.72 7.72c-.78.78-.78 2.05 0 2.83L4 21.41c.39.39.9.59 1.41.59.51 0 1.02-.2 1.41-.59l7.78-7.78 2.81-2.81c.8-.78.8-2.07 0-2.86zM5.41 20L4 18.59l7.72-7.72 1.47 1.35L5.41 20z\"/>\n",
              "  </svg>\n",
              "      </button>\n",
              "      \n",
              "  <style>\n",
              "    .colab-df-container {\n",
              "      display:flex;\n",
              "      flex-wrap:wrap;\n",
              "      gap: 12px;\n",
              "    }\n",
              "\n",
              "    .colab-df-convert {\n",
              "      background-color: #E8F0FE;\n",
              "      border: none;\n",
              "      border-radius: 50%;\n",
              "      cursor: pointer;\n",
              "      display: none;\n",
              "      fill: #1967D2;\n",
              "      height: 32px;\n",
              "      padding: 0 0 0 0;\n",
              "      width: 32px;\n",
              "    }\n",
              "\n",
              "    .colab-df-convert:hover {\n",
              "      background-color: #E2EBFA;\n",
              "      box-shadow: 0px 1px 2px rgba(60, 64, 67, 0.3), 0px 1px 3px 1px rgba(60, 64, 67, 0.15);\n",
              "      fill: #174EA6;\n",
              "    }\n",
              "\n",
              "    [theme=dark] .colab-df-convert {\n",
              "      background-color: #3B4455;\n",
              "      fill: #D2E3FC;\n",
              "    }\n",
              "\n",
              "    [theme=dark] .colab-df-convert:hover {\n",
              "      background-color: #434B5C;\n",
              "      box-shadow: 0px 1px 3px 1px rgba(0, 0, 0, 0.15);\n",
              "      filter: drop-shadow(0px 1px 2px rgba(0, 0, 0, 0.3));\n",
              "      fill: #FFFFFF;\n",
              "    }\n",
              "  </style>\n",
              "\n",
              "      <script>\n",
              "        const buttonEl =\n",
              "          document.querySelector('#df-8479dc5b-197b-4e7a-a878-2e293d2887f6 button.colab-df-convert');\n",
              "        buttonEl.style.display =\n",
              "          google.colab.kernel.accessAllowed ? 'block' : 'none';\n",
              "\n",
              "        async function convertToInteractive(key) {\n",
              "          const element = document.querySelector('#df-8479dc5b-197b-4e7a-a878-2e293d2887f6');\n",
              "          const dataTable =\n",
              "            await google.colab.kernel.invokeFunction('convertToInteractive',\n",
              "                                                     [key], {});\n",
              "          if (!dataTable) return;\n",
              "\n",
              "          const docLinkHtml = 'Like what you see? Visit the ' +\n",
              "            '<a target=\"_blank\" href=https://colab.research.google.com/notebooks/data_table.ipynb>data table notebook</a>'\n",
              "            + ' to learn more about interactive tables.';\n",
              "          element.innerHTML = '';\n",
              "          dataTable['output_type'] = 'display_data';\n",
              "          await google.colab.output.renderOutput(dataTable, element);\n",
              "          const docLink = document.createElement('div');\n",
              "          docLink.innerHTML = docLinkHtml;\n",
              "          element.appendChild(docLink);\n",
              "        }\n",
              "      </script>\n",
              "    </div>\n",
              "  </div>\n",
              "  "
            ]
          },
          "metadata": {},
          "execution_count": 367
        }
      ]
    },
    {
      "cell_type": "code",
      "source": [
        "m = rf(xs_final, y)\n",
        "print('orig', m_rmse(m, valid_xs_final, valid_y))\n",
        "\n",
        "for c in ('TimestampDay','TimestampDayofyear'):\n",
        "    m = rf(xs_final.drop(c,axis=1), y)\n",
        "    print(c, m_rmse(m, valid_xs_final.drop(c,axis=1), valid_y))"
      ],
      "metadata": {
        "colab": {
          "base_uri": "https://localhost:8080/"
        },
        "id": "a-svTebgEzBD",
        "outputId": "cac0fdc7-67bf-4ab2-eb29-28fd54f23925"
      },
      "execution_count": 368,
      "outputs": [
        {
          "output_type": "stream",
          "name": "stdout",
          "text": [
            "orig 0.804096\n",
            "TimestampDay 0.782592\n",
            "TimestampDayofyear 0.779805\n"
          ]
        }
      ]
    },
    {
      "cell_type": "code",
      "source": [
        "time_vars = ['TimestampDay','TimestampDayofyear']\n",
        "xs_final_time = xs_final.drop(time_vars, axis=1)\n",
        "valid_xs_time = valid_xs_final.drop(time_vars, axis=1)\n",
        "\n",
        "m = rf(xs_final_time, y)\n",
        "m_rmse(m, valid_xs_time, valid_y)"
      ],
      "metadata": {
        "colab": {
          "base_uri": "https://localhost:8080/"
        },
        "id": "yT89Sm-0FV3D",
        "outputId": "c14e9746-8420-41b0-8b43-5bd85d3bdc5a"
      },
      "execution_count": 369,
      "outputs": [
        {
          "output_type": "execute_result",
          "data": {
            "text/plain": [
              "0.770961"
            ]
          },
          "metadata": {},
          "execution_count": 369
        }
      ]
    },
    {
      "cell_type": "code",
      "source": [
        "xs['What is your course?'].hist();"
      ],
      "metadata": {
        "colab": {
          "base_uri": "https://localhost:8080/",
          "height": 265
        },
        "id": "PH9khUobFdNi",
        "outputId": "f2349d5f-2ee0-421f-c2c0-ede302f7292c"
      },
      "execution_count": 370,
      "outputs": [
        {
          "output_type": "display_data",
          "data": {
            "text/plain": [
              "<Figure size 432x288 with 1 Axes>"
            ],
            "image/png": "[encoded data removed]"
          },
          "metadata": {
            "needs_background": "light"
          }
        }
      ]
    },
    {
      "cell_type": "code",
      "source": [
        "filt = xs['What is your course?']<11\n",
        "xs_filt = xs_final_time[filt]\n",
        "y_filt = y[filt]"
      ],
      "metadata": {
        "id": "UneSY4ZJFmVx"
      },
      "execution_count": 371,
      "outputs": []
    },
    {
      "cell_type": "code",
      "source": [
        "def rf(xs, y, n_estimators=20, max_samples=43,\n",
        "       max_features=0.5, min_samples_leaf=5, **kwargs):\n",
        "    return RandomForestRegressor(n_jobs=-1, n_estimators=n_estimators,\n",
        "        max_samples=max_samples, max_features=max_features,\n",
        "        min_samples_leaf=min_samples_leaf, oob_score=True).fit(xs, y)"
      ],
      "metadata": {
        "id": "MNFWsYq6G0WE"
      },
      "execution_count": 374,
      "outputs": []
    },
    {
      "cell_type": "code",
      "source": [
        "m = rf(xs_filt, y_filt)\n",
        "m_rmse(m, xs_filt, y_filt), m_rmse(m, valid_xs_time, valid_y)"
      ],
      "metadata": {
        "colab": {
          "base_uri": "https://localhost:8080/"
        },
        "id": "oitkrynPF4tY",
        "outputId": "484d0782-9580-4faf-ee04-2ce1600718b6"
      },
      "execution_count": 375,
      "outputs": [
        {
          "output_type": "execute_result",
          "data": {
            "text/plain": [
              "(0.880229, 0.746801)"
            ]
          },
          "metadata": {},
          "execution_count": 375
        }
      ]
    },
    {
      "cell_type": "code",
      "source": [
        "# better use a neural network, instead ..."
      ],
      "metadata": {
        "id": "c2D7pAT_G3Dt"
      },
      "execution_count": null,
      "outputs": []
    }
  ],
  "metadata": {
    "accelerator": "GPU",
    "colab": {
      "collapsed_sections": [],
      "name": "mental_health_predictor.ipynb",
      "provenance": []
    },
    "gpuClass": "standard",
    "kernelspec": {
      "display_name": "Python 3",
      "name": "python3"
    },
    "language_info": {
      "name": "python"
    }
  },
  "nbformat": 4,
  "nbformat_minor": 0
}